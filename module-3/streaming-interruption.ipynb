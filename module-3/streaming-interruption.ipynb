{
 "cells": [
  {
   "cell_type": "markdown",
   "id": "319adfec-2d0a-49f2-87f9-275c4a32add2",
   "metadata": {},
   "source": [
    "# Streaming and interruption\n",
    "\n",
    "## Review\n",
    "\n",
    "In module 2, we built a deeper understanding of both state and memory.\n",
    "\n",
    "We worked up to a Chatbot with external memory that uses a few tricks (e.g., message history summarization). \n",
    "\n",
    "## Goals\n",
    "\n",
    "In this module, we're going to explore another major area of focus for LangGraph, which is `human-in-the-loop`.\n",
    "\n",
    "As mentioned, this is a simple Human-in-the-loop (HIL) interaction! \n",
    "\n",
    "These interactions are crucial for many agentic systems, and one of the most common use-cases is tool-use-approval.\n",
    "\n",
    "For example, many tools (e.g., database actions, writing to external systems) may be sensitive and require human approval before execution.\n",
    "\n",
    "We'll built up to an agent that uses human-in-the-loop for tool approval. \n",
    "\n",
    "But, first, we'll introduce the simplest form of human-in-the-loop -- just interrupting the graph -- along with streaming.\n",
    "\n",
    "--- \n",
    "\n",
    "TO ADD: \n",
    " \n",
    "* token by token streaming (astream events)\n",
    "* cover messages mode (from API)"
   ]
  },
  {
   "cell_type": "code",
   "execution_count": null,
   "id": "db024d1f-feb3-45a0-a55c-e7712a1feefa",
   "metadata": {},
   "outputs": [],
   "source": [
    "%%capture --no-stderr\n",
    "%pip install --quiet -U langgraph langchain_anthropic"
   ]
  },
  {
   "cell_type": "markdown",
   "id": "70d7e41b-c6ba-4e47-b645-6c110bede549",
   "metadata": {},
   "source": [
    "## Streaming\n",
    "\n",
    "First, let's set up our chatbot."
   ]
  },
  {
   "cell_type": "code",
   "execution_count": null,
   "id": "5b430d92-f595-4322-a56e-06de7485daa8",
   "metadata": {},
   "outputs": [],
   "source": [
    "import os, getpass\n",
    "\n",
    "def _set_env(var: str):\n",
    "    if not os.environ.get(var):\n",
    "        os.environ[var] = getpass.getpass(f\"{var}: \")\n",
    "\n",
    "_set_env(\"ANTHROPIC_API_KEY\")"
   ]
  },
  {
   "cell_type": "code",
   "execution_count": 1,
   "id": "2d7321e0-0d99-4efe-a67b-74c12271859b",
   "metadata": {},
   "outputs": [
    {
     "data": {
      "image/jpeg": "[encoded data removed]",
      "text/plain": [
       "<IPython.core.display.Image object>"
      ]
     },
     "metadata": {},
     "output_type": "display_data"
    }
   ],
   "source": [
    "from IPython.display import Image, display\n",
    "\n",
    "from langchain_anthropic import ChatAnthropic\n",
    "from langchain_core.messages import SystemMessage, HumanMessage, RemoveMessage\n",
    "\n",
    "from langgraph.checkpoint.memory import MemorySaver\n",
    "from langgraph.graph import StateGraph, START, END\n",
    "from langgraph.graph import MessagesState\n",
    "\n",
    "# LLM\n",
    "model = ChatAnthropic(model=\"claude-3-5-sonnet-20240620\", temperature=0) \n",
    "\n",
    "# State \n",
    "class State(MessagesState):\n",
    "    summary: str\n",
    "\n",
    "# Define the logic to call the model\n",
    "def call_model(state: State):\n",
    "    \n",
    "    # Get summary if it exists\n",
    "    summary = state.get(\"summary\", \"\")\n",
    "\n",
    "    # If there is summary, then we add it\n",
    "    if summary:\n",
    "        \n",
    "        # Add summary to system message\n",
    "        system_message = f\"Summary of conversation earlier: {summary}\"\n",
    "\n",
    "        # Append summary to any newer messages\n",
    "        messages = [SystemMessage(content=system_message)] + state[\"messages\"]\n",
    "    \n",
    "    else:\n",
    "        messages = state[\"messages\"]\n",
    "    \n",
    "    response = model.invoke(messages)\n",
    "    return {\"messages\": response}\n",
    "\n",
    "def summarize_conversation(state: State):\n",
    "    \n",
    "    # First, we get any existing summary\n",
    "    summary = state.get(\"summary\", \"\")\n",
    "\n",
    "    # Create our summarization prompt \n",
    "    if summary:\n",
    "        \n",
    "        # A summary already exists\n",
    "        summary_message = (\n",
    "            f\"This is summary of the conversation to date: {summary}\\n\\n\"\n",
    "            \"Extend the summary by taking into account the new messages above:\"\n",
    "        )\n",
    "        \n",
    "    else:\n",
    "        summary_message = \"Create a summary of the conversation above:\"\n",
    "\n",
    "    # Add prompt to our history\n",
    "    messages = state[\"messages\"] + [HumanMessage(content=summary_message)]\n",
    "    response = model.invoke(messages)\n",
    "    \n",
    "    # Delete all but the 2 most recent messages\n",
    "    delete_messages = [RemoveMessage(id=m.id) for m in state[\"messages\"][:-2]]\n",
    "    return {\"summary\": response.content, \"messages\": delete_messages}\n",
    "\n",
    "# Determine whether to end or summarize the conversation\n",
    "def should_continue(state: State):\n",
    "    \n",
    "    \"\"\"Return the next node to execute.\"\"\"\n",
    "    \n",
    "    messages = state[\"messages\"]\n",
    "    \n",
    "    # If there are more than six messages, then we summarize the conversation\n",
    "    if len(messages) > 6:\n",
    "        return \"summarize_conversation\"\n",
    "    \n",
    "    # Otherwise we can just end\n",
    "    return END\n",
    "\n",
    "# Define a new graph\n",
    "workflow = StateGraph(State)\n",
    "workflow.add_node(\"conversation\", call_model)\n",
    "workflow.add_node(summarize_conversation)\n",
    "\n",
    "# Set the entrypoint as conversation\n",
    "workflow.add_edge(START, \"conversation\")\n",
    "workflow.add_conditional_edges(\"conversation\", should_continue)\n",
    "workflow.add_edge(\"summarize_conversation\", END)\n",
    "\n",
    "# Compile\n",
    "memory = MemorySaver()\n",
    "graph = workflow.compile(checkpointer=memory)\n",
    "display(Image(graph.get_graph().draw_mermaid_png()))"
   ]
  },
  {
   "cell_type": "markdown",
   "id": "f847a787-b301-488c-9b58-cba9f389f55d",
   "metadata": {},
   "source": [
    "Every compiled LangGraph implements the [runnable](https://python.langchain.com/v0.1/docs/expression_language/interface/) protocol.\n",
    "\n",
    "This provides a standard way to execute LangChain components. \n",
    " \n",
    "`stream` is one of the standard methods in this interface.\n",
    "\n",
    "But, LangGraph supports multiple streaming modes:\n",
    " \n",
    "* `values`: This streams the full state of the graph after each node is called.\n",
    "* `updates`: This streams updates to the state of the graph after each node is called.\n",
    "\n",
    "Lets examine `stream_mode=\"updates\"`.\n",
    "\n",
    "Here, we can see that updates only include the `AIMessage` response after the `conversation` node is called."
   ]
  },
  {
   "cell_type": "code",
   "execution_count": 2,
   "id": "0beba71e-0867-4bef-a55f-57607d933bf1",
   "metadata": {},
   "outputs": [
    {
     "name": "stdout",
     "output_type": "stream",
     "text": [
      "==================================\u001b[1m Ai Message \u001b[0m==================================\n",
      "\n",
      "Hello Lance! It's nice to meet you. I'm an AI assistant. How can I help you today? Is there anything specific you'd like to chat about or any questions you have?\n"
     ]
    }
   ],
   "source": [
    "# Create a thread\n",
    "config = {\"configurable\": {\"thread_id\": \"1\"}}\n",
    "\n",
    "# Start conversation\n",
    "input_message = HumanMessage(content=\"hi! I'm Lance\")\n",
    "for event in graph.stream({\"messages\": [input_message]}, config, stream_mode=\"updates\"):\n",
    "    for v in event.values():\n",
    "        v['messages'].pretty_print()"
   ]
  },
  {
   "cell_type": "markdown",
   "id": "583bf219-6358-4d06-ae99-c40f43569fda",
   "metadata": {},
   "source": [
    "Now, we can see `stream_mode=\"values\"`.\n",
    "\n",
    "This is the full state of the graph after the `conversation` node is called."
   ]
  },
  {
   "cell_type": "code",
   "execution_count": 3,
   "id": "700ecee5-e08b-429b-92d4-603de1ad2289",
   "metadata": {},
   "outputs": [
    {
     "name": "stdout",
     "output_type": "stream",
     "text": [
      "================================\u001b[1m Human Message \u001b[0m=================================\n",
      "\n",
      "hi! I'm Lance\n",
      "==================================\u001b[1m Ai Message \u001b[0m==================================\n",
      "\n",
      "Hello Lance! It's nice to meet you. How are you doing today? Is there anything I can help you with or would you like to chat about something in particular?\n"
     ]
    }
   ],
   "source": [
    "# Start conversation, again\n",
    "config = {\"configurable\": {\"thread_id\": \"2\"}}\n",
    "input_message = HumanMessage(content=\"hi! I'm Lance\")\n",
    "for event in graph.stream({\"messages\": [input_message]}, config, stream_mode=\"values\"):\n",
    "    event['messages'][-1].pretty_print()"
   ]
  },
  {
   "cell_type": "markdown",
   "id": "b208ba19-3820-466d-89a7-b7db94f594d0",
   "metadata": {},
   "source": [
    "Now, as discussed previously we can continue from the last saved checkoint in state by specifying our `thread_id`."
   ]
  },
  {
   "cell_type": "code",
   "execution_count": 4,
   "id": "3e505807-e35a-41bb-84c8-51684bd33479",
   "metadata": {},
   "outputs": [
    {
     "name": "stdout",
     "output_type": "stream",
     "text": [
      "================================\u001b[1m Human Message \u001b[0m=================================\n",
      "\n",
      "Tell me about the 49ers head coach\n",
      "==================================\u001b[1m Ai Message \u001b[0m==================================\n",
      "\n",
      "The current head coach of the San Francisco 49ers is Kyle Shanahan. Here are some key points about him:\n",
      "\n",
      "1. Kyle Shanahan was born on December 14, 1979, in Minneapolis, Minnesota.\n",
      "\n",
      "2. He was hired as the head coach of the San Francisco 49ers in February 2017.\n",
      "\n",
      "3. Shanahan is the son of Mike Shanahan, a former NFL head coach who won two Super Bowls with the Denver Broncos.\n",
      "\n",
      "4. Before becoming the 49ers' head coach, Kyle Shanahan served as an offensive coordinator for several NFL teams, including the Atlanta Falcons, Cleveland Browns, Washington Redskins, and Houston Texans.\n",
      "\n",
      "5. He is known for his innovative offensive schemes and play-calling abilities.\n",
      "\n",
      "6. Under Shanahan's leadership, the 49ers reached Super Bowl LIV in 2020, where they lost to the Kansas City Chiefs.\n",
      "\n",
      "7. He has led the team to three NFC Championship games (2019, 2021, and 2022 seasons).\n",
      "\n",
      "8. Shanahan signed a six-year contract extension with the 49ers in 2020, keeping him with the team through the 2025 season.\n",
      "\n",
      "9. He is widely regarded as one of the top offensive minds in the NFL.\n"
     ]
    }
   ],
   "source": [
    "# Continue\n",
    "input_message = HumanMessage(content=\"Tell me about the 49ers head coach\")\n",
    "for event in graph.stream({\"messages\": [input_message]}, config, stream_mode=\"values\"):\n",
    "    event['messages'][-1].pretty_print()"
   ]
  },
  {
   "cell_type": "markdown",
   "id": "faaffd90-9f7f-4b92-991d-c41acd5280ab",
   "metadata": {},
   "source": [
    "Now, let's use the crudest form of human-in-the-loop.\n",
    "\n",
    "Let's manually interrupt the graph."
   ]
  },
  {
   "cell_type": "code",
   "execution_count": 5,
   "id": "89974ea4-8584-4933-928d-66f1da44c106",
   "metadata": {},
   "outputs": [
    {
     "name": "stdout",
     "output_type": "stream",
     "text": [
      "================================\u001b[1m Human Message \u001b[0m=================================\n",
      "\n",
      "Who were his father's top players?\n",
      "KeyboardInterrupt occurred: \n"
     ]
    }
   ],
   "source": [
    "# Continue, but manually break\n",
    "input_message = HumanMessage(content=\"Who were his father's top players?\")\n",
    "\n",
    "try:\n",
    "    for event in graph.stream({\"messages\": [input_message]}, config, stream_mode=\"values\"):\n",
    "        event['messages'][-1].pretty_print()\n",
    "\n",
    "except KeyboardInterrupt as e:\n",
    "    print(f\"KeyboardInterrupt occurred: {e}\")"
   ]
  },
  {
   "cell_type": "markdown",
   "id": "ccf27b73-844f-41fd-8882-7954533457b6",
   "metadata": {},
   "source": [
    "We can see that this is interrupted by checking the values in our state."
   ]
  },
  {
   "cell_type": "code",
   "execution_count": 6,
   "id": "bcc5066b-0426-49ed-bc59-11850e99ab1c",
   "metadata": {},
   "outputs": [
    {
     "name": "stdout",
     "output_type": "stream",
     "text": [
      "================================\u001b[1m Human Message \u001b[0m=================================\n",
      "\n",
      "hi! I'm Lance\n",
      "==================================\u001b[1m Ai Message \u001b[0m==================================\n",
      "\n",
      "Hello Lance! It's nice to meet you. How are you doing today? Is there anything I can help you with or would you like to chat about something in particular?\n",
      "================================\u001b[1m Human Message \u001b[0m=================================\n",
      "\n",
      "Tell me about the 49ers head coach\n",
      "==================================\u001b[1m Ai Message \u001b[0m==================================\n",
      "\n",
      "The current head coach of the San Francisco 49ers is Kyle Shanahan. Here are some key points about him:\n",
      "\n",
      "1. Kyle Shanahan was born on December 14, 1979, in Minneapolis, Minnesota.\n",
      "\n",
      "2. He was hired as the head coach of the San Francisco 49ers in February 2017.\n",
      "\n",
      "3. Shanahan is the son of Mike Shanahan, a former NFL head coach who won two Super Bowls with the Denver Broncos.\n",
      "\n",
      "4. Before becoming the 49ers' head coach, Kyle Shanahan served as an offensive coordinator for several NFL teams, including the Atlanta Falcons, Cleveland Browns, Washington Redskins, and Houston Texans.\n",
      "\n",
      "5. He is known for his innovative offensive schemes and play-calling abilities.\n",
      "\n",
      "6. Under Shanahan's leadership, the 49ers reached Super Bowl LIV in 2020, where they lost to the Kansas City Chiefs.\n",
      "\n",
      "7. He has led the team to three NFC Championship games (2019, 2021, and 2022 seasons).\n",
      "\n",
      "8. Shanahan signed a six-year contract extension with the 49ers in 2020, keeping him with the team through the 2025 season.\n",
      "\n",
      "9. He is widely regarded as one of the top offensive minds in the NFL.\n",
      "================================\u001b[1m Human Message \u001b[0m=================================\n",
      "\n",
      "Who were his father's top players?\n"
     ]
    }
   ],
   "source": [
    "graph_state = graph.get_state(config)\n",
    "for m in graph_state.values['messages']:\n",
    "    m.pretty_print()"
   ]
  },
  {
   "cell_type": "markdown",
   "id": "c9bb7fbd-f497-4a58-80a6-228550d4649a",
   "metadata": {},
   "source": [
    "The chat model never responded to our question! \n",
    "\n",
    "Now, we'll introduce a nice trick.\n",
    "\n",
    "When we invoke the graph with `None`, it will continue from the last state.\n",
    "\n",
    "We can view the answer to our question!"
   ]
  },
  {
   "cell_type": "code",
   "execution_count": 7,
   "id": "3d2073c4-acff-4547-b589-fc3b6fbc22bd",
   "metadata": {},
   "outputs": [
    {
     "name": "stdout",
     "output_type": "stream",
     "text": [
      "==================================\u001b[1m Ai Message \u001b[0m==================================\n",
      "\n",
      "Mike Shanahan, Kyle's father, coached several notable players during his career, particularly during his successful tenure with the Denver Broncos. Some of his top players include:\n",
      "\n",
      "1. John Elway - Hall of Fame quarterback who won two Super Bowls under Mike Shanahan's coaching.\n",
      "\n",
      "2. Terrell Davis - Hall of Fame running back who was crucial to the Broncos' Super Bowl victories.\n",
      "\n",
      "3. Rod Smith - Pro Bowl wide receiver who played his entire career with the Broncos.\n",
      "\n",
      "4. Shannon Sharpe - Hall of Fame tight end who was a key part of the Broncos' offense.\n",
      "\n",
      "5. Steve Young - Hall of Fame quarterback whom Shanahan coached as offensive coordinator for the San Francisco 49ers.\n",
      "\n",
      "6. Clinton Portis - Pro Bowl running back who played under Shanahan in Denver and later in Washington.\n",
      "\n",
      "7. Champ Bailey - Hall of Fame cornerback who played for Shanahan in Denver.\n",
      "\n",
      "8. Al Wilson - Pro Bowl linebacker who anchored the Broncos' defense.\n",
      "\n",
      "9. Ed McCaffrey - Reliable wide receiver who was part of the Broncos' Super Bowl-winning teams.\n",
      "\n",
      "10. Gary Zimmerman - Hall of Fame offensive tackle who protected Elway's blind side.\n",
      "\n",
      "These players were instrumental in Mike Shanahan's success as a head coach, particularly during his time with the Denver Broncos.\n"
     ]
    }
   ],
   "source": [
    "for event in graph.stream(None, config, stream_mode=\"values\"):\n",
    "    event['messages'][-1].pretty_print()"
   ]
  },
  {
   "cell_type": "code",
   "execution_count": null,
   "id": "360ba35a-12a4-41c1-8e9d-29e4df8bd198",
   "metadata": {},
   "outputs": [],
   "source": []
  },
  {
   "cell_type": "code",
   "execution_count": null,
   "id": "1ae885f8-102f-448a-9d68-8ded8d2bbd18",
   "metadata": {},
   "outputs": [],
   "source": []
  }
 ],
 "metadata": {
  "kernelspec": {
   "display_name": "Python 3 (ipykernel)",
   "language": "python",
   "name": "python3"
  },
  "language_info": {
   "codemirror_mode": {
    "name": "ipython",
    "version": 3
   },
   "file_extension": ".py",
   "mimetype": "text/x-python",
   "name": "python",
   "nbconvert_exporter": "python",
   "pygments_lexer": "ipython3",
   "version": "3.11.8"
  }
 },
 "nbformat": 4,
 "nbformat_minor": 5
}

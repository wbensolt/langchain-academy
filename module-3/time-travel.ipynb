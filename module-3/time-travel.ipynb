{
 "cells": [
  {
   "cell_type": "markdown",
   "id": "ba98beac-d461-4d7d-878a-11beca03ea1c",
   "metadata": {},
   "source": [
    "# Time travel\n",
    "\n",
    "## Review\n",
    "\n",
    "We introduced that LangGraph offers several ways to get or update agent state systematically to support various human-in-the-loop workflows:\n",
    "\n",
    "(1) `Approval` - We can interrupt our agent, surface state to a user, and allow the user to accept an action\n",
    "\n",
    "(2) `Debugging` - We can rewind the graph to reproduce or avoid issues\n",
    "\n",
    "(3) `Editing` - You can modify the state \n",
    "\n",
    "We showed how breakpoints support approval.\n",
    "\n",
    "## Goals\n",
    "\n",
    "Now, let's show how LangGraph [supports debugging](https://langchain-ai.github.io/langgraph/how-tos/human_in_the_loop/time-travel/) by viewing and re-playing from past states.\n",
    "\n",
    "--- \n",
    "\n",
    "TO DO: \n",
    " \n",
    "* This is pretty confusing concept in general... id really try to explain this as clearly as possible."
   ]
  },
  {
   "cell_type": "code",
   "execution_count": null,
   "id": "bd48aeb6-8478-4cb4-aef1-d524b80824d3",
   "metadata": {},
   "outputs": [],
   "source": [
    "%%capture --no-stderr\n",
    "%pip install --quiet -U langgraph langchain_openai"
   ]
  },
  {
   "cell_type": "markdown",
   "id": "0497d316-832a-4668-b133-fd317ee81220",
   "metadata": {},
   "source": [
    "Let's build out agent."
   ]
  },
  {
   "cell_type": "code",
   "execution_count": 1,
   "id": "d64ab3a1-b39c-4176-88c7-791a0b80c725",
   "metadata": {},
   "outputs": [],
   "source": [
    "from langchain_openai import ChatOpenAI\n",
    "\n",
    "def multiply(a: int, b: int) -> int:\n",
    "    \"\"\"Multiply a and b.\n",
    "\n",
    "    Args:\n",
    "        a: first int\n",
    "        b: second int\n",
    "    \"\"\"\n",
    "    return a * b\n",
    "\n",
    "# This will be a tool\n",
    "def add(a: int, b: int) -> int:\n",
    "    \"\"\"Adds a and b.\n",
    "\n",
    "    Args:\n",
    "        a: first int\n",
    "        b: second int\n",
    "    \"\"\"\n",
    "    return a + b\n",
    "\n",
    "def divide(a: int, b: int) -> float:\n",
    "    \"\"\"Adds a and b.\n",
    "\n",
    "    Args:\n",
    "        a: first int\n",
    "        b: second int\n",
    "    \"\"\"\n",
    "    return a / b\n",
    "\n",
    "tools = [add, multiply, divide]\n",
    "llm = ChatOpenAI(model=\"gpt-4o\")\n",
    "llm_with_tools = llm.bind_tools(tools)"
   ]
  },
  {
   "cell_type": "code",
   "execution_count": 2,
   "id": "1d8622a9-57cd-44dc-8696-46c5ab32d0b9",
   "metadata": {},
   "outputs": [
    {
     "data": {
      "image/jpeg": "[encoded data removed]",
      "text/plain": [
       "<IPython.core.display.Image object>"
      ]
     },
     "metadata": {},
     "output_type": "display_data"
    }
   ],
   "source": [
    "from IPython.display import Image, display\n",
    "\n",
    "from langgraph.checkpoint.memory import MemorySaver\n",
    "from langgraph.graph import MessagesState\n",
    "from langgraph.graph import START, END, StateGraph\n",
    "from langgraph.prebuilt import tools_condition, ToolNode\n",
    "\n",
    "from langchain_core.messages import AIMessage, HumanMessage, SystemMessage\n",
    "\n",
    "# System message\n",
    "sys_msg = SystemMessage(content=\"You are a helpful assistant tasked with performing arithmatic on a set of inputs.\")\n",
    "\n",
    "# Node\n",
    "def assistant(state: MessagesState):\n",
    "   return {\"messages\": [llm_with_tools.invoke([sys_msg] + state[\"messages\"])]}\n",
    "\n",
    "# Graph\n",
    "builder = StateGraph(MessagesState)\n",
    "\n",
    "# Define nodes: these do the work\n",
    "builder.add_node(\"assistant\", assistant)\n",
    "builder.add_node(\"tools\", ToolNode(tools))\n",
    "\n",
    "# Define edges: these determine how the control flow moves\n",
    "builder.add_edge(START, \"assistant\")\n",
    "builder.add_conditional_edges(\n",
    "    \"assistant\",\n",
    "    # If the latest message (result) from assistant is a tool call -> tools_condition routes to tools\n",
    "    # If the latest message (result) from assistant is a not a tool call -> tools_condition routes to END\n",
    "    tools_condition,\n",
    ")\n",
    "builder.add_edge(\"tools\", \"assistant\")\n",
    "\n",
    "memory = MemorySaver()\n",
    "graph = builder.compile(checkpointer=MemorySaver())\n",
    "\n",
    "# Show\n",
    "display(Image(graph.get_graph(xray=True).draw_mermaid_png()))"
   ]
  },
  {
   "cell_type": "markdown",
   "id": "fab18a04-1329-47ac-a25b-4e01bf756e2a",
   "metadata": {},
   "source": [
    "Let's run it, as before."
   ]
  },
  {
   "cell_type": "code",
   "execution_count": 3,
   "id": "05b2ab62-82bc-4356-8d5b-2d4f49069fdd",
   "metadata": {},
   "outputs": [
    {
     "name": "stdout",
     "output_type": "stream",
     "text": [
      "================================\u001b[1m Human Message \u001b[0m=================================\n",
      "\n",
      "Multiply 2 and 3\n",
      "==================================\u001b[1m Ai Message \u001b[0m==================================\n",
      "Tool Calls:\n",
      "  multiply (call_oZMIYusXtwqy3lRQPYoB8S42)\n",
      " Call ID: call_oZMIYusXtwqy3lRQPYoB8S42\n",
      "  Args:\n",
      "    a: 2\n",
      "    b: 3\n",
      "=================================\u001b[1m Tool Message \u001b[0m=================================\n",
      "Name: multiply\n",
      "\n",
      "6\n",
      "==================================\u001b[1m Ai Message \u001b[0m==================================\n",
      "\n",
      "The result of multiplying 2 and 3 is 6.\n"
     ]
    }
   ],
   "source": [
    "# Input\n",
    "initial_input = {\"messages\": \"Multiply 2 and 3\"}\n",
    "\n",
    "# Thread\n",
    "thread = {\"configurable\": {\"thread_id\": \"1\"}}\n",
    "\n",
    "# Run the graph until the first interruption\n",
    "for event in graph.stream(initial_input, thread, stream_mode=\"values\"):\n",
    "    event['messages'][-1].pretty_print()"
   ]
  },
  {
   "cell_type": "markdown",
   "id": "268cfa43-22d1-4d63-8d81-a3ce00f1f2c8",
   "metadata": {},
   "source": [
    "## Browsing History\n",
    "\n",
    "Let's browse the state history of our agent.\n",
    "\n",
    "We can simply use `get_state_history` and pass our `thread`."
   ]
  },
  {
   "cell_type": "code",
   "execution_count": 4,
   "id": "3010169c-3bfa-498c-a30c-7ba53744e4d5",
   "metadata": {},
   "outputs": [
    {
     "name": "stdout",
     "output_type": "stream",
     "text": [
      "StateSnapshot(values={'messages': [HumanMessage(content='Multiply 2 and 3', id='74c83b6a-0751-435d-8d43-30580d111161'), AIMessage(content='', additional_kwargs={'tool_calls': [{'id': 'call_oZMIYusXtwqy3lRQPYoB8S42', 'function': {'arguments': '{\"a\":2,\"b\":3}', 'name': 'multiply'}, 'type': 'function'}]}, response_metadata={'token_usage': {'completion_tokens': 17, 'prompt_tokens': 133, 'total_tokens': 150}, 'model_name': 'gpt-4o-2024-05-13', 'system_fingerprint': 'fp_3aa7262c27', 'finish_reason': 'tool_calls', 'logprobs': None}, id='run-06aa66a2-75da-4db3-b924-1da2d095797c-0', tool_calls=[{'name': 'multiply', 'args': {'a': 2, 'b': 3}, 'id': 'call_oZMIYusXtwqy3lRQPYoB8S42', 'type': 'tool_call'}], usage_metadata={'input_tokens': 133, 'output_tokens': 17, 'total_tokens': 150}), ToolMessage(content='6', name='multiply', id='0cffa5fd-2a42-4340-9dc3-61f0aab83cae', tool_call_id='call_oZMIYusXtwqy3lRQPYoB8S42'), AIMessage(content='The result of multiplying 2 and 3 is 6.', response_metadata={'token_usage': {'completion_tokens': 14, 'prompt_tokens': 158, 'total_tokens': 172}, 'model_name': 'gpt-4o-2024-05-13', 'system_fingerprint': 'fp_3aa7262c27', 'finish_reason': 'stop', 'logprobs': None}, id='run-30356951-bd44-4309-a251-e086c3b1c8fe-0', usage_metadata={'input_tokens': 158, 'output_tokens': 14, 'total_tokens': 172})]}, next=(), config={'configurable': {'thread_id': '1', 'checkpoint_ns': '', 'checkpoint_id': '1ef60d7c-ac28-6ce4-8003-60f8400c63b2'}}, metadata={'source': 'loop', 'writes': {'assistant': {'messages': [AIMessage(content='The result of multiplying 2 and 3 is 6.', response_metadata={'token_usage': {'completion_tokens': 14, 'prompt_tokens': 158, 'total_tokens': 172}, 'model_name': 'gpt-4o-2024-05-13', 'system_fingerprint': 'fp_3aa7262c27', 'finish_reason': 'stop', 'logprobs': None}, id='run-30356951-bd44-4309-a251-e086c3b1c8fe-0', usage_metadata={'input_tokens': 158, 'output_tokens': 14, 'total_tokens': 172})]}}, 'step': 3}, created_at='2024-08-22T22:42:20.775740+00:00', parent_config={'configurable': {'thread_id': '1', 'checkpoint_ns': '', 'checkpoint_id': '1ef60d7c-a635-603a-8002-71f8def0bbd8'}}, tasks=())\n",
      "--\n",
      "StateSnapshot(values={'messages': [HumanMessage(content='Multiply 2 and 3', id='74c83b6a-0751-435d-8d43-30580d111161'), AIMessage(content='', additional_kwargs={'tool_calls': [{'id': 'call_oZMIYusXtwqy3lRQPYoB8S42', 'function': {'arguments': '{\"a\":2,\"b\":3}', 'name': 'multiply'}, 'type': 'function'}]}, response_metadata={'token_usage': {'completion_tokens': 17, 'prompt_tokens': 133, 'total_tokens': 150}, 'model_name': 'gpt-4o-2024-05-13', 'system_fingerprint': 'fp_3aa7262c27', 'finish_reason': 'tool_calls', 'logprobs': None}, id='run-06aa66a2-75da-4db3-b924-1da2d095797c-0', tool_calls=[{'name': 'multiply', 'args': {'a': 2, 'b': 3}, 'id': 'call_oZMIYusXtwqy3lRQPYoB8S42', 'type': 'tool_call'}], usage_metadata={'input_tokens': 133, 'output_tokens': 17, 'total_tokens': 150}), ToolMessage(content='6', name='multiply', id='0cffa5fd-2a42-4340-9dc3-61f0aab83cae', tool_call_id='call_oZMIYusXtwqy3lRQPYoB8S42')]}, next=('assistant',), config={'configurable': {'thread_id': '1', 'checkpoint_ns': '', 'checkpoint_id': '1ef60d7c-a635-603a-8002-71f8def0bbd8'}}, metadata={'source': 'loop', 'writes': {'tools': {'messages': [ToolMessage(content='6', name='multiply', id='0cffa5fd-2a42-4340-9dc3-61f0aab83cae', tool_call_id='call_oZMIYusXtwqy3lRQPYoB8S42')]}}, 'step': 2}, created_at='2024-08-22T22:42:20.151602+00:00', parent_config={'configurable': {'thread_id': '1', 'checkpoint_ns': '', 'checkpoint_id': '1ef60d7c-a62b-6de6-8001-d80ae2ce7d4a'}}, tasks=(PregelTask(id='ad525e51-7573-5e5e-b741-113ef45c3fc3', name='assistant', error=None, interrupts=()),))\n",
      "--\n",
      "StateSnapshot(values={'messages': [HumanMessage(content='Multiply 2 and 3', id='74c83b6a-0751-435d-8d43-30580d111161'), AIMessage(content='', additional_kwargs={'tool_calls': [{'id': 'call_oZMIYusXtwqy3lRQPYoB8S42', 'function': {'arguments': '{\"a\":2,\"b\":3}', 'name': 'multiply'}, 'type': 'function'}]}, response_metadata={'token_usage': {'completion_tokens': 17, 'prompt_tokens': 133, 'total_tokens': 150}, 'model_name': 'gpt-4o-2024-05-13', 'system_fingerprint': 'fp_3aa7262c27', 'finish_reason': 'tool_calls', 'logprobs': None}, id='run-06aa66a2-75da-4db3-b924-1da2d095797c-0', tool_calls=[{'name': 'multiply', 'args': {'a': 2, 'b': 3}, 'id': 'call_oZMIYusXtwqy3lRQPYoB8S42', 'type': 'tool_call'}], usage_metadata={'input_tokens': 133, 'output_tokens': 17, 'total_tokens': 150})]}, next=('tools',), config={'configurable': {'thread_id': '1', 'checkpoint_ns': '', 'checkpoint_id': '1ef60d7c-a62b-6de6-8001-d80ae2ce7d4a'}}, metadata={'source': 'loop', 'writes': {'assistant': {'messages': [AIMessage(content='', additional_kwargs={'tool_calls': [{'id': 'call_oZMIYusXtwqy3lRQPYoB8S42', 'function': {'arguments': '{\"a\":2,\"b\":3}', 'name': 'multiply'}, 'type': 'function'}]}, response_metadata={'token_usage': {'completion_tokens': 17, 'prompt_tokens': 133, 'total_tokens': 150}, 'model_name': 'gpt-4o-2024-05-13', 'system_fingerprint': 'fp_3aa7262c27', 'finish_reason': 'tool_calls', 'logprobs': None}, id='run-06aa66a2-75da-4db3-b924-1da2d095797c-0', tool_calls=[{'name': 'multiply', 'args': {'a': 2, 'b': 3}, 'id': 'call_oZMIYusXtwqy3lRQPYoB8S42', 'type': 'tool_call'}], usage_metadata={'input_tokens': 133, 'output_tokens': 17, 'total_tokens': 150})]}}, 'step': 1}, created_at='2024-08-22T22:42:20.147854+00:00', parent_config={'configurable': {'thread_id': '1', 'checkpoint_ns': '', 'checkpoint_id': '1ef60d7c-a058-6554-8000-b02d7c3f7efe'}}, tasks=(PregelTask(id='9220987d-ba5d-5036-a0cf-3bb6fec186f8', name='tools', error=None, interrupts=()),))\n",
      "--\n",
      "StateSnapshot(values={'messages': [HumanMessage(content='Multiply 2 and 3', id='74c83b6a-0751-435d-8d43-30580d111161')]}, next=('assistant',), config={'configurable': {'thread_id': '1', 'checkpoint_ns': '', 'checkpoint_id': '1ef60d7c-a058-6554-8000-b02d7c3f7efe'}}, metadata={'source': 'loop', 'writes': None, 'step': 0}, created_at='2024-08-22T22:42:19.536922+00:00', parent_config={'configurable': {'thread_id': '1', 'checkpoint_ns': '', 'checkpoint_id': '1ef60d7c-a052-6cbc-bfff-2d058752a76a'}}, tasks=(PregelTask(id='2235f836-9311-5b17-b5b1-3b066c06ccbb', name='assistant', error=None, interrupts=()),))\n",
      "--\n",
      "StateSnapshot(values={'messages': []}, next=('__start__',), config={'configurable': {'thread_id': '1', 'checkpoint_ns': '', 'checkpoint_id': '1ef60d7c-a052-6cbc-bfff-2d058752a76a'}}, metadata={'source': 'input', 'writes': {'messages': 'Multiply 2 and 3'}, 'step': -1}, created_at='2024-08-22T22:42:19.534653+00:00', parent_config=None, tasks=(PregelTask(id='7ec96e86-ffb2-51dd-a4a4-16d80b5946fd', name='__start__', error=None, interrupts=()),))\n",
      "--\n"
     ]
    }
   ],
   "source": [
    "all_states = []\n",
    "for state in graph.get_state_history(thread):\n",
    "    print(state)\n",
    "    all_states.append(state)\n",
    "    print(\"--\")"
   ]
  },
  {
   "cell_type": "markdown",
   "id": "a5ad554a-faf3-489f-a9a9-774f4ec2a526",
   "metadata": {},
   "source": [
    "## Replaying \n",
    "\n",
    "We can restart our agent from any of these states."
   ]
  },
  {
   "cell_type": "code",
   "execution_count": 5,
   "id": "8d7f7b17-ca63-4a76-9bd3-82811dafdfb9",
   "metadata": {},
   "outputs": [
    {
     "name": "stdout",
     "output_type": "stream",
     "text": [
      "================================\u001b[1m Human Message \u001b[0m=================================\n",
      "\n",
      "Multiply 2 and 3\n",
      "==================================\u001b[1m Ai Message \u001b[0m==================================\n",
      "Tool Calls:\n",
      "  multiply (call_oZMIYusXtwqy3lRQPYoB8S42)\n",
      " Call ID: call_oZMIYusXtwqy3lRQPYoB8S42\n",
      "  Args:\n",
      "    a: 2\n",
      "    b: 3\n",
      "=================================\u001b[1m Tool Message \u001b[0m=================================\n",
      "Name: multiply\n",
      "\n",
      "6\n",
      "==================================\u001b[1m Ai Message \u001b[0m==================================\n",
      "\n",
      "The result of multiplying 2 and 3 is 6.\n"
     ]
    }
   ],
   "source": [
    "for m in all_states[0].values['messages']:\n",
    "    m.pretty_print()"
   ]
  },
  {
   "cell_type": "markdown",
   "id": "30b90556-0964-4a46-bcb1-1e40b168eb60",
   "metadata": {},
   "source": [
    "Let's look back at the state update containing only the human message."
   ]
  },
  {
   "cell_type": "code",
   "execution_count": 6,
   "id": "4c3fc81c-00f2-459f-b58d-6d6d7d845dbf",
   "metadata": {},
   "outputs": [
    {
     "name": "stdout",
     "output_type": "stream",
     "text": [
      "================================\u001b[1m Human Message \u001b[0m=================================\n",
      "\n",
      "Multiply 2 and 3\n"
     ]
    }
   ],
   "source": [
    "for m in all_states[3].values['messages']:\n",
    "    m.pretty_print()"
   ]
  },
  {
   "cell_type": "code",
   "execution_count": 7,
   "id": "3688e511-a440-4330-a450-e5ed889c3b30",
   "metadata": {},
   "outputs": [
    {
     "data": {
      "text/plain": [
       "{'messages': [HumanMessage(content='Multiply 2 and 3', id='74c83b6a-0751-435d-8d43-30580d111161')]}"
      ]
     },
     "execution_count": 7,
     "metadata": {},
     "output_type": "execute_result"
    }
   ],
   "source": [
    "to_replay = all_states[3]\n",
    "to_replay.values"
   ]
  },
  {
   "cell_type": "markdown",
   "id": "ff2df545-cc80-4962-a34a-faac7af8eb3d",
   "metadata": {},
   "source": [
    "We can see the next node to call."
   ]
  },
  {
   "cell_type": "code",
   "execution_count": 11,
   "id": "d2f333f9-9b2b-46f6-ac3a-525f86b20f1b",
   "metadata": {},
   "outputs": [
    {
     "data": {
      "text/plain": [
       "('assistant',)"
      ]
     },
     "execution_count": 11,
     "metadata": {},
     "output_type": "execute_result"
    }
   ],
   "source": [
    "to_replay.next"
   ]
  },
  {
   "cell_type": "code",
   "execution_count": 12,
   "id": "b1298786-afa5-4277-927e-708a8629231b",
   "metadata": {},
   "outputs": [
    {
     "data": {
      "text/plain": [
       "{'configurable': {'thread_id': '1',\n",
       "  'checkpoint_ns': '',\n",
       "  'checkpoint_id': '1ef60d7c-a058-6554-8000-b02d7c3f7efe'}}"
      ]
     },
     "execution_count": 12,
     "metadata": {},
     "output_type": "execute_result"
    }
   ],
   "source": [
    "to_replay.config"
   ]
  },
  {
   "cell_type": "markdown",
   "id": "8ced2a25-1c2d-463b-b41c-a76a0386c96a",
   "metadata": {},
   "source": [
    "To replay from here, we simply pass the config back to the agent!\n",
    "\n",
    "It just resumes from right where it left off, with the assistant."
   ]
  },
  {
   "cell_type": "code",
   "execution_count": 16,
   "id": "531b4cd1-54f6-44aa-9ffe-cf5403dad65d",
   "metadata": {},
   "outputs": [
    {
     "name": "stdout",
     "output_type": "stream",
     "text": [
      "==================================\u001b[1m Ai Message \u001b[0m==================================\n",
      "Tool Calls:\n",
      "  multiply (call_oZMIYusXtwqy3lRQPYoB8S42)\n",
      " Call ID: call_oZMIYusXtwqy3lRQPYoB8S42\n",
      "  Args:\n",
      "    a: 2\n",
      "    b: 3\n",
      "=================================\u001b[1m Tool Message \u001b[0m=================================\n",
      "Name: multiply\n",
      "\n",
      "6\n",
      "==================================\u001b[1m Ai Message \u001b[0m==================================\n",
      "\n",
      "The result of multiplying 2 and 3 is 6.\n"
     ]
    }
   ],
   "source": [
    "for event in graph.stream(None, to_replay.config, stream_mode=\"values\"):\n",
    "    event['messages'][-1].pretty_print()"
   ]
  },
  {
   "cell_type": "markdown",
   "id": "5a5a1f03-19f2-4d22-ba54-1c065ff08e85",
   "metadata": {},
   "source": [
    "## Forking\n",
    "\n",
    "We can fork from a prior state to let the agent explore alternate trajectories."
   ]
  },
  {
   "cell_type": "code",
   "execution_count": 19,
   "id": "4e419120-ccd5-45b8-82db-4a9548ff5c00",
   "metadata": {},
   "outputs": [
    {
     "data": {
      "text/plain": [
       "[HumanMessage(content='Multiply 2 and 3', id='74c83b6a-0751-435d-8d43-30580d111161'),\n",
       " AIMessage(content='', additional_kwargs={'tool_calls': [{'id': 'call_oZMIYusXtwqy3lRQPYoB8S42', 'function': {'arguments': '{\"a\":2,\"b\":3}', 'name': 'multiply'}, 'type': 'function'}]}, response_metadata={'token_usage': {'completion_tokens': 17, 'prompt_tokens': 133, 'total_tokens': 150}, 'model_name': 'gpt-4o-2024-05-13', 'system_fingerprint': 'fp_3aa7262c27', 'finish_reason': 'tool_calls', 'logprobs': None}, id='run-06aa66a2-75da-4db3-b924-1da2d095797c-0', tool_calls=[{'name': 'multiply', 'args': {'a': 2, 'b': 3}, 'id': 'call_oZMIYusXtwqy3lRQPYoB8S42', 'type': 'tool_call'}], usage_metadata={'input_tokens': 133, 'output_tokens': 17, 'total_tokens': 150})]"
      ]
     },
     "execution_count": 19,
     "metadata": {},
     "output_type": "execute_result"
    }
   ],
   "source": [
    "to_replay = all_states[2]\n",
    "to_replay.values[\"messages\"]"
   ]
  },
  {
   "cell_type": "markdown",
   "id": "c2102195-0583-4dbe-ad2f-02fac7915585",
   "metadata": {},
   "source": [
    "Let's modify the tool call."
   ]
  },
  {
   "cell_type": "code",
   "execution_count": 21,
   "id": "0700a7b4-e295-4974-b494-f7a1e5cf7773",
   "metadata": {},
   "outputs": [
    {
     "data": {
      "text/plain": [
       "[{'name': 'multiply',\n",
       "  'args': {'a': 2, 'b': 3},\n",
       "  'id': 'call_oZMIYusXtwqy3lRQPYoB8S42',\n",
       "  'type': 'tool_call'}]"
      ]
     },
     "execution_count": 21,
     "metadata": {},
     "output_type": "execute_result"
    }
   ],
   "source": [
    "to_replay.values[\"messages\"][-1].tool_calls"
   ]
  },
  {
   "cell_type": "code",
   "execution_count": 22,
   "id": "55c7f2a0-ab8c-4a00-9adb-c1b7a982c736",
   "metadata": {},
   "outputs": [
    {
     "data": {
      "text/plain": [
       "{'name': 'multiply',\n",
       " 'args': {'a': 2, 'b': 3},\n",
       " 'id': 'call_oZMIYusXtwqy3lRQPYoB8S42',\n",
       " 'type': 'tool_call'}"
      ]
     },
     "execution_count": 22,
     "metadata": {},
     "output_type": "execute_result"
    }
   ],
   "source": [
    "tool_call = to_replay.values[\"messages\"][-1]\n",
    "tool_call.tool_calls[0]"
   ]
  },
  {
   "cell_type": "code",
   "execution_count": 26,
   "id": "309e2e20-037e-45e3-80e0-c4e17f679bec",
   "metadata": {},
   "outputs": [
    {
     "data": {
      "text/plain": [
       "{'name': 'multiply',\n",
       " 'args': {'a': 5, 'b': 3},\n",
       " 'id': 'call_oZMIYusXtwqy3lRQPYoB8S42',\n",
       " 'type': 'tool_call'}"
      ]
     },
     "execution_count": 26,
     "metadata": {},
     "output_type": "execute_result"
    }
   ],
   "source": [
    "tool_call.tool_calls[0][\"args\"] = {'a': 5, 'b': 3}\n",
    "tool_call.tool_calls[0]"
   ]
  },
  {
   "cell_type": "markdown",
   "id": "d976f1de-a4d5-405e-90d1-5b40033c1e91",
   "metadata": {},
   "source": [
    "We've updated the tool call, and now we can update the state. "
   ]
  },
  {
   "cell_type": "code",
   "execution_count": 27,
   "id": "0b4a918d-858a-41ac-a5d4-e99260e2d6ec",
   "metadata": {},
   "outputs": [],
   "source": [
    "branch_config = graph.update_state(\n",
    "    to_replay.config,\n",
    "    {\"messages\": [tool_call]},\n",
    ")"
   ]
  },
  {
   "cell_type": "markdown",
   "id": "78c641e2-b8e9-4461-b854-8725006a5eb6",
   "metadata": {},
   "source": [
    "And, we invoke we our updated tool call!"
   ]
  },
  {
   "cell_type": "code",
   "execution_count": 28,
   "id": "1c49f2a8-b325-45e4-b36c-17fab1b37cc0",
   "metadata": {},
   "outputs": [
    {
     "name": "stdout",
     "output_type": "stream",
     "text": [
      "=================================\u001b[1m Tool Message \u001b[0m=================================\n",
      "Name: multiply\n",
      "\n",
      "15\n",
      "==================================\u001b[1m Ai Message \u001b[0m==================================\n",
      "\n",
      "The result of multiplying 5 and 3 is 15.\n"
     ]
    }
   ],
   "source": [
    "for event in graph.stream(None, branch_config, stream_mode=\"values\"):\n",
    "    event['messages'][-1].pretty_print()"
   ]
  },
  {
   "cell_type": "code",
   "execution_count": null,
   "id": "068c1147-8072-46ed-88d1-ce77e9c89419",
   "metadata": {},
   "outputs": [],
   "source": []
  }
 ],
 "metadata": {
  "kernelspec": {
   "display_name": "Python 3 (ipykernel)",
   "language": "python",
   "name": "python3"
  },
  "language_info": {
   "codemirror_mode": {
    "name": "ipython",
    "version": 3
   },
   "file_extension": ".py",
   "mimetype": "text/x-python",
   "name": "python",
   "nbconvert_exporter": "python",
   "pygments_lexer": "ipython3",
   "version": "3.11.8"
  }
 },
 "nbformat": 4,
 "nbformat_minor": 5
}

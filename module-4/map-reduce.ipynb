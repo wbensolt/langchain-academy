{
 "cells": [
  {
   "cell_type": "markdown",
   "id": "22d09ea1-d963-47c6-ba24-847c6208bf8d",
   "metadata": {},
   "source": [
    "# Map-Reduce\n",
    "\n",
    "## Review\n",
    "\n",
    "We discussed the motivation and layout of the Fantasy Football `take-bot`.\n",
    "\n",
    "We built an outer graph that generates our experts, and included an interview sub-graph.\n",
    "\n",
    "We now want to parallelize the interviews with each of our experts!\n",
    "\n",
    "## Goals\n",
    " \n",
    "For this, we'll introduce [map-reduce](https://langchain-ai.github.io/langgraph/how-tos/map-reduce/) for efficient task decomposition and parallel processing. \n",
    "\n",
    "It involves breaking a task into smaller sub-tasks, processing each sub-task in parallel, and aggregating the results across all of the completed sub-tasks.\n",
    "\n",
    "LangGraph has support for this using the [Send](https://langchain-ai.github.io/langgraph/concepts/low_level/#send) API!"
   ]
  },
  {
   "cell_type": "code",
   "execution_count": null,
   "id": "74129ce0-5d40-4780-9eb2-545617c3f4b0",
   "metadata": {},
   "outputs": [],
   "source": [
    "%%capture --no-stderr\n",
    "%pip install --quiet -U sqlite3 langgraph-checkpoint-sqlite langchain_core langgraph langchain_openai"
   ]
  },
  {
   "cell_type": "markdown",
   "id": "ba3d6e2f-9b1b-45b6-a5d2-350943de6ae2",
   "metadata": {},
   "source": [
    "We'll use [LangSmith](https://docs.smith.langchain.com/) for [tracing](https://docs.smith.langchain.com/concepts/tracing)."
   ]
  },
  {
   "cell_type": "code",
   "execution_count": null,
   "id": "feb6759a-8c18-4cd9-866f-d3faa1b1b991",
   "metadata": {},
   "outputs": [],
   "source": [
    "import os\n",
    "os.environ[\"LANGCHAIN_PROJECT\"] = \"langchain-academy\""
   ]
  },
  {
   "cell_type": "markdown",
   "id": "25dac978-131a-41ad-8e74-c8e43be48d76",
   "metadata": {},
   "source": [
    "## Gather expert sources\n",
    "\n",
    "For ease, we'll re-use some of the logic that we introduced previously."
   ]
  },
  {
   "cell_type": "code",
   "execution_count": 62,
   "id": "8533ff79-73f4-4dce-8288-fb071dbe86c3",
   "metadata": {},
   "outputs": [],
   "source": [
    "import os\n",
    "import praw\n",
    "\n",
    "# Reddit creds\n",
    "reddit_client_id = os.getenv('REDDIT_CLIENT_ID')\n",
    "reddit_client_secret = os.getenv('REDDIT_CLIENT_SECRET')\n",
    "\n",
    "# Initialize the Reddit instance\n",
    "reddit = praw.Reddit(client_id=reddit_client_id,\n",
    "                     client_secret=reddit_client_secret,\n",
    "                     user_agent='Fantasy Football Loader')\n",
    "\n",
    "def get_recent_reddit_posts(subreddit_name,\n",
    "                            filter_to_use,\n",
    "                            number_of_posts,\n",
    "                            number_of_comments,\n",
    "                           ):\n",
    "\n",
    "    ''' Get comments from top posts in a particular subreddit '''\n",
    "\n",
    "    # Access the subreddit\n",
    "    subreddit = reddit.subreddit(subreddit_name)\n",
    "    \n",
    "    # Get top posts based on the specified filter\n",
    "    top_posts = subreddit.top(time_filter=filter_to_use, limit=number_of_posts)\n",
    "    \n",
    "    # Initialize an empty string to store the output\n",
    "    reddit_expert_context = \"\"\n",
    "    \n",
    "    # Process each post\n",
    "    for post in top_posts:\n",
    "        reddit_expert_context += f\"Title: {post.title}\\n\"\n",
    "        reddit_expert_context += f\"URL: {post.url}\\n\"\n",
    "        reddit_expert_context += f\"Score: {post.score}\\n\"\n",
    "        \n",
    "        post.comments.replace_more(limit=0)  # Flatten the comment tree\n",
    "        \n",
    "        # Get the specified number of top comments\n",
    "        for i, comment in enumerate(post.comments[:number_of_comments]):\n",
    "            reddit_expert_context += f\"Top Comment {i+1}: {comment.body}\\n\"\n",
    "            reddit_expert_context += f\"Comment Score: {comment.score}\\n\\n\"\n",
    "        \n",
    "        reddit_expert_context += \"=\"*50 + \"\\n\\n\"\n",
    "\n",
    "    return reddit_expert_context\n",
    "\n",
    "def get_reddit_post(url,\n",
    "                   number_of_comments):\n",
    "    \n",
    "    ''' Get reddit post comments '''\n",
    "\n",
    "    # Fetch the submission\n",
    "    post = reddit.submission(url=url)\n",
    "    \n",
    "    # Load the comments\n",
    "    post.comments.replace_more(limit=None) # Flatten the comment tree\n",
    "    comments = post.comments.list()\n",
    "\n",
    "    # Initialize an empty string to store the output\n",
    "    reddit_expert_context = \"\"\n",
    "    reddit_expert_context += f\"Title: {post.title}\\n\"\n",
    "    reddit_expert_context += f\"URL: {post.url}   \\n\"\n",
    "    reddit_expert_context += f\"Post: {post.selftext}\\n\"\n",
    "\n",
    "    # Get the specified number of top comments\n",
    "    for i, comment in enumerate(post.comments[:number_of_comments]):\n",
    "        reddit_expert_context += f\"Top Comment {i+1}: {comment.body}\\n\"\n",
    "        reddit_expert_context += f\"Comment Score: {comment.score}\\n\\n\"\n",
    "        reddit_expert_context += \"=\"*50 + \"\\n\\n\"\n",
    "\n",
    "    return reddit_expert_context\n",
    "\n",
    "# Replace with the subreddit you're interested in\n",
    "subreddit_name = 'fantasyfootball'\n",
    "\n",
    "# Get top comments from past <day, month, etc>\n",
    "filter_to_use = 'day'\n",
    "\n",
    "# Number of posts to gather\n",
    "number_of_posts = 5\n",
    "\n",
    "# Number of top comments to gather per post\n",
    "number_of_comments = 10\n",
    "\n",
    "reddit_recent_posts = get_recent_reddit_posts(subreddit_name,\n",
    "                                              filter_to_use,\n",
    "                                              number_of_posts,\n",
    "                                              number_of_comments)\n",
    "# Specific posts\n",
    "url = \"https://www.reddit.com/r/fantasyfootball/comments/1ewk6kr/theres_only_one_draft_strategy_that_ill_ever/\"\n",
    "number_of_comments = 20\n",
    "reddit_draft_strategy_context = get_reddit_post(url,number_of_comments)\n",
    "\n",
    "url = \"https://www.reddit.com/r/fantasyfootball/comments/1espdv7/who_is_one_guy_you_arent_leaving_the_draft/\"\n",
    "number_of_comments = 20\n",
    "reddit_top_player_context = get_reddit_post(url,number_of_comments)"
   ]
  },
  {
   "cell_type": "markdown",
   "id": "af85c4c2-05ac-4a64-b6ec-db71525c6d41",
   "metadata": {},
   "source": [
    "## Build graph\n",
    "\n",
    "### State"
   ]
  },
  {
   "cell_type": "code",
   "execution_count": 63,
   "id": "97a8d412-a84f-4a70-b049-a5713b100e47",
   "metadata": {},
   "outputs": [],
   "source": [
    "import operator\n",
    "\n",
    "from typing_extensions import TypedDict, List, Annotated\n",
    "\n",
    "from langchain_core.pydantic_v1 import BaseModel, Field\n",
    "from langchain_core.messages import AIMessage, HumanMessage, SystemMessage\n",
    "\n",
    "from langgraph.graph import MessagesState\n",
    "\n",
    "class Expert(BaseModel):\n",
    "    name: str = Field(\n",
    "        description=\"Name of the expert.\", pattern=r\"^[a-zA-Z0-9_-]{1,64}$\"\n",
    "    )\n",
    "    role: str = Field(\n",
    "        description=\"Role of the expert.\",\n",
    "    )\n",
    "    context: SystemMessage = Field(\n",
    "        description=\"Instructions used by the expert.\",\n",
    "    )\n",
    "\n",
    "    def answer(self, dicussion: List) -> AIMessage:\n",
    "        return llm.invoke([self.context]+dicussion)\n",
    "\n",
    "class Take(BaseModel):\n",
    "    title: str = Field(\n",
    "        description=\"Punchy summary title for the take or perspective\",\n",
    "    )\n",
    "    take: str = Field(\n",
    "        description=\"Fun, punchy observation from the discussion between expert and interviewer.\",\n",
    "    )\n",
    "\n",
    "class Takes(BaseModel):\n",
    "    takes: List[Take] = Field(\n",
    "        description=\"A list of takes, each containing a title and a take observation.\"\n",
    "    )\n",
    "\n",
    "class OverallState(TypedDict):\n",
    "    topic: str\n",
    "    experts: List[Expert]\n",
    "    takes: Annotated[List[Take], operator.add]\n",
    "\n",
    "class InterviewState(MessagesState):\n",
    "    topic: str\n",
    "    expert: Expert\n",
    "    \n",
    "class InterviewOutputState(TypedDict):\n",
    "     takes: List[Take]"
   ]
  },
  {
   "cell_type": "markdown",
   "id": "95cddfef-ca23-48ce-8ba2-114cc2af48ce",
   "metadata": {},
   "source": [
    "### Parameters and LLM"
   ]
  },
  {
   "cell_type": "code",
   "execution_count": 64,
   "id": "1f0a1f01-67f6-47ac-af95-132e92ebea35",
   "metadata": {},
   "outputs": [],
   "source": [
    "from langchain_openai import ChatOpenAI\n",
    "llm = ChatOpenAI(model=\"gpt-4o\", temperature=0) \n",
    "\n",
    "# Specify the maximum number of answers we want the expert to give\n",
    "max_num_turns = 2"
   ]
  },
  {
   "cell_type": "markdown",
   "id": "55819e26-f8c9-42d5-8b64-9eac26dad48c",
   "metadata": {},
   "source": [
    "### Graph"
   ]
  },
  {
   "cell_type": "code",
   "execution_count": 65,
   "id": "a7e2bf9a-5101-4279-8894-f728987b8b9b",
   "metadata": {},
   "outputs": [],
   "source": [
    "from langgraph.graph import END, StateGraph, START\n",
    "\n",
    "from IPython.display import Image, display\n",
    "\n",
    "from langchain_core.runnables import chain as as_runnable\n",
    "\n",
    "@as_runnable\n",
    "def generate_experts(state: OverallState):\n",
    "    \"\"\" Generate our experts \"\"\"\n",
    "    \n",
    "    preamble = \"You are an expert in in Fantasy Football. You are being interviewed by an analyst. Don't make up your own answers.\"\n",
    "    \n",
    "    draft_strategy_expert = Expert(\n",
    "        name=\"Moe\",\n",
    "        role=\"Fantasy Draft Strategy Expert\",\n",
    "        context=SystemMessage(content=f\"{preamble} Use only this information to answer questions from the analyst: {reddit_draft_strategy_context}\"),\n",
    "    )\n",
    "    \n",
    "    top_player_expert = Expert(\n",
    "        name=\"Jimbo\",\n",
    "        role=\"Top Players To Draft Expert\",\n",
    "        context=SystemMessage(content=f\"{preamble} Use only this information to answer questions from the analyst: {reddit_top_player_context}\"),\n",
    "    )\n",
    "\n",
    "    recent_events_expert = Expert(\n",
    "        name=\"Barney\",\n",
    "        role=\"Following recent news\",\n",
    "        context=SystemMessage(content=f\"{preamble} Use only this information to answer questions from the analyst: {reddit_recent_posts}\"),\n",
    "    )\n",
    "\n",
    "    return {\"experts\": [draft_strategy_expert, top_player_expert, recent_events_expert]}\n",
    "\n",
    "@as_runnable\n",
    "def generate_question(state: InterviewState):\n",
    "    \"\"\" Node to generate a question \"\"\"\n",
    "\n",
    "    instructions = SystemMessage(content=f\"\"\"\n",
    "    \n",
    "    You are an analyst tasked with interviewing an expert to learn about a specific topic. \n",
    "    \n",
    "    Here is the topic: {state[\"topic\"]}\n",
    "    \n",
    "    Focus on insights that avoid generalities and include specific examples from the expert.\n",
    "    \n",
    "    Begin by introducing yourself, and then ask your starting question.\n",
    "    \n",
    "    Continue to ask questions to drill down and refine your understanding of the topic.\n",
    "    \n",
    "    As the interview proceeds, consider if you question has been answered. \n",
    "    \n",
    "    If it has been answered, then complete the interview with: \"Thank you so much for your help!\"\n",
    "    \n",
    "    Remember to stay in character throughout your responses.\"\"\")\n",
    "    \n",
    "    # Generate question \n",
    "    result = llm.invoke([instructions]+state[\"messages\"])   \n",
    "    \n",
    "    # Write to state\n",
    "    return {\"messages\": [HumanMessage(content=result.content, name='Interviewer')]}\n",
    "\n",
    "@as_runnable\n",
    "def generate_answer(state: InterviewState):\n",
    "    \"\"\" Node to answer a question \"\"\"\n",
    "\n",
    "    messages = state[\"messages\"]\n",
    "    expert = state[\"expert\"]\n",
    "   \n",
    "    # Answer question\n",
    "    answer = expert.answer(messages)\n",
    "    \n",
    "    # Use this to track expert responses\n",
    "    answer.name = 'expert'\n",
    "    \n",
    "    # Append it to state\n",
    "    return {\"messages\": [answer]}\n",
    "\n",
    "@as_runnable\n",
    "def generate_takes(state: InterviewState):\n",
    "    \"\"\" Node to answer a question \"\"\"\n",
    "\n",
    "    # Get discussion\n",
    "    messages = state[\"messages\"]\n",
    "\n",
    "    # Instructions\n",
    "    instructions = SystemMessage(content=f\"\"\"\n",
    "    \n",
    "    Distill the conversation between the analyst and expert into a set of fun and informative takes. \n",
    "    \n",
    "    Each take should have a punchy subject line. \n",
    "    \n",
    "    Each take should be specific and provide examples to back-up the statement.\n",
    "    \n",
    "    Aim for 5 - 10 different takes per interview that 1) cover the most interesting points raised and 2) avoid repetition.\"\"\")\n",
    "\n",
    "    # Enforce structured output\n",
    "    structured_llm = llm.with_structured_output(Takes)\n",
    "    \n",
    "    # Generate takes\n",
    "    takes = structured_llm.invoke([instructions]+messages)\n",
    "        \n",
    "    # * Write to state, returning takes as a list so that it can be addended from all interviews * \n",
    "    return {\"takes\": [takes]}\n",
    "\n",
    "def route_messages(state: InterviewState, \n",
    "                   name: str = \"expert\"):\n",
    "\n",
    "    \"\"\" Route between question and answer \"\"\"\n",
    "    \n",
    "    # Get messages\n",
    "    messages = state[\"messages\"]\n",
    "\n",
    "    # Check the number of expert answers \n",
    "    num_responses = len(\n",
    "        [m for m in messages if isinstance(m, AIMessage) and m.name == name]\n",
    "    )\n",
    "\n",
    "    # End if expert has answered more than the max turns\n",
    "    if num_responses >= max_num_turns:\n",
    "        return \"generate_takes\"\n",
    "\n",
    "    # This router is run after each question - answer pair \n",
    "    last_question = messages[-2]\n",
    "    \n",
    "    if \"Thank you so much for your help\" in last_question.content:\n",
    "        return \"generate_takes\"\n",
    "    return \"ask_question\"\n",
    "\n",
    "# Add nodes and edges \n",
    "interview_builder = StateGraph(input=InterviewState, output=InterviewOutputState)\n",
    "interview_builder.add_node(\"ask_question\", generate_question)\n",
    "interview_builder.add_node(\"answer_question\", generate_answer)\n",
    "interview_builder.add_node(\"generate_takes\", generate_takes)\n",
    "\n",
    "# Flow\n",
    "interview_builder.add_edge(START, \"ask_question\")\n",
    "interview_builder.add_edge(\"ask_question\", \"answer_question\")\n",
    "interview_builder.add_conditional_edges(\"answer_question\", route_messages,['ask_question','generate_takes'])\n",
    "interview_builder.add_edge(\"generate_takes\", END)"
   ]
  },
  {
   "cell_type": "markdown",
   "id": "c3887e1c-1284-46c7-850e-0770f34ef6af",
   "metadata": {},
   "source": [
    "### Map-reduce\n",
    "\n",
    "Good, now we have our interview sub-graph just as before.\n",
    "\n",
    "We want to kick off each interview with an expert in parallel. \n",
    "\n",
    "To do this, we'll use the `Send` API in `initiate_all_interviews` below.\n",
    "\n",
    "This spawn an interview for each expert in our list of experts!\n",
    "\n",
    "Now, note that the final node in each interview updates state as shown here:\n",
    "\n",
    "```\n",
    "return {\"takes\": [takes]}\n",
    "```\n",
    "\n",
    "And note that the `OverallState` has a `takes` key with reducer that can append from each interview! \n",
    "\n",
    "```\n",
    "takes: Annotated[List[Take], operator.add]\n",
    "```\n",
    "\n",
    "This is the central point to understand.\n",
    "\n",
    "Each interview is writing to the `OverallState` `takes` key / channel, and they are all appended due to the reducer specified."
   ]
  },
  {
   "cell_type": "code",
   "execution_count": 66,
   "id": "6633159b-9d6e-45a7-a1f8-7736aab9446e",
   "metadata": {},
   "outputs": [
    {
     "data": {
      "image/jpeg": "[encoded data removed]",
      "text/plain": [
       "<IPython.core.display.Image object>"
      ]
     },
     "metadata": {},
     "output_type": "display_data"
    }
   ],
   "source": [
    "import sqlite3\n",
    "\n",
    "from langgraph.constants import Send\n",
    "from langgraph.checkpoint.sqlite import SqliteSaver\n",
    "\n",
    "def initiate_all_interviews(state: OverallState):\n",
    "    \"\"\" This is the \"map\" step where we run each interview sub-graph using Send API \"\"\"    \n",
    "\n",
    "    topic = state[\"topic\"]\n",
    "    return [Send(\"conduct_interview\", {\"topic\": topic,\n",
    "                                       \"expert\": expert}) for expert in state[\"experts\"]]\n",
    "\n",
    "# Add nodes and edges \n",
    "overall_builder = StateGraph(OverallState)\n",
    "\n",
    "# Add nodes and edges \n",
    "overall_builder.add_node(\"generate_experts\", generate_experts)\n",
    "overall_builder.add_node(\"conduct_interview\", interview_builder.compile())\n",
    "\n",
    "overall_builder.add_edge(START, \"generate_experts\")\n",
    "overall_builder.add_conditional_edges(\"generate_experts\", initiate_all_interviews, [\"conduct_interview\"])\n",
    "overall_builder.add_edge(\"conduct_interview\", END)\n",
    "\n",
    "# Memory\n",
    "db_path = \"state_db/final_assistant.db\"\n",
    "conn = sqlite3.connect(db_path, check_same_thread=False)\n",
    "memory = SqliteSaver(conn)\n",
    "\n",
    "# Compile\n",
    "graph = overall_builder.compile(checkpointer=memory)\n",
    "\n",
    "# View\n",
    "display(Image(graph.get_graph(xray=1).draw_mermaid_png()))"
   ]
  },
  {
   "cell_type": "markdown",
   "id": "8b4b169b-ca9e-4396-b3cf-3fdbaa309bf1",
   "metadata": {},
   "source": [
    "Now, let's try running."
   ]
  },
  {
   "cell_type": "code",
   "execution_count": 67,
   "id": "2d921c53-2bac-40cf-9ba4-b75352ce2d75",
   "metadata": {},
   "outputs": [
    {
     "name": "stderr",
     "output_type": "stream",
     "text": [
      "CallbackManager.merge(): Parent run IDs do not match. Using the parent run ID of the first callback manager.\n",
      "CallbackManager.merge(): Parent run IDs do not match. Using the parent run ID of the first callback manager.\n",
      "CallbackManager.merge(): Parent run IDs do not match. Using the parent run ID of the first callback manager.\n"
     ]
    }
   ],
   "source": [
    "thread = {\"configurable\": {\"thread_id\": \"3\"}}\n",
    "topic = \"A strategy for top players to draft in Fantasy Football.\"\n",
    "result = graph.invoke({\"topic\": topic}, thread)"
   ]
  },
  {
   "cell_type": "code",
   "execution_count": 68,
   "id": "3e321d55-9b6f-445d-a012-efd4cd47567f",
   "metadata": {
    "scrolled": true
   },
   "outputs": [
    {
     "data": {
      "text/markdown": [
       "### Get 'Your Guys' Over ADP\n",
       "Prioritize drafting players you believe in over strictly adhering to Average Draft Position (ADP). If you want Cooper Kupp and he's not likely to be available in the fourth round, take him in the third round over players like Mike Evans or Nico Collins.\n"
      ],
      "text/plain": [
       "<IPython.core.display.Markdown object>"
      ]
     },
     "metadata": {},
     "output_type": "display_data"
    },
    {
     "data": {
      "text/markdown": [
       "### Reaching Isn't Always Bad\n",
       "If you want a player and he won’t be there next time you pick, it’s not a reach. Trust your research and instincts over ADP, especially in the middle rounds where player performance can vary significantly.\n"
      ],
      "text/plain": [
       "<IPython.core.display.Markdown object>"
      ]
     },
     "metadata": {},
     "output_type": "display_data"
    },
    {
     "data": {
      "text/markdown": [
       "### Early Consistency, Late Upside\n",
       "Draft consistent performers with a high floor early to build a stable foundation. Target high-upside players in the later rounds who might have more risk but also the potential to be league-winners.\n"
      ],
      "text/plain": [
       "<IPython.core.display.Markdown object>"
      ]
     },
     "metadata": {},
     "output_type": "display_data"
    },
    {
     "data": {
      "text/markdown": [
       "### Metrics for Consistency and Upside\n",
       "For consistency, look at past performance, target share, and role in the offense. For upside, consider athleticism, opportunity for increased workload, and changes in the team's offensive scheme.\n"
      ],
      "text/plain": [
       "<IPython.core.display.Markdown object>"
      ]
     },
     "metadata": {},
     "output_type": "display_data"
    },
    {
     "data": {
      "text/markdown": [
       "### Late-Round Lottery Tickets\n",
       "In the later rounds, target high-upside players and handcuffs. Look for players in high-powered offenses or those with a clear path to increased playing time, like rookies or second-year players who could break out.\n"
      ],
      "text/plain": [
       "<IPython.core.display.Markdown object>"
      ]
     },
     "metadata": {},
     "output_type": "display_data"
    },
    {
     "data": {
      "text/markdown": [
       "### Adjust for League Format\n",
       "In PPR leagues, prioritize wide receivers and pass-catching running backs. In standard scoring leagues, focus on players who can accumulate yardage and touchdowns, like workhorse running backs.\n"
      ],
      "text/plain": [
       "<IPython.core.display.Markdown object>"
      ]
     },
     "metadata": {},
     "output_type": "display_data"
    },
    {
     "data": {
      "text/markdown": [
       "### Deebo Samuel: The Fifth-Round Steal\n",
       "Deebo Samuel is a great example of value-based drafting. His ADP hovers around WR20, but his potential output makes him a steal in the fifth round.\n"
      ],
      "text/plain": [
       "<IPython.core.display.Markdown object>"
      ]
     },
     "metadata": {},
     "output_type": "display_data"
    },
    {
     "data": {
      "text/markdown": [
       "### Jake Ferguson: Late-Round TE Gem\n",
       "While top-tier TEs like Mark Andrews are great, targeting a TE like Jake Ferguson later in the draft can provide good value without sacrificing depth at other positions.\n"
      ],
      "text/plain": [
       "<IPython.core.display.Markdown object>"
      ]
     },
     "metadata": {},
     "output_type": "display_data"
    },
    {
     "data": {
      "text/markdown": [
       "### Beware the Hype: Chris Olave Edition\n",
       "Chris Olave has an ADP of WR9 despite finishing as WR19 last season. Unless there's overwhelming evidence of a breakout, it's better to avoid such players at their current price.\n"
      ],
      "text/plain": [
       "<IPython.core.display.Markdown object>"
      ]
     },
     "metadata": {},
     "output_type": "display_data"
    },
    {
     "data": {
      "text/markdown": [
       "### Kenneth Walker: The Overlooked Game-Changer\n",
       "Kenneth Walker is often overlooked because of the ADP of other running backs going ahead of him. However, with the Seahawks likely to increase their pace of play, he could outperform many of the RBs drafted before him.\n"
      ],
      "text/plain": [
       "<IPython.core.display.Markdown object>"
      ]
     },
     "metadata": {},
     "output_type": "display_data"
    },
    {
     "data": {
      "text/markdown": [
       "### Balancing Act: Immediate Impact vs. Long-Term Potential\n",
       "Draft a solid RB1 early for consistent points, then take a flyer on a high-upside rookie WR later to balance immediate impact and long-term potential.\n"
      ],
      "text/plain": [
       "<IPython.core.display.Markdown object>"
      ]
     },
     "metadata": {},
     "output_type": "display_data"
    },
    {
     "data": {
      "text/markdown": [
       "### Deebo and Walker: The Winning Combo\n",
       "Targeting undervalued players like Deebo Samuel and Kenneth Walker can secure high-performing players at a lower cost, allowing for a more balanced and competitive roster.\n"
      ],
      "text/plain": [
       "<IPython.core.display.Markdown object>"
      ]
     },
     "metadata": {},
     "output_type": "display_data"
    },
    {
     "data": {
      "text/markdown": [
       "### Overvaluing Recent Performance: A Common Pitfall\n",
       "Players often get drafted higher based on a few standout games from the previous season. It's important to look at the overall body of work and the context of those performances.\n"
      ],
      "text/plain": [
       "<IPython.core.display.Markdown object>"
      ]
     },
     "metadata": {},
     "output_type": "display_data"
    },
    {
     "data": {
      "text/markdown": [
       "### Spread Out Those Bye Weeks!\n",
       "Having too many key players on the same bye week can hurt your team. Spread out your bye weeks to avoid a single week where you're significantly weakened.\n"
      ],
      "text/plain": [
       "<IPython.core.display.Markdown object>"
      ]
     },
     "metadata": {},
     "output_type": "display_data"
    },
    {
     "data": {
      "text/markdown": [
       "### Flexibility is Key: Adapt to the Draft\n",
       "Sticking rigidly to a pre-draft plan can be detrimental. Be flexible and adapt based on how the draft unfolds.\n"
      ],
      "text/plain": [
       "<IPython.core.display.Markdown object>"
      ]
     },
     "metadata": {},
     "output_type": "display_data"
    },
    {
     "data": {
      "text/markdown": [
       "### Stay Updated: Your Secret Weapon\n",
       "Staying updated with the latest news and trends is crucial. Resources like ESPN, FantasyPros, and The Fantasy Footballers podcast provide valuable insights and updates.\n"
      ],
      "text/plain": [
       "<IPython.core.display.Markdown object>"
      ]
     },
     "metadata": {},
     "output_type": "display_data"
    },
    {
     "data": {
      "text/markdown": [
       "### Reach for Your Guys!\n",
       "Top Fantasy Football players prioritize drafting players they believe in, even if it means taking them earlier than their Average Draft Position (ADP) suggests. Trust your research and instincts over consensus ADP.\n"
      ],
      "text/plain": [
       "<IPython.core.display.Markdown object>"
      ]
     },
     "metadata": {},
     "output_type": "display_data"
    },
    {
     "data": {
      "text/markdown": [
       "### Achane: The Late-Round Sleeper\n",
       "Last season, savvy players who reached for Achane as a late-round sleeper were rewarded. This example highlights the importance of trusting your research and instincts.\n"
      ],
      "text/plain": [
       "<IPython.core.display.Markdown object>"
      ]
     },
     "metadata": {},
     "output_type": "display_data"
    },
    {
     "data": {
      "text/markdown": [
       "### Balancing High-Upside vs. Consistent Performers\n",
       "Top players balance high-upside picks and consistent performers by focusing on players they believe in, regardless of ADP. They take risks, especially in later rounds, where the potential reward outweighs the risk.\n"
      ],
      "text/plain": [
       "<IPython.core.display.Markdown object>"
      ]
     },
     "metadata": {},
     "output_type": "display_data"
    },
    {
     "data": {
      "text/markdown": [
       "### High-Upside vs. Consistent Performers: Achane and Kupp\n",
       "Achane was a high-upside pick who could break out, while Cooper Kupp was a consistent performer. Both types of players are crucial for a balanced Fantasy team.\n"
      ],
      "text/plain": [
       "<IPython.core.display.Markdown object>"
      ]
     },
     "metadata": {},
     "output_type": "display_data"
    },
    {
     "data": {
      "text/markdown": [
       "### Early Rounds vs. Later Rounds Strategy\n",
       "In early rounds, top players secure high-floor, high-ceiling players for consistency. In later rounds, they swing for the fences with high-upside picks and sleepers, ensuring a balanced team.\n"
      ],
      "text/plain": [
       "<IPython.core.display.Markdown object>"
      ]
     },
     "metadata": {},
     "output_type": "display_data"
    },
    {
     "data": {
      "text/markdown": [
       "### Cooper Kupp: Early-Round Steal\n",
       "Cooper Kupp, taken in the third round, provided first-round value, showcasing the importance of securing reliable performers early in the draft.\n"
      ],
      "text/plain": [
       "<IPython.core.display.Markdown object>"
      ]
     },
     "metadata": {},
     "output_type": "display_data"
    },
    {
     "data": {
      "text/markdown": [
       "### Achane: Late-Round Gem\n",
       "Achane, identified as a potential breakout player, delivered on his promise, proving the value of targeting high-upside sleepers in the later rounds.\n"
      ],
      "text/plain": [
       "<IPython.core.display.Markdown object>"
      ]
     },
     "metadata": {},
     "output_type": "display_data"
    },
    {
     "data": {
      "text/markdown": [
       "### Handling Injuries and Bye Weeks\n",
       "Top players draft depth and remain flexible to handle injuries and bye weeks. They understand that many later-round picks are on thin ice and are prepared to make adjustments.\n"
      ],
      "text/plain": [
       "<IPython.core.display.Markdown object>"
      ]
     },
     "metadata": {},
     "output_type": "display_data"
    },
    {
     "data": {
      "text/markdown": [
       "### High-Risk, High-Reward: Diggs vs. Elliott\n",
       "Stefon Diggs, undervalued due to concerns about Josh Allen, paid off as a high-risk pick. Conversely, Ezekiel Elliott, drafted too early based on past performance, didn't meet expectations.\n"
      ],
      "text/plain": [
       "<IPython.core.display.Markdown object>"
      ]
     },
     "metadata": {},
     "output_type": "display_data"
    },
    {
     "data": {
      "text/markdown": [
       "### Stay Updated, Stay Ahead\n",
       "Staying updated with the latest news and trends is crucial. It allows top players to make informed decisions and adjust their picks based on the most current information, ensuring a successful Fantasy season.\n"
      ],
      "text/plain": [
       "<IPython.core.display.Markdown object>"
      ]
     },
     "metadata": {},
     "output_type": "display_data"
    },
    {
     "data": {
      "text/markdown": [
       "### Preparation is Key\n",
       "Top Fantasy Football players differentiate themselves through meticulous preparation, studying player stats, team dynamics, and staying updated on training camp reports and injuries. This allows them to make informed decisions and adapt their strategies as the draft unfolds.\n"
      ],
      "text/plain": [
       "<IPython.core.display.Markdown object>"
      ]
     },
     "metadata": {},
     "output_type": "display_data"
    },
    {
     "data": {
      "text/markdown": [
       "### First Few Rounds Strategy\n",
       "In the first few rounds, top players focus on securing high-upside, high-floor players. For example, they might draft a top-tier running back like Saquon Barkley in Round 1, a high-performing wide receiver like Cooper Kupp in Round 2, and another reliable player in Round 3.\n"
      ],
      "text/plain": [
       "<IPython.core.display.Markdown object>"
      ]
     },
     "metadata": {},
     "output_type": "display_data"
    },
    {
     "data": {
      "text/markdown": [
       "### Balancing Needs vs. Best Player Available\n",
       "Top players strike a balance between drafting for positional needs and selecting the best player available. They fill key positions with high-quality players but pivot to BPA if a highly valuable player falls to them, ensuring they don't miss out on potential league-winners.\n"
      ],
      "text/plain": [
       "<IPython.core.display.Markdown object>"
      ]
     },
     "metadata": {},
     "output_type": "display_data"
    },
    {
     "data": {
      "text/markdown": [
       "### Prioritizing Less Popular Positions\n",
       "Top players might prioritize less popular positions early, such as drafting a tight end like Mark Andrews or a quarterback like Patrick Mahomes in the third or fourth round. This can provide a positional advantage that outweighs the depth available at other positions later.\n"
      ],
      "text/plain": [
       "<IPython.core.display.Markdown object>"
      ]
     },
     "metadata": {},
     "output_type": "display_data"
    },
    {
     "data": {
      "text/markdown": [
       "### Middle Rounds Value Picks\n",
       "In the middle rounds, top players look for value picks and potential breakout candidates. They might target players like Kenneth Walker, who has an established role and is expected to perform well based on training camp reports and team dynamics.\n"
      ],
      "text/plain": [
       "<IPython.core.display.Markdown object>"
      ]
     },
     "metadata": {},
     "output_type": "display_data"
    },
    {
     "data": {
      "text/markdown": [
       "### Late Rounds High-Upside Fliers\n",
       "In the later rounds, top players focus on high-upside fliers and depth. They might draft players like Jake Ferguson, who has a clear path to targets, or take a chance on rookies and second-year players who could break out.\n"
      ],
      "text/plain": [
       "<IPython.core.display.Markdown object>"
      ]
     },
     "metadata": {},
     "output_type": "display_data"
    },
    {
     "data": {
      "text/markdown": [
       "### Essential Tools and Resources\n",
       "Top players rely on tools like Fantasy Football Draft Kits, mock drafts, training camp reports, and advanced statistics. These resources help them make informed decisions and stay ahead of the competition.\n"
      ],
      "text/plain": [
       "<IPython.core.display.Markdown object>"
      ]
     },
     "metadata": {},
     "output_type": "display_data"
    },
    {
     "data": {
      "text/markdown": [
       "### Preparation is Key\n",
       "Top players spend significant time analyzing player statistics, team dynamics, and injury reports. For example, knowing that Lions RB Jahmyr Gibbs is recovering well from a leg injury can influence his draft value positively.\n"
      ],
      "text/plain": [
       "<IPython.core.display.Markdown object>"
      ]
     },
     "metadata": {},
     "output_type": "display_data"
    },
    {
     "data": {
      "text/markdown": [
       "### Flexibility Wins Drafts\n",
       "Top players have a preferred plan but are ready to adapt based on the draft's progression. For instance, if a high-value wide receiver like A.J. Brown is available later than expected, they might pivot from their initial running back focus.\n"
      ],
      "text/plain": [
       "<IPython.core.display.Markdown object>"
      ]
     },
     "metadata": {},
     "output_type": "display_data"
    },
    {
     "data": {
      "text/markdown": [
       "### Value Picks are Gold\n",
       "Identifying undervalued players is crucial. Top players might draft rookies or players returning from injury with high upside, like Malik Nabers, even if there are concerns about their team's offensive capabilities.\n"
      ],
      "text/plain": [
       "<IPython.core.display.Markdown object>"
      ]
     },
     "metadata": {},
     "output_type": "display_data"
    },
    {
     "data": {
      "text/markdown": [
       "### Reading the Room\n",
       "Top players adjust their strategy based on other managers' picks. If there's a run on running backs, they might focus on securing top wide receivers and tight ends, knowing they can find value running backs later.\n"
      ],
      "text/plain": [
       "<IPython.core.display.Markdown object>"
      ]
     },
     "metadata": {},
     "output_type": "display_data"
    },
    {
     "data": {
      "text/markdown": [
       "### Balancing Risk and Reward\n",
       "Top players make informed decisions by balancing risk and reward. For example, they might draft a player like A.J. Brown over Jahmyr Gibbs if they perceive a higher immediate value and lower risk.\n"
      ],
      "text/plain": [
       "<IPython.core.display.Markdown object>"
      ]
     },
     "metadata": {},
     "output_type": "display_data"
    },
    {
     "data": {
      "text/markdown": [
       "### Staying Updated\n",
       "Top players stay updated on the latest news and trends, such as injury reports and contract disputes, to make informed draft decisions. This ongoing research sets them apart from average players.\n"
      ],
      "text/plain": [
       "<IPython.core.display.Markdown object>"
      ]
     },
     "metadata": {},
     "output_type": "display_data"
    },
    {
     "data": {
      "text/markdown": [
       "### Thorough Research\n",
       "Top players' draft strategies are backed by thorough research. They analyze player statistics, team dynamics, and stay informed about the latest news, giving them an edge in making informed decisions.\n"
      ],
      "text/plain": [
       "<IPython.core.display.Markdown object>"
      ]
     },
     "metadata": {},
     "output_type": "display_data"
    },
    {
     "data": {
      "text/markdown": [
       "### Adapting to Draft Dynamics\n",
       "Top players are skilled at adapting to the draft dynamics. They constantly evaluate the draft landscape and are willing to deviate from their initial plan to maximize their team's potential.\n"
      ],
      "text/plain": [
       "<IPython.core.display.Markdown object>"
      ]
     },
     "metadata": {},
     "output_type": "display_data"
    }
   ],
   "source": [
    "from IPython.display import Markdown, display\n",
    "for t in result['takes']:\n",
    "    for take in t.takes:\n",
    "        display(Markdown(f\"### {take.title}\\n{take.take}\\n\"))"
   ]
  },
  {
   "cell_type": "markdown",
   "id": "ae3faf10-6513-4fa1-a197-c8410ebf5764",
   "metadata": {},
   "source": [
    "We can look at the trace! \n",
    "\n",
    "https://smith.langchain.com/public/a0ddbec6-c3ae-45b8-b341-fc9a6247a994/r"
   ]
  },
  {
   "cell_type": "code",
   "execution_count": null,
   "id": "4e822f80-350a-4ae4-93ae-5c9b91a66093",
   "metadata": {},
   "outputs": [],
   "source": []
  }
 ],
 "metadata": {
  "kernelspec": {
   "display_name": "Python 3 (ipykernel)",
   "language": "python",
   "name": "python3"
  },
  "language_info": {
   "codemirror_mode": {
    "name": "ipython",
    "version": 3
   },
   "file_extension": ".py",
   "mimetype": "text/x-python",
   "name": "python",
   "nbconvert_exporter": "python",
   "pygments_lexer": "ipython3",
   "version": "3.11.8"
  }
 },
 "nbformat": 4,
 "nbformat_minor": 5
}

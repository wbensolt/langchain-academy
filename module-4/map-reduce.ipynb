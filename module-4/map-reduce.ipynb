{
 "cells": [
  {
   "cell_type": "markdown",
   "id": "22d09ea1-d963-47c6-ba24-847c6208bf8d",
   "metadata": {},
   "source": [
    "# Map-Reduce\n",
    "\n",
    "## Review\n",
    "\n",
    "We discussed the motivation and general layout of the Fantasy Football take-bot.\n",
    "\n",
    "We built an outer graph that builds our experts with an interview sub-graph.\n",
    "\n",
    "## Goals\n",
    "\n",
    "Now, how can we run all interviews in parallel! \n",
    "\n",
    "We'll introduce [map-reduce](https://langchain-ai.github.io/langgraph/how-tos/map-reduce/), which enables efficient task decomposition and parallel processing. \n",
    "\n",
    "It involves breaking a task into smaller sub-tasks, processing each sub-task in parallel, and aggregating the results across all of the completed sub-tasks.\n",
    "\n",
    "LangGraph has support for this using the [Send](https://langchain-ai.github.io/langgraph/concepts/low_level/#send) API!"
   ]
  },
  {
   "cell_type": "code",
   "execution_count": null,
   "id": "74129ce0-5d40-4780-9eb2-545617c3f4b0",
   "metadata": {},
   "outputs": [],
   "source": [
    "%%capture --no-stderr\n",
    "%pip install --quiet -U sqlite3 langgraph-checkpoint-sqlite langchain_core langgraph langchain_openai"
   ]
  },
  {
   "cell_type": "markdown",
   "id": "25dac978-131a-41ad-8e74-c8e43be48d76",
   "metadata": {},
   "source": [
    "## Gather expert sources\n",
    "\n",
    "As before, we'll get our sources."
   ]
  },
  {
   "cell_type": "code",
   "execution_count": 1,
   "id": "8533ff79-73f4-4dce-8288-fb071dbe86c3",
   "metadata": {},
   "outputs": [],
   "source": [
    "import os\n",
    "import praw\n",
    "\n",
    "# Reddit creds\n",
    "reddit_client_id = os.getenv('REDDIT_CLIENT_ID')\n",
    "reddit_client_secret = os.getenv('REDDIT_CLIENT_SECRET')\n",
    "\n",
    "# Initialize the Reddit instance\n",
    "reddit = praw.Reddit(client_id=reddit_client_id,\n",
    "                     client_secret=reddit_client_secret,\n",
    "                     user_agent='Fantasy Football Loader')\n",
    "\n",
    "def get_reddit_post(url):\n",
    "    ''' Get reddit post comments '''\n",
    "\n",
    "    # Fetch the submission\n",
    "    submission = reddit.submission(url=url)\n",
    "    \n",
    "    # Load the comments\n",
    "    submission.comments.replace_more(limit=None)\n",
    "    comments = submission.comments.list()\n",
    "    \n",
    "    # Concatenate comments into a single string\n",
    "    reddit_context = \"\\n *** user commnent *** \\n\".join([comment.body for comment in comments])\n",
    "    return reddit_context\n",
    "\n",
    "# Context for experts \n",
    "draft_strategy_context = get_reddit_post(\"https://www.reddit.com/r/fantasyfootball/comments/1ewk6kr/theres_only_one_draft_strategy_that_ill_ever/\")\n",
    "top_player_context = get_reddit_post(\"https://www.reddit.com/r/fantasyfootball/comments/1espdv7/who_is_one_guy_you_arent_leaving_the_draft/\")"
   ]
  },
  {
   "cell_type": "markdown",
   "id": "af85c4c2-05ac-4a64-b6ec-db71525c6d41",
   "metadata": {},
   "source": [
    "## Build graph\n",
    "\n",
    "### State"
   ]
  },
  {
   "cell_type": "code",
   "execution_count": 28,
   "id": "97a8d412-a84f-4a70-b049-a5713b100e47",
   "metadata": {},
   "outputs": [],
   "source": [
    "import operator\n",
    "\n",
    "from typing_extensions import TypedDict, List, Annotated\n",
    "\n",
    "from langchain_core.pydantic_v1 import BaseModel, Field\n",
    "from langchain_core.messages import AIMessage, HumanMessage, SystemMessage\n",
    "\n",
    "from langgraph.graph import MessagesState\n",
    "\n",
    "class Expert(BaseModel):\n",
    "    name: str = Field(\n",
    "        description=\"Name of the expert.\", pattern=r\"^[a-zA-Z0-9_-]{1,64}$\"\n",
    "    )\n",
    "    role: str = Field(\n",
    "        description=\"Role of the expert.\",\n",
    "    )\n",
    "    context: SystemMessage = Field(\n",
    "        description=\"Instructions used by the expert.\",\n",
    "    )\n",
    "\n",
    "    def answer(self, dicussion: List) -> AIMessage:\n",
    "        return llm.invoke([self.context]+dicussion)\n",
    "\n",
    "class Take(BaseModel):\n",
    "    title: str = Field(\n",
    "        description=\"Punchy summary title for the take or perspective\",\n",
    "    )\n",
    "    take: str = Field(\n",
    "        description=\"Fun, punchy observation from the discussion between expert and interviewer.\",\n",
    "    )\n",
    "\n",
    "class Takes(BaseModel):\n",
    "    takes: List[Take] = Field(\n",
    "        description=\"A list of takes, each containing a title and a take observation.\"\n",
    "    )\n",
    "\n",
    "class OverallState(TypedDict):\n",
    "    topic: str\n",
    "    experts: List[Expert]\n",
    "    takes: Annotated[List[Take], operator.add]\n",
    "\n",
    "class InterviewState(MessagesState):\n",
    "    topic: str\n",
    "    expert: Expert\n",
    "    \n",
    "class InterviewOutputState(TypedDict):\n",
    "     takes: List[Take]"
   ]
  },
  {
   "cell_type": "markdown",
   "id": "95cddfef-ca23-48ce-8ba2-114cc2af48ce",
   "metadata": {},
   "source": [
    "### Parameters and LLM"
   ]
  },
  {
   "cell_type": "code",
   "execution_count": 29,
   "id": "1f0a1f01-67f6-47ac-af95-132e92ebea35",
   "metadata": {},
   "outputs": [],
   "source": [
    "from langchain_openai import ChatOpenAI\n",
    "llm = ChatOpenAI(model=\"gpt-4o\", temperature=0) \n",
    "\n",
    "max_num_turns = 4"
   ]
  },
  {
   "cell_type": "markdown",
   "id": "55819e26-f8c9-42d5-8b64-9eac26dad48c",
   "metadata": {},
   "source": [
    "### Graph"
   ]
  },
  {
   "cell_type": "code",
   "execution_count": 34,
   "id": "a7e2bf9a-5101-4279-8894-f728987b8b9b",
   "metadata": {},
   "outputs": [],
   "source": [
    "from langgraph.graph import END, StateGraph, START\n",
    "\n",
    "from IPython.display import Image, display\n",
    "\n",
    "from langchain_core.runnables import chain as as_runnable\n",
    "\n",
    "@as_runnable\n",
    "def generate_experts(state: OverallState):\n",
    "    \"\"\" Generate our experts \"\"\"\n",
    "    \n",
    "    preamble = \"You are an expert in in Fantasy Football. You are being interviewed by an analyst. Don't make up your own answers.\"\n",
    "    \n",
    "    draft_strategy_expert = Expert(\n",
    "        name=\"Moe\",\n",
    "        role=\"Fantasy Draft Strategy Expert\",\n",
    "        context=SystemMessage(content=f\"{preamble} Use only this information to answer questions from the analyst: {draft_strategy_context}\"),\n",
    "    )\n",
    "    \n",
    "    top_player_expert = Expert(\n",
    "        name=\"Jimbo\",\n",
    "        role=\"Top Players To Draft Expert\",\n",
    "        context=SystemMessage(content=f\"{preamble} Use only this information to answer questions from the analyst: {top_player_context}\"),\n",
    "    )\n",
    "\n",
    "    return {\"experts\": [draft_strategy_expert, top_player_expert]}\n",
    "\n",
    "@as_runnable\n",
    "def generate_question(state: InterviewState):\n",
    "    \"\"\"Node to generate a question \"\"\"\n",
    "\n",
    "    instructions = SystemMessage(content=f\"\"\"\n",
    "    \n",
    "    You are an analyst tasked with interviewing an expert to learn about a specific topic. \n",
    "    \n",
    "    Here is your topic: {state[\"topic\"]}\n",
    "    \n",
    "    1. Interesting: Insights that people will find surprising or non-obvious.\n",
    "    \n",
    "    2. Specific: Insights that avoid generalities and include specific examples from the expert.\n",
    "    \n",
    "    Begin by introducing yourself, and then ask your question.\n",
    "    \n",
    "    Continue to ask questions to drill down and refine your understanding of the topic.\n",
    "    \n",
    "    As the interview proceeds for a bit, assess your understanding.\n",
    "    \n",
    "    If you are satisfied, then complete the interview with: \"Thank you so much for your help!\"\n",
    "    \n",
    "    Remember to stay in character throughout your response, reflecting the persona and goals provided to you.\"\"\")\n",
    "    \n",
    "    # Generate question \n",
    "    result = llm.invoke([instructions]+state[\"messages\"])   \n",
    "    \n",
    "    # Write messages to state\n",
    "    return {\"messages\": [HumanMessage(content=result.content,name='Interviewer')]}\n",
    "\n",
    "@as_runnable\n",
    "def generate_answer(state: InterviewState):\n",
    "    \"\"\" Node to answer a question \"\"\"\n",
    "\n",
    "    messages = state[\"messages\"]\n",
    "    expert = state[\"expert\"]\n",
    "   \n",
    "    # Answer question\n",
    "    answer = expert.answer(messages)\n",
    "    \n",
    "    # Use this to track expert responses\n",
    "    answer.name = 'expert'\n",
    "    \n",
    "    # Append it to state\n",
    "    return {\"messages\": [answer]}\n",
    "\n",
    "@as_runnable\n",
    "def generate_takes(state: InterviewState):\n",
    "    \"\"\" Node to answer a question \"\"\"\n",
    "\n",
    "    # Get discussion\n",
    "    messages = state[\"messages\"]\n",
    "\n",
    "    # Instructions\n",
    "    instructions = SystemMessage(content=f\"\"\"Distill the conversation between the analyst and expert into a set of fun, punchy takes. Use specific players / examples in your takes to liven then up and keep them specific.\"\"\")\n",
    "\n",
    "    # Structured output\n",
    "    structured_llm = llm.with_structured_output(Takes)\n",
    "    \n",
    "    # Answer question\n",
    "    takes = structured_llm.invoke([instructions]+messages)\n",
    "        \n",
    "    # Append it to state\n",
    "    return {\"takes\": [takes]}\n",
    "\n",
    "def route_messages(state: InterviewState, \n",
    "                   name: str = \"expert\"):\n",
    "\n",
    "    \"\"\" Route between question and answer \"\"\"\n",
    "    \n",
    "    # Get messages\n",
    "    messages = state[\"messages\"]\n",
    "\n",
    "    # Check the number of expert answers \n",
    "    num_responses = len(\n",
    "        [m for m in messages if isinstance(m, AIMessage) and m.name == name]\n",
    "    )\n",
    "\n",
    "    # End if expert has answered more than the max turns\n",
    "    if num_responses >= max_num_turns:\n",
    "        return \"generate_takes\"\n",
    "\n",
    "    # This router is run after each question - answer pair \n",
    "    last_question = messages[-2]\n",
    "    \n",
    "    if \"Thank you so much for your help\" in last_question.content:\n",
    "        return \"generate_takes\"\n",
    "    return \"ask_question\"\n",
    "\n",
    "# Add nodes and edges \n",
    "interview_builder = StateGraph(input=InterviewState, output=InterviewOutputState)\n",
    "interview_builder.add_node(\"ask_question\", generate_question)\n",
    "interview_builder.add_node(\"answer_question\", generate_answer)\n",
    "interview_builder.add_node(\"generate_takes\", generate_takes)\n",
    "\n",
    "# Flow\n",
    "interview_builder.add_edge(START, \"ask_question\")\n",
    "interview_builder.add_edge(\"ask_question\", \"answer_question\")\n",
    "interview_builder.add_conditional_edges(\"answer_question\", route_messages,['ask_question','generate_takes'])\n",
    "interview_builder.add_edge(\"generate_takes\", END)"
   ]
  },
  {
   "cell_type": "markdown",
   "id": "c3887e1c-1284-46c7-850e-0770f34ef6af",
   "metadata": {},
   "source": [
    "### Map-reduce\n",
    "\n",
    "Now, see that we use the `Send` API to spawn an interview for each expert in our list of experts!\n",
    "\n",
    "Note that the final node in each interview updates state as shown here:\n",
    "\n",
    "```\n",
    "return {\"takes\": [takes]}\n",
    "```\n",
    "\n",
    "And note that the overall state has a `takes` key with reducer that can append! \n",
    "\n",
    "```\n",
    "takes: Annotated[List[Take], operator.add]\n",
    "```\n",
    "\n",
    "So, we will perform all interviews in parallel and append each list to the `takes` key in our `OverallState`!"
   ]
  },
  {
   "cell_type": "code",
   "execution_count": 50,
   "id": "6633159b-9d6e-45a7-a1f8-7736aab9446e",
   "metadata": {},
   "outputs": [
    {
     "data": {
      "image/jpeg": "[encoded data removed]",
      "text/plain": [
       "<IPython.core.display.Image object>"
      ]
     },
     "metadata": {},
     "output_type": "display_data"
    }
   ],
   "source": [
    "import sqlite3\n",
    "\n",
    "from langgraph.constants import Send\n",
    "from langgraph.checkpoint.sqlite import SqliteSaver\n",
    "\n",
    "def initiate_all_interviews(state: OverallState):\n",
    "    \"\"\" This is the \"map\" step where we run each interview sub-graph using Send API \"\"\"    \n",
    "\n",
    "    topic = state[\"topic\"]\n",
    "    return [Send(\"conduct_interview\", {\"topic\": topic,\n",
    "                                       \"expert\": expert}) for expert in state[\"experts\"]]\n",
    "\n",
    "# Add nodes and edges \n",
    "overall_builder = StateGraph(OverallState)\n",
    "\n",
    "# Add nodes and edges \n",
    "overall_builder.add_node(\"generate_experts\", generate_experts)\n",
    "overall_builder.add_node(\"conduct_interview\", interview_builder.compile())\n",
    "\n",
    "overall_builder.add_edge(START, \"generate_experts\")\n",
    "overall_builder.add_conditional_edges(\"generate_experts\", initiate_all_interviews, [\"conduct_interview\"])\n",
    "overall_builder.add_edge(\"conduct_interview\", END)\n",
    "\n",
    "# Memory\n",
    "db_path = \"state_db/final_assistant.db\"\n",
    "conn = sqlite3.connect(db_path, check_same_thread=False)\n",
    "memory = SqliteSaver(conn)\n",
    "\n",
    "# Compile\n",
    "graph = overall_builder.compile(checkpointer=memory)\n",
    "\n",
    "# View\n",
    "display(Image(graph.get_graph(xray=1).draw_mermaid_png()))"
   ]
  },
  {
   "cell_type": "code",
   "execution_count": 51,
   "id": "2d921c53-2bac-40cf-9ba4-b75352ce2d75",
   "metadata": {},
   "outputs": [
    {
     "name": "stderr",
     "output_type": "stream",
     "text": [
      "CallbackManager.merge(): Parent run IDs do not match. Using the parent run ID of the first callback manager.\n",
      "CallbackManager.merge(): Parent run IDs do not match. Using the parent run ID of the first callback manager.\n"
     ]
    }
   ],
   "source": [
    "thread = {\"configurable\": {\"thread_id\": \"1\"}}\n",
    "\n",
    "topic = \"An overall thesis for top players to draft and draft strategy for Fantasy Football.\"\n",
    "\n",
    "result = graph.invoke({\"topic\": topic}, thread)"
   ]
  },
  {
   "cell_type": "code",
   "execution_count": 52,
   "id": "3e321d55-9b6f-445d-a012-efd4cd47567f",
   "metadata": {},
   "outputs": [
    {
     "data": {
      "text/markdown": [
       "### Cooper Kupp's 2021 Gamble\n",
       "Drafting Cooper Kupp in the third round of 2021, despite his ADP suggesting a later pick, paid off massively. Kupp led the league in receptions, receiving yards, and touchdowns, propelling one manager to a championship.\n"
      ],
      "text/plain": [
       "<IPython.core.display.Markdown object>"
      ]
     },
     "metadata": {},
     "output_type": "display_data"
    },
    {
     "data": {
      "text/markdown": [
       "### Mahomes Magic in 2018\n",
       "In 2018, one savvy manager drafted Patrick Mahomes in the 7th round, well ahead of his ADP. Mahomes threw for over 5,000 yards and 50 touchdowns, becoming the top fantasy QB and leading that manager to victory.\n"
      ],
      "text/plain": [
       "<IPython.core.display.Markdown object>"
      ]
     },
     "metadata": {},
     "output_type": "display_data"
    },
    {
     "data": {
      "text/markdown": [
       "### Trust Your Gut, Win Big\n",
       "Whether it's Cooper Kupp or Patrick Mahomes, trusting your research and instincts over ADP can turn a risky pick into a league-winning move.\n"
      ],
      "text/plain": [
       "<IPython.core.display.Markdown object>"
      ]
     },
     "metadata": {},
     "output_type": "display_data"
    },
    {
     "data": {
      "text/markdown": [
       "### Deebo Samuel: The Steal of the Draft\n",
       "Deebo Samuel is a fifth-round gem at WR20 in ESPN leagues. Despite Brandon Aiyuk's presence, Samuel's talent and role make him a steal.\n"
      ],
      "text/plain": [
       "<IPython.core.display.Markdown object>"
      ]
     },
     "metadata": {},
     "output_type": "display_data"
    },
    {
     "data": {
      "text/markdown": [
       "### Avoid the Olave Trap\n",
       "Chris Olave's ADP is WR9, but he finished as WR19 last season. Without significant changes in his situation, he's overvalued.\n"
      ],
      "text/plain": [
       "<IPython.core.display.Markdown object>"
      ]
     },
     "metadata": {},
     "output_type": "display_data"
    },
    {
     "data": {
      "text/markdown": [
       "### Kenneth Walker: Undervalued Workhorse\n",
       "Kenneth Walker is a prime example of a valuable pick. With an established role and a favorable coaching staff, he's a steal compared to other RBs with question marks.\n"
      ],
      "text/plain": [
       "<IPython.core.display.Markdown object>"
      ]
     },
     "metadata": {},
     "output_type": "display_data"
    },
    {
     "data": {
      "text/markdown": [
       "### Jake Ferguson: Late-Round Gold\n",
       "Tight end is deep this year, so wait and snag Jake Ferguson. As TE10 on ESPN, he's set to be the #2 target in Dallas, offering great late-round value.\n"
      ],
      "text/plain": [
       "<IPython.core.display.Markdown object>"
      ]
     },
     "metadata": {},
     "output_type": "display_data"
    },
    {
     "data": {
      "text/markdown": [
       "### Selective Handcuffing: The Smart Play\n",
       "Handcuffing can be valuable, but be selective. If you draft a high-risk player like Jonathan Brooks, handcuff him with Chuba Hubbard to protect against injury or underperformance.\n"
      ],
      "text/plain": [
       "<IPython.core.display.Markdown object>"
      ]
     },
     "metadata": {},
     "output_type": "display_data"
    },
    {
     "data": {
      "text/markdown": [
       "### Flexibility is Key\n",
       "One common mistake is overcommitting to a rigid draft strategy. Stay flexible and adapt to the draft's flow to capitalize on value.\n"
      ],
      "text/plain": [
       "<IPython.core.display.Markdown object>"
      ]
     },
     "metadata": {},
     "output_type": "display_data"
    },
    {
     "data": {
      "text/markdown": [
       "### Value Over Name Recognition\n",
       "Avoid reaching for players based on name recognition or past performance. Focus on current situations and value to avoid overpaying.\n"
      ],
      "text/plain": [
       "<IPython.core.display.Markdown object>"
      ]
     },
     "metadata": {},
     "output_type": "display_data"
    }
   ],
   "source": [
    "from IPython.display import Markdown, display\n",
    "for t in result['takes']:\n",
    "    for take in t.takes:\n",
    "        display(Markdown(f\"### {take.title}\\n{take.take}\\n\"))"
   ]
  },
  {
   "cell_type": "code",
   "execution_count": null,
   "id": "d418075d-3564-4b89-8f27-402120048362",
   "metadata": {},
   "outputs": [],
   "source": []
  }
 ],
 "metadata": {
  "kernelspec": {
   "display_name": "Python 3 (ipykernel)",
   "language": "python",
   "name": "python3"
  },
  "language_info": {
   "codemirror_mode": {
    "name": "ipython",
    "version": 3
   },
   "file_extension": ".py",
   "mimetype": "text/x-python",
   "name": "python",
   "nbconvert_exporter": "python",
   "pygments_lexer": "ipython3",
   "version": "3.11.8"
  }
 },
 "nbformat": 4,
 "nbformat_minor": 5
}

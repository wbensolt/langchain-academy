{
 "cells": [
  {
   "cell_type": "markdown",
   "metadata": {},
   "source": [
    "# Double Texting\n",
    "\n",
    "Seamless handling of [double texting](https://langchain-ai.github.io/langgraph/concepts/double_texting/) is important for handling real-world usage scenarios, especially in chat applications.\n",
    "\n",
    "Users can send multiple messages in a row before the prior run(s) complete, and we want to ensure that we handle this gracefully.\n",
    "\n",
    "## Reject\n",
    "\n",
    "A simple approach is to [reject](https://langchain-ai.github.io/langgraph/cloud/how-tos/reject_concurrent/) any new runs until the current run completes."
   ]
  },
  {
   "cell_type": "code",
   "execution_count": null,
   "metadata": {},
   "outputs": [],
   "source": [
    "%%capture --no-stderr\n",
    "%pip install -U langgraph_sdk"
   ]
  },
  {
   "cell_type": "code",
   "execution_count": 2,
   "metadata": {},
   "outputs": [],
   "source": [
    "from langgraph_sdk import get_client\n",
    "url_for_cli_deployment = \"http://localhost:8123\"\n",
    "client = get_client(url=url_for_cli_deployment)"
   ]
  },
  {
   "cell_type": "code",
   "execution_count": 3,
   "metadata": {},
   "outputs": [
    {
     "name": "stdout",
     "output_type": "stream",
     "text": [
      "Failed to start concurrent run Client error '409 Conflict' for url 'http://localhost:8123/threads/b8ab8b4c-36c9-406c-8b80-7d88742537ad/runs'\n",
      "For more information check: https://developer.mozilla.org/en-US/docs/Web/HTTP/Status/409\n"
     ]
    }
   ],
   "source": [
    "import httpx\n",
    "from langchain_core.messages import HumanMessage\n",
    "\n",
    "# Create a thread\n",
    "thread = await client.threads.create()\n",
    "\n",
    "# Create to dos\n",
    "user_input_1 = \"Add a ToDo to follow-up with DI Repairs.\"\n",
    "user_input_2 = \"Add a ToDo to mount dresser to the wall.\"\n",
    "config = {\"configurable\": {\"user_id\": \"Test\"}}\n",
    "graph_name = \"task_maistro\" \n",
    "\n",
    "run = await client.runs.create(\n",
    "    thread[\"thread_id\"],\n",
    "    graph_name,\n",
    "    input={\"messages\": [HumanMessage(content=user_input_1)]}, \n",
    "    config=config,\n",
    ")\n",
    "try:\n",
    "    await client.runs.create(\n",
    "        thread[\"thread_id\"],\n",
    "        graph_name,\n",
    "        input={\"messages\": [HumanMessage(content=user_input_2)]}, \n",
    "        config=config,\n",
    "        multitask_strategy=\"reject\",\n",
    "    )\n",
    "except httpx.HTTPStatusError as e:\n",
    "    print(\"Failed to start concurrent run\", e)"
   ]
  },
  {
   "cell_type": "code",
   "execution_count": 4,
   "metadata": {},
   "outputs": [
    {
     "name": "stdout",
     "output_type": "stream",
     "text": [
      "================================\u001b[1m Human Message \u001b[0m=================================\n",
      "\n",
      "Add a ToDo to follow-up with DI Repairs.\n",
      "==================================\u001b[1m Ai Message \u001b[0m==================================\n",
      "Tool Calls:\n",
      "  UpdateMemory (call_S37jRn4vnGI9C4p2KaAy4PXc)\n",
      " Call ID: call_S37jRn4vnGI9C4p2KaAy4PXc\n",
      "  Args:\n",
      "    update_type: todo\n",
      "=================================\u001b[1m Tool Message \u001b[0m=================================\n",
      "\n",
      "New ToDo created:\n",
      "Content: {'task': 'Follow-up with DI Repairs', 'time_to_complete': 10, 'solutions': ['Call DI Repairs customer service', 'Email DI Repairs support', 'Check DI Repairs website for updates'], 'status': 'not started'}\n",
      "==================================\u001b[1m Ai Message \u001b[0m==================================\n",
      "\n",
      "I've added \"Follow-up with DI Repairs\" to your ToDo list. If there's anything else you need, feel free to let me know!\n"
     ]
    }
   ],
   "source": [
    "from langchain_core.messages import convert_to_messages\n",
    "\n",
    "# Wait until the original run completes\n",
    "await client.runs.join(thread[\"thread_id\"], run[\"run_id\"])\n",
    "\n",
    "# Get the state of the thread\n",
    "state = await client.threads.get_state(thread[\"thread_id\"])\n",
    "for m in convert_to_messages(state[\"values\"][\"messages\"]):\n",
    "    m.pretty_print()"
   ]
  },
  {
   "cell_type": "markdown",
   "metadata": {},
   "source": [
    "## Enqueue\n",
    "\n",
    "We can use [enqueue](https://langchain-ai.github.io/langgraph/cloud/how-tos/enqueue_concurrent/https://langchain-ai.github.io/langgraph/cloud/how-tos/enqueue_concurrent/) any new runs until the current run completes."
   ]
  },
  {
   "cell_type": "code",
   "execution_count": 5,
   "metadata": {},
   "outputs": [
    {
     "name": "stdout",
     "output_type": "stream",
     "text": [
      "================================\u001b[1m Human Message \u001b[0m=================================\n",
      "\n",
      "Send Erik his t-shirt gift this weekend.\n",
      "==================================\u001b[1m Ai Message \u001b[0m==================================\n",
      "Tool Calls:\n",
      "  UpdateMemory (call_SX7ewyI5vhTq1CIjQhFKFrch)\n",
      " Call ID: call_SX7ewyI5vhTq1CIjQhFKFrch\n",
      "  Args:\n",
      "    update_type: todo\n",
      "=================================\u001b[1m Tool Message \u001b[0m=================================\n",
      "\n",
      "New ToDo created:\n",
      "Content: {'task': 'Send Erik his t-shirt gift', 'time_to_complete': 30, 'deadline': '2024-11-17T23:59:59', 'solutions': ['Package the t-shirt', \"Print Erik's address\", 'Visit the post office']}\n",
      "\n",
      "Document 16b8b5c8-503a-470c-8b0a-3f23987a5d32 updated:\n",
      "Plan: Update the status of the task 'Follow-up with DI Repairs' to 'archived' as it is no longer relevant.\n",
      "Added content: archived\n",
      "==================================\u001b[1m Ai Message \u001b[0m==================================\n",
      "\n",
      "I've updated your ToDo list to send Erik his t-shirt gift this weekend. Let me know if there's anything else you need!\n",
      "================================\u001b[1m Human Message \u001b[0m=================================\n",
      "\n",
      "Get cash and pay nanny for 2 weeks. Do this by Friday.\n",
      "==================================\u001b[1m Ai Message \u001b[0m==================================\n",
      "Tool Calls:\n",
      "  UpdateMemory (call_ZZ6CZadwX81eFCauL2ToInAF)\n",
      " Call ID: call_ZZ6CZadwX81eFCauL2ToInAF\n",
      "  Args:\n",
      "    update_type: todo\n",
      "=================================\u001b[1m Tool Message \u001b[0m=================================\n",
      "\n",
      "New ToDo created:\n",
      "Content: {'task': 'Get cash and pay nanny for 2 weeks', 'time_to_complete': 20, 'deadline': '2024-11-17T23:59:59', 'solutions': ['Withdraw cash from ATM', 'Calculate total payment for 2 weeks', 'Hand cash to nanny'], 'status': 'not started'}\n",
      "\n",
      "Document 69078148-dbdd-4d7c-a4ad-358ef505baaf updated:\n",
      "Plan: Update the deadline for the task 'Send Erik his t-shirt gift' to ensure it is completed by this weekend.\n",
      "Added content: 2024-11-17T23:59:59\n",
      "==================================\u001b[1m Ai Message \u001b[0m==================================\n",
      "\n",
      "I've updated your ToDo list to ensure you get cash and pay the nanny for 2 weeks by Friday. Let me know if there's anything else you need!\n"
     ]
    }
   ],
   "source": [
    "# Create a new thread\n",
    "thread = await client.threads.create()\n",
    "\n",
    "# Create new ToDos\n",
    "user_input_1 = \"Send Erik his t-shirt gift this weekend.\"\n",
    "user_input_2 = \"Get cash and pay nanny for 2 weeks. Do this by Friday.\"\n",
    "config = {\"configurable\": {\"user_id\": \"Test\"}}\n",
    "graph_name = \"task_maistro\" \n",
    "\n",
    "first_run = await client.runs.create(\n",
    "    thread[\"thread_id\"],\n",
    "    graph_name,\n",
    "    input={\"messages\": [HumanMessage(content=user_input_1)]}, \n",
    "    config=config,\n",
    ")\n",
    "\n",
    "second_run = await client.runs.create(\n",
    "    thread[\"thread_id\"],\n",
    "    graph_name,\n",
    "    input={\"messages\": [HumanMessage(content=user_input_2)]}, \n",
    "    config=config,\n",
    "    multitask_strategy=\"enqueue\",\n",
    ")\n",
    "\n",
    "# Wait until the second run completes\n",
    "await client.runs.join(thread[\"thread_id\"], second_run[\"run_id\"])\n",
    "\n",
    "# Get the state of the thread\n",
    "state = await client.threads.get_state(thread[\"thread_id\"])\n",
    "for m in convert_to_messages(state[\"values\"][\"messages\"]):\n",
    "    m.pretty_print()"
   ]
  },
  {
   "cell_type": "markdown",
   "metadata": {},
   "source": [
    "## Interrupt\n",
    "\n",
    "We can use [interrupt](https://langchain-ai.github.io/langgraph/cloud/how-tos/interrupt_concurrent/) to interrupt the current run, but save all the work that has been done so far up to that point.\n"
   ]
  },
  {
   "cell_type": "code",
   "execution_count": 6,
   "metadata": {},
   "outputs": [
    {
     "name": "stdout",
     "output_type": "stream",
     "text": [
      "================================\u001b[1m Human Message \u001b[0m=================================\n",
      "\n",
      "Never mind, Thanksgiving is the 28th! Order Ham for Thanksgiving by next Friday.\n",
      "==================================\u001b[1m Ai Message \u001b[0m==================================\n",
      "Tool Calls:\n",
      "  UpdateMemory (call_xaLVOmrQ2mdXofMkegg8i85u)\n",
      " Call ID: call_xaLVOmrQ2mdXofMkegg8i85u\n",
      "  Args:\n",
      "    update_type: todo\n",
      "=================================\u001b[1m Tool Message \u001b[0m=================================\n",
      "\n",
      "Document 375d9596-edf8-4de2-985b-bacdc623d6ef updated:\n",
      "Plan: Update the task to reflect the correct Thanksgiving date and change the task to ordering ham.\n",
      "Added content: Order Ham for Thanksgiving\n",
      "\n",
      "New ToDo created:\n",
      "Content: {'task': 'Call parents back about Thanksgiving plans', 'time_to_complete': 15, 'deadline': None, 'solutions': ['Check calendar for availability', 'Discuss travel arrangements', 'Confirm dinner plans'], 'status': 'not started'}\n",
      "==================================\u001b[1m Ai Message \u001b[0m==================================\n",
      "\n",
      "I've updated your ToDo list to order the ham for Thanksgiving by next Friday. If there's anything else you need, just let me know!\n"
     ]
    }
   ],
   "source": [
    "# Create a new thread\n",
    "thread = await client.threads.create()\n",
    "\n",
    "# Create new ToDos\n",
    "user_input_1 = \"Order turkey for Thanksgiving by Friday.\"\n",
    "user_input_2 = \"Never mind, Thanksgiving is the 28th! Order Ham for Thanksgiving by next Friday.\"\n",
    "config = {\"configurable\": {\"user_id\": \"Test\"}}\n",
    "graph_name = \"task_maistro\" \n",
    "\n",
    "interrupted_run = await client.runs.create(\n",
    "    thread[\"thread_id\"],\n",
    "    graph_name,\n",
    "    input={\"messages\": [HumanMessage(content=user_input_1)]}, \n",
    "    config=config,\n",
    ")\n",
    "\n",
    "second_run = await client.runs.create(\n",
    "    thread[\"thread_id\"],\n",
    "    graph_name,\n",
    "    input={\"messages\": [HumanMessage(content=user_input_2)]}, \n",
    "    config=config,\n",
    "    multitask_strategy=\"interrupt\",\n",
    ")\n",
    "\n",
    "# Wait until the second run completes\n",
    "await client.runs.join(thread[\"thread_id\"], second_run[\"run_id\"])\n",
    "\n",
    "# Get the state of the thread\n",
    "state = await client.threads.get_state(thread[\"thread_id\"])\n",
    "for m in convert_to_messages(state[\"values\"][\"messages\"]):\n",
    "    m.pretty_print()"
   ]
  },
  {
   "cell_type": "code",
   "execution_count": 7,
   "metadata": {},
   "outputs": [
    {
     "name": "stdout",
     "output_type": "stream",
     "text": [
      "interrupted\n"
     ]
    }
   ],
   "source": [
    "# Confirm that the first run was interrupted\n",
    "print((await client.runs.get(thread[\"thread_id\"], interrupted_run[\"run_id\"]))[\"status\"])"
   ]
  },
  {
   "cell_type": "markdown",
   "metadata": {},
   "source": [
    "## Rollback\n",
    "\n",
    "We can use [rollback](https://langchain-ai.github.io/langgraph/cloud/how-tos/rollback_concurrent/) to interrupt the prior run of the graph, delete it, and start a new run with the double-texted input.\n"
   ]
  },
  {
   "cell_type": "code",
   "execution_count": 8,
   "metadata": {},
   "outputs": [
    {
     "name": "stdout",
     "output_type": "stream",
     "text": [
      "================================\u001b[1m Human Message \u001b[0m=================================\n",
      "\n",
      "Actually, add a ToDo to drop by Yoga in person on Sunday.\n",
      "==================================\u001b[1m Ai Message \u001b[0m==================================\n",
      "Tool Calls:\n",
      "  UpdateMemory (call_5PvCoerSxMzWbioh3jS1US5f)\n",
      " Call ID: call_5PvCoerSxMzWbioh3jS1US5f\n",
      "  Args:\n",
      "    update_type: todo\n",
      "=================================\u001b[1m Tool Message \u001b[0m=================================\n",
      "\n",
      "New ToDo created:\n",
      "Content: {'task': 'Drop by Yoga in person', 'time_to_complete': 60, 'deadline': '2024-11-19T23:59:59', 'solutions': ['Check class schedule', 'Prepare yoga outfit', 'Drive to the yoga studio'], 'status': 'not started'}\n",
      "==================================\u001b[1m Ai Message \u001b[0m==================================\n",
      "\n",
      "I've added \"Drop by Yoga in person on Sunday\" to your ToDo list. If there's anything else you need, just let me know!\n"
     ]
    }
   ],
   "source": [
    "# Create a new thread\n",
    "thread = await client.threads.create()\n",
    "\n",
    "# Create new ToDos\n",
    "user_input_1 = \"Add a ToDo to call to make appointment at Yoga.\"\n",
    "user_input_2 = \"Actually, add a ToDo to drop by Yoga in person on Sunday.\"\n",
    "config = {\"configurable\": {\"user_id\": \"Test\"}}\n",
    "graph_name = \"task_maistro\" \n",
    "\n",
    "rolled_back_run = await client.runs.create(\n",
    "    thread[\"thread_id\"],\n",
    "    graph_name,\n",
    "    input={\"messages\": [HumanMessage(content=user_input_1)]}, \n",
    "    config=config,\n",
    ")\n",
    "\n",
    "second_run = await client.runs.create(\n",
    "    thread[\"thread_id\"],\n",
    "    graph_name,\n",
    "    input={\"messages\": [HumanMessage(content=user_input_2)]}, \n",
    "    config=config,\n",
    "    multitask_strategy=\"rollback\",\n",
    ")\n",
    "\n",
    "# Wait until the second run completes\n",
    "await client.runs.join(thread[\"thread_id\"], second_run[\"run_id\"])\n",
    "\n",
    "# Get the state of the thread\n",
    "state = await client.threads.get_state(thread[\"thread_id\"])\n",
    "for m in convert_to_messages(state[\"values\"][\"messages\"]):\n",
    "    m.pretty_print()"
   ]
  },
  {
   "cell_type": "code",
   "execution_count": 9,
   "metadata": {},
   "outputs": [],
   "source": [
    "# Confirm that the original run was deleted\n",
    "try:\n",
    "    await client.runs.get(thread[\"thread_id\"], rolled_back_run[\"run_id\"])\n",
    "except httpx.HTTPStatusError as _:\n",
    "    print(\"Original run was correctly deleted\")"
   ]
  },
  {
   "cell_type": "code",
   "execution_count": 11,
   "metadata": {},
   "outputs": [
    {
     "data": {
      "text/plain": [
       "{'run_id': '1efa2ca0-e0f3-68a4-a300-73bf756f03c4',\n",
       " 'thread_id': '2803045f-4266-433b-8c41-f6bcd882cc46',\n",
       " 'assistant_id': 'ea4ebafa-a81d-5063-a5fa-67c755d98a21',\n",
       " 'created_at': '2024-11-14T20:50:17.474815+00:00',\n",
       " 'updated_at': '2024-11-14T20:50:17.474815+00:00',\n",
       " 'metadata': {},\n",
       " 'status': 'interrupted',\n",
       " 'kwargs': {'input': {'messages': [{'id': None,\n",
       "     'name': None,\n",
       "     'type': 'human',\n",
       "     'content': 'Add a ToDo to call to make appointment at Yoga.',\n",
       "     'example': False,\n",
       "     'additional_kwargs': {},\n",
       "     'response_metadata': {}}]},\n",
       "  'config': {'metadata': {'created_by': 'system'},\n",
       "   'configurable': {'run_id': '1efa2ca0-e0f3-68a4-a300-73bf756f03c4',\n",
       "    'user_id': 'Test',\n",
       "    'graph_id': 'task_maistro',\n",
       "    'thread_id': '2803045f-4266-433b-8c41-f6bcd882cc46',\n",
       "    'assistant_id': 'ea4ebafa-a81d-5063-a5fa-67c755d98a21'}},\n",
       "  'webhook': None,\n",
       "  'subgraphs': False,\n",
       "  'temporary': False,\n",
       "  'stream_mode': ['values'],\n",
       "  'feedback_keys': None,\n",
       "  'interrupt_after': None,\n",
       "  'interrupt_before': None},\n",
       " 'multitask_strategy': 'reject'}"
      ]
     },
     "execution_count": 11,
     "metadata": {},
     "output_type": "execute_result"
    }
   ],
   "source": [
    "state = await client.runs.get(thread[\"thread_id\"], rolled_back_run[\"run_id\"])\n",
    "state"
   ]
  },
  {
   "cell_type": "markdown",
   "metadata": {},
   "source": []
  }
 ],
 "metadata": {
  "kernelspec": {
   "display_name": "Python 3 (ipykernel)",
   "language": "python",
   "name": "python3"
  },
  "language_info": {
   "codemirror_mode": {
    "name": "ipython",
    "version": 3
   },
   "file_extension": ".py",
   "mimetype": "text/x-python",
   "name": "python",
   "nbconvert_exporter": "python",
   "pygments_lexer": "ipython3",
   "version": "3.11.8"
  }
 },
 "nbformat": 4,
 "nbformat_minor": 4
}

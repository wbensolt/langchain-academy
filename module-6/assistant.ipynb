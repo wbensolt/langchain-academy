{
 "cells": [
  {
   "cell_type": "markdown",
   "metadata": {},
   "source": [
    "# Assistants \n",
    "\n",
    "[Assistants](https://langchain-ai.github.io/langgraph/concepts/assistants/#resources) give developers a quick and easy way to modify and version agents for experimentation.\n",
    "\n",
    "## Supplying configuration to the graph\n",
    "\n",
    "Our `task_maistro` graph is already set up to use assistants, because it has a `configuration.py` file defined and loaded into the graph.\n",
    "\n",
    "We access specific configurable fields, such as the `user_id` and `todo_category`, inside the graph nodes.\n",
    "\n",
    "## Creating assistants \n",
    "\n",
    "Now, what is a practical use-case for assistants with the `task_maistro` app that we've been building?\n",
    "\n",
    "For me, it's the ability to have separate ToDo lists for different categories of tasks. \n",
    "\n",
    "For example, I want one assistant for my personal tasks and another for my work tasks.\n",
    "\n",
    "This is very easily configurable using the `todo_category` configurable field.\n"
   ]
  },
  {
   "cell_type": "code",
   "execution_count": null,
   "metadata": {},
   "outputs": [],
   "source": [
    "%%capture --no-stderr\n",
    "%pip install -U langgraph_sdk"
   ]
  },
  {
   "cell_type": "markdown",
   "metadata": {},
   "source": [
    "This is the default assistant that we created when we deployed the graph."
   ]
  },
  {
   "cell_type": "code",
   "execution_count": 2,
   "metadata": {},
   "outputs": [
    {
     "data": {
      "text/plain": [
       "[{'assistant_id': 'ea4ebafa-a81d-5063-a5fa-67c755d98a21',\n",
       "  'graph_id': 'task_maistro',\n",
       "  'created_at': '2024-11-08T21:51:08.277354+00:00',\n",
       "  'updated_at': '2024-11-08T21:51:08.277354+00:00',\n",
       "  'config': {},\n",
       "  'metadata': {'created_by': 'system'},\n",
       "  'version': 1,\n",
       "  'name': 'task_maistro'}]"
      ]
     },
     "execution_count": 2,
     "metadata": {},
     "output_type": "execute_result"
    }
   ],
   "source": [
    "from langgraph_sdk import get_client\n",
    "url_for_cli_deployment = \"http://localhost:8123\"\n",
    "client = get_client(url=url_for_cli_deployment)\n",
    "assistants = await client.assistants.search()\n",
    "assistants"
   ]
  },
  {
   "cell_type": "markdown",
   "metadata": {},
   "source": [
    "### Personal assistant\n",
    "\n",
    "This is the personal assistant that I'll use to manage my personal tasks."
   ]
  },
  {
   "cell_type": "code",
   "execution_count": 7,
   "metadata": {},
   "outputs": [
    {
     "name": "stdout",
     "output_type": "stream",
     "text": [
      "{'assistant_id': 'a7f91b04-96c9-41f5-b1fd-6df7f832eaf9', 'graph_id': 'task_maistro', 'created_at': '2024-11-14T00:11:39.510391+00:00', 'updated_at': '2024-11-14T00:11:39.510391+00:00', 'config': {'configurable': {'todo_category': 'personal'}}, 'metadata': {}, 'version': 1, 'name': 'Untitled'}\n"
     ]
    }
   ],
   "source": [
    "personal_assistant = await client.assistants.create(\n",
    "    # \"task_maistro\" is the name of a graph we deployed\n",
    "    \"task_maistro\", \n",
    "    config={\"configurable\": {\"todo_category\": \"personal\"}}\n",
    ")\n",
    "print(personal_assistant)"
   ]
  },
  {
   "cell_type": "markdown",
   "metadata": {},
   "source": [
    "Let's update this assistant to include my `user_id` for convenience, [creating a new version of it](https://langchain-ai.github.io/langgraph/cloud/how-tos/assistant_versioning/#create-a-new-version-for-your-assistant). "
   ]
  },
  {
   "cell_type": "code",
   "execution_count": 8,
   "metadata": {},
   "outputs": [
    {
     "name": "stdout",
     "output_type": "stream",
     "text": [
      "{'assistant_id': 'a7f91b04-96c9-41f5-b1fd-6df7f832eaf9', 'graph_id': 'task_maistro', 'created_at': '2024-11-14T00:12:15.676410+00:00', 'updated_at': '2024-11-14T00:12:15.676410+00:00', 'config': {'configurable': {'user_id': 'lance', 'todo_category': 'personal'}}, 'metadata': {}, 'version': 2, 'name': 'Untitled'}\n"
     ]
    }
   ],
   "source": [
    "personal_assistant = await client.assistants.update(\n",
    "    personal_assistant[\"assistant_id\"],\n",
    "    config={\"configurable\": {\"todo_category\": \"personal\", \"user_id\": \"lance\"}}\n",
    ")\n",
    "print(personal_assistant)"
   ]
  },
  {
   "cell_type": "markdown",
   "metadata": {},
   "source": [
    "### Work assistant\n",
    "\n",
    "Now, let's create a work assistant. I'll use this for my work tasks."
   ]
  },
  {
   "cell_type": "code",
   "execution_count": 9,
   "metadata": {},
   "outputs": [
    {
     "name": "stdout",
     "output_type": "stream",
     "text": [
      "{'assistant_id': '1c6a3344-7e06-4ba9-b9cd-26e06f9650c8', 'graph_id': 'task_maistro', 'created_at': '2024-11-14T00:13:33.270702+00:00', 'updated_at': '2024-11-14T00:13:33.270702+00:00', 'config': {'configurable': {'todo_category': 'work'}}, 'metadata': {}, 'version': 1, 'name': 'Untitled'}\n"
     ]
    }
   ],
   "source": [
    "work_assistant = await client.assistants.create(\n",
    "    # \"task_maistro\" is the name of a graph we deployed\n",
    "    \"task_maistro\", \n",
    "    config={\"configurable\": {\"todo_category\": \"work\"}}\n",
    ")\n",
    "print(work_assistant)"
   ]
  },
  {
   "cell_type": "code",
   "execution_count": 16,
   "metadata": {},
   "outputs": [
    {
     "name": "stdout",
     "output_type": "stream",
     "text": [
      "{'assistant_id': '1c6a3344-7e06-4ba9-b9cd-26e06f9650c8', 'graph_id': 'task_maistro', 'created_at': '2024-11-14T00:21:44.286366+00:00', 'updated_at': '2024-11-14T00:21:44.286366+00:00', 'config': {'configurable': {'user_id': 'lance', 'todo_category': 'work'}}, 'metadata': {}, 'version': 3, 'name': 'Untitled'}\n"
     ]
    }
   ],
   "source": [
    "work_assistant = await client.assistants.update(\n",
    "    work_assistant[\"assistant_id\"],\n",
    "    config={\"configurable\": {\"todo_category\": \"work\", \"user_id\": \"lance\"}}\n",
    ")\n",
    "print(work_assistant)"
   ]
  },
  {
   "cell_type": "markdown",
   "metadata": {},
   "source": [
    "## Using assistants \n",
    "\n",
    "Assistants will be saved to Postgres in our deployment. \n",
    "\n",
    "This allows us to easily search [search](https://langchain-ai.github.io/langgraph/cloud/how-tos/configuration_cloud/) for assistants wit the SDK."
   ]
  },
  {
   "cell_type": "code",
   "execution_count": 17,
   "metadata": {},
   "outputs": [
    {
     "name": "stdout",
     "output_type": "stream",
     "text": [
      "{'assistant_id': '1c6a3344-7e06-4ba9-b9cd-26e06f9650c8', 'version': 3, 'config': {'configurable': {'user_id': 'lance', 'todo_category': 'work'}}}\n",
      "{'assistant_id': 'a7f91b04-96c9-41f5-b1fd-6df7f832eaf9', 'version': 2, 'config': {'configurable': {'user_id': 'lance', 'todo_category': 'personal'}}}\n",
      "{'assistant_id': '83cd4d29-4a8e-4b57-9cd0-87b2bcc16596', 'version': 1, 'config': {'configurable': {'todo_category': 'work'}}}\n",
      "{'assistant_id': 'f6e22d93-ce86-4915-b216-3e4bb7e97996', 'version': 1, 'config': {'configurable': {'todo_category': 'personal'}}}\n"
     ]
    }
   ],
   "source": [
    "assistants = await client.assistants.search()\n",
    "for assistant in assistants:\n",
    "    print({\n",
    "        'assistant_id': assistant['assistant_id'],\n",
    "        'version': assistant['version'],\n",
    "        'config': assistant['config']\n",
    "    })"
   ]
  },
  {
   "cell_type": "markdown",
   "metadata": {},
   "source": [
    "We can manage them easily with the SDK. For example, we can delete assistants that we're no longer using."
   ]
  },
  {
   "cell_type": "code",
   "execution_count": 13,
   "metadata": {},
   "outputs": [],
   "source": [
    "await client.assistants.delete('assistant_id')"
   ]
  },
  {
   "cell_type": "markdown",
   "metadata": {},
   "source": [
    "Let's set the assistant IDs for the `personal` and `work` assistants that I'll work with."
   ]
  },
  {
   "cell_type": "code",
   "execution_count": 27,
   "metadata": {},
   "outputs": [],
   "source": [
    "work_assistant_id = \"1c6a3344-7e06-4ba9-b9cd-26e06f9650c8\"\n",
    "personal_assistant_id = \"a7f91b04-96c9-41f5-b1fd-6df7f832eaf9\""
   ]
  },
  {
   "cell_type": "markdown",
   "metadata": {},
   "source": [
    "We can run them. Let's add some ToDos for my work assistant."
   ]
  },
  {
   "cell_type": "code",
   "execution_count": 24,
   "metadata": {},
   "outputs": [
    {
     "name": "stdout",
     "output_type": "stream",
     "text": [
      "================================\u001b[1m Human Message \u001b[0m=================================\n",
      "\n",
      "Re-film module 6, lesson 1 tomorrow morning.\n",
      "==================================\u001b[1m Ai Message \u001b[0m==================================\n",
      "Tool Calls:\n",
      "  UpdateMemory (call_JROElDsjcIt11ctilJrxNMh7)\n",
      " Call ID: call_JROElDsjcIt11ctilJrxNMh7\n",
      "  Args:\n",
      "    update_type: todo\n",
      "=================================\u001b[1m Tool Message \u001b[0m=================================\n",
      "\n",
      "Document f24448dc-a967-4f8f-9089-006b6712aab9 updated:\n",
      "Plan: Update the deadline for the task 'Re-film module 6, lesson 1' to tomorrow morning, which is 2024-11-15T09:00:00.\n",
      "Added content: 2024-11-15T09:00:00\n",
      "==================================\u001b[1m Ai Message \u001b[0m==================================\n",
      "\n",
      "I've updated your ToDo list to re-film module 6, lesson 1 tomorrow morning. If there's anything else you need, just let me know!\n"
     ]
    }
   ],
   "source": [
    "from langchain_core.messages import HumanMessage\n",
    "from langchain_core.messages import convert_to_messages\n",
    "\n",
    "user_input = \"Re-film module 6, lesson 1 tomorrow morning.\"\n",
    "thread = await client.threads.create()\n",
    "async for chunk in client.runs.stream(thread[\"thread_id\"], \n",
    "                                      work_assistant_id,\n",
    "                                      input={\"messages\": [HumanMessage(content=user_input)]},\n",
    "                                      stream_mode=\"values\"):\n",
    "\n",
    "    if chunk.event == 'values':\n",
    "        state = chunk.data\n",
    "        convert_to_messages(state[\"messages\"])[-1].pretty_print()"
   ]
  },
  {
   "cell_type": "markdown",
   "metadata": {},
   "source": [
    "Similarly, we can add ToDos for my personal assistant."
   ]
  },
  {
   "cell_type": "code",
   "execution_count": 28,
   "metadata": {},
   "outputs": [
    {
     "name": "stdout",
     "output_type": "stream",
     "text": [
      "================================\u001b[1m Human Message \u001b[0m=================================\n",
      "\n",
      "Call back mom to plan Thanksgiving dinner.\n",
      "==================================\u001b[1m Ai Message \u001b[0m==================================\n",
      "Tool Calls:\n",
      "  UpdateMemory (call_JROElDsjcIt11ctilJrxNMh7)\n",
      " Call ID: call_JROElDsjcIt11ctilJrxNMh7\n",
      "  Args:\n",
      "    update_type: todo\n",
      "=================================\u001b[1m Tool Message \u001b[0m=================================\n",
      "\n",
      "New ToDo created:\n",
      "Content: {'task': 'Call back mom to plan Thanksgiving dinner', 'time_to_complete': 30, 'deadline': '2024-11-20T18:00:00', 'solutions': [\"Check mom's availability for a call\", 'Prepare a list of potential dishes to discuss', 'Discuss guest list and any dietary restrictions', 'Decide on a time and place for the dinner'], 'status': 'not started'}\n",
      "==================================\u001b[1m Ai Message \u001b[0m==================================\n",
      "\n",
      "I've added \"Call back mom to plan Thanksgiving dinner\" to your ToDo list. If there's anything else you need, just let me know!\n"
     ]
    }
   ],
   "source": [
    "user_input = \"Call back mom to plan Thanksgiving dinner.\"\n",
    "thread = await client.threads.create()\n",
    "async for chunk in client.runs.stream(thread[\"thread_id\"], \n",
    "                                      personal_assistant_id,\n",
    "                                      input={\"messages\": [HumanMessage(content=user_input)]},\n",
    "                                      stream_mode=\"values\"):\n",
    "\n",
    "    if chunk.event == 'values':\n",
    "        state = chunk.data\n",
    "        convert_to_messages(state[\"messages\"])[-1].pretty_print()"
   ]
  },
  {
   "cell_type": "markdown",
   "metadata": {},
   "source": [
    "These are quite nice because I don't need to worry about supplying the configuration when I run the graph! \n",
    "\n",
    "And I have my two assistants nicely seperated, with tasks for each one namespaced in the deployment Postgres database."
   ]
  },
  {
   "cell_type": "markdown",
   "metadata": {},
   "source": []
  }
 ],
 "metadata": {
  "kernelspec": {
   "display_name": "lc-academy-env",
   "language": "python",
   "name": "python3"
  },
  "language_info": {
   "codemirror_mode": {
    "name": "ipython",
    "version": 3
   },
   "file_extension": ".py",
   "mimetype": "text/x-python",
   "name": "python",
   "nbconvert_exporter": "python",
   "pygments_lexer": "ipython3",
   "version": "3.11.8"
  }
 },
 "nbformat": 4,
 "nbformat_minor": 2
}

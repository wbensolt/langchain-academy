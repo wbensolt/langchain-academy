{
 "cells": [
  {
   "cell_type": "markdown",
   "id": "c52ea2f9-03ff-4647-b782-46867ebed04e",
   "metadata": {},
   "source": [
    "# Filtering and trimming messages\n",
    "\n",
    "## Review\n",
    "\n",
    "By now, we have a deeper understanding of things: \n",
    "\n",
    "* How to define various state schemas\n",
    "* How to define custom state reducers\n",
    "* How to use multiple states within your graph\n",
    "\n",
    "## Goals\n",
    "\n",
    "Now, we can start using these concepts with LLMs in LangGraph.\n",
    "\n",
    "In the next few sessions, we'll build towards a chatbot that has long-term memory!\n",
    "\n",
    "Let's first talk a bit more about advanced ways to work with messages in graph state."
   ]
  },
  {
   "cell_type": "code",
   "execution_count": null,
   "id": "d5197aba-5d46-421b-ae3b-4e3034edcfda",
   "metadata": {},
   "outputs": [],
   "source": [
    "%%capture --no-stderr\n",
    "%pip install --quiet -U langchain_core langgraph langchain_openai"
   ]
  },
  {
   "cell_type": "code",
   "execution_count": null,
   "id": "768dc606-d5f2-468d-96ea-910b264e0f8a",
   "metadata": {},
   "outputs": [],
   "source": [
    "import os, getpass\n",
    "\n",
    "def _set_env(var: str):\n",
    "    if not os.environ.get(var):\n",
    "        os.environ[var] = getpass.getpass(f\"{var}: \")\n",
    "\n",
    "_set_env(\"OPENAI_API_KEY\")"
   ]
  },
  {
   "cell_type": "markdown",
   "id": "8b64d8d3-e4ac-4961-bdc0-688825eb5864",
   "metadata": {},
   "source": [
    "[LangSmith](https://docs.smith.langchain.com/) gives us [tracing](https://docs.smith.langchain.com/concepts/tracing).\n",
    "\n",
    "Ensure these enviorment variables are set:\n",
    "\n",
    "```\n",
    "export LANGCHAIN_API_KEY=\"xxx\"\n",
    "export LANGCHAIN_ENDPOINT=\"https://api.smith.langchain.com\"\n",
    "export LANGCHAIN_TRACING_V2=true\n",
    "```\n",
    "\n",
    "Ad then set our `LANGCHAIN_PROJECT`."
   ]
  },
  {
   "cell_type": "code",
   "execution_count": 28,
   "id": "1438ceca-55ff-4004-b97b-ab9afdd8a73b",
   "metadata": {},
   "outputs": [],
   "source": [
    "import os\n",
    "os.environ[\"LANGCHAIN_PROJECT\"] = \"langchain-academy\""
   ]
  },
  {
   "cell_type": "markdown",
   "id": "72f3fc90-58b6-4f7f-897e-dddf6ae532c7",
   "metadata": {},
   "source": [
    "## Messages as state\n",
    "\n",
    "First, let's define some messages."
   ]
  },
  {
   "cell_type": "code",
   "execution_count": 2,
   "id": "cf11a463-e27a-4a05-b41d-64882e38edca",
   "metadata": {},
   "outputs": [
    {
     "name": "stdout",
     "output_type": "stream",
     "text": [
      "==================================\u001b[1m Ai Message \u001b[0m==================================\n",
      "Name: Bot\n",
      "\n",
      "So you said you were researching ocean mammals?\n",
      "================================\u001b[1m Human Message \u001b[0m=================================\n",
      "Name: Lance\n",
      "\n",
      "Yes, I know about whales. But what others should I learn about?\n"
     ]
    }
   ],
   "source": [
    "from langchain_core.messages import AIMessage, HumanMessage\n",
    "messages = [AIMessage(f\"So you said you were researching ocean mammals?\", name=\"Bot\")]\n",
    "messages.append(HumanMessage(f\"Yes, I know about whales. But what others should I learn about?\", name=\"Lance\"))\n",
    "\n",
    "from pprint import pprint\n",
    "for m in messages:\n",
    "    m.pretty_print()"
   ]
  },
  {
   "cell_type": "markdown",
   "id": "b814adcb-6bf9-4b75-be11-e59f933fbd0c",
   "metadata": {},
   "source": [
    "Recall we can pass them to a chat model."
   ]
  },
  {
   "cell_type": "code",
   "execution_count": 3,
   "id": "4712e288-e622-48a2-ad3f-a52f65f3ab08",
   "metadata": {},
   "outputs": [
    {
     "data": {
      "text/plain": [
       "AIMessage(content='There are several fascinating ocean mammals besides whales that you might find interesting. Here are a few to consider:\\n\\n1. **Dolphins**: These highly intelligent and social animals are known for their playful behavior. There are several species of dolphins, including the well-known bottlenose dolphin.\\n\\n2. **Porpoises**: Similar to dolphins but generally smaller and with different shaped teeth and fins, porpoises are another group of small cetaceans.\\n\\n3. **Seals**: These are pinnipeds, a group that also includes sea lions and walruses. They are adapted to life both in the water and on land.\\n\\n4. **Sea Lions**: Often confused with seals, sea lions have external ear flaps and can \"walk\" on land using their large flippers. They are also quite social and often seen in groups.\\n\\n5. **Walruses**: Known for their distinctive tusks and whiskers, walruses are large pinnipeds that live in Arctic regions.\\n\\n6. **Manatees**: Also known as sea cows, manatees are gentle herbivores found in warm coastal waters and rivers.\\n\\n7. **Dugongs**: Similar to manatees, dugongs are found in the Indo-Pacific region and are also herbivores.\\n\\n8. **Sea Otters**: These small marine mammals are known for their use of tools to open shellfish and their thick fur, which keeps them warm in cold water.\\n\\n9. **Polar Bears**: While not entirely marine, polar bears spend much of their life in and around Arctic waters and are excellent swimmers.\\n\\n10. **Narwhals**: Known as the \"unicorns of the sea,\" these small whales have a long, spiral tusk extending from their head.\\n\\n11. **Beaked Whales**: These deep-diving cetaceans are less well-known but fascinating due to their elusive nature and unique adaptations for deep-sea hunting.\\n\\nEach of these animals has unique adaptations and behaviors that make them interesting subjects for study.', response_metadata={'token_usage': {'completion_tokens': 417, 'prompt_tokens': 39, 'total_tokens': 456}, 'model_name': 'gpt-4o-2024-05-13', 'system_fingerprint': 'fp_df84d6bd70', 'finish_reason': 'stop', 'logprobs': None}, id='run-aada75bf-6104-4975-b2e9-06c34b06faa8-0', usage_metadata={'input_tokens': 39, 'output_tokens': 417, 'total_tokens': 456})"
      ]
     },
     "execution_count": 3,
     "metadata": {},
     "output_type": "execute_result"
    }
   ],
   "source": [
    "from langchain_openai import ChatOpenAI\n",
    "llm = ChatOpenAI(model=\"gpt-4o\")\n",
    "llm.invoke(messages)"
   ]
  },
  {
   "cell_type": "markdown",
   "id": "fbd1dab8-0af8-4621-8264-ce65065f76ec",
   "metadata": {},
   "source": [
    "We can use this in a simple graph with `MessagesState`."
   ]
  },
  {
   "cell_type": "code",
   "execution_count": 4,
   "id": "bbd8c39c-633b-4176-9cc6-8318e42bb5dd",
   "metadata": {},
   "outputs": [
    {
     "data": {
      "image/jpeg": "[encoded data removed]",
      "text/plain": [
       "<IPython.core.display.Image object>"
      ]
     },
     "metadata": {},
     "output_type": "display_data"
    }
   ],
   "source": [
    "from IPython.display import Image, display\n",
    "from langgraph.graph import MessagesState\n",
    "from langgraph.graph import StateGraph, START, END\n",
    "\n",
    "# Node\n",
    "def chat_model_node(state: MessagesState):\n",
    "    return {\"messages\": llm.invoke(state[\"messages\"])}\n",
    "\n",
    "# Build graph\n",
    "builder = StateGraph(MessagesState)\n",
    "builder.add_node(\"chat_model\", chat_model_node)\n",
    "builder.add_edge(START, \"chat_model\")\n",
    "builder.add_edge(\"chat_model\", END)\n",
    "graph = builder.compile()\n",
    "\n",
    "# View\n",
    "display(Image(graph.get_graph().draw_mermaid_png()))"
   ]
  },
  {
   "cell_type": "code",
   "execution_count": 5,
   "id": "3a5a3e4a-ccfd-4d14-81f1-f0de6e11a1e4",
   "metadata": {},
   "outputs": [
    {
     "name": "stdout",
     "output_type": "stream",
     "text": [
      "==================================\u001b[1m Ai Message \u001b[0m==================================\n",
      "Name: Bot\n",
      "\n",
      "So you said you were researching ocean mammals?\n",
      "================================\u001b[1m Human Message \u001b[0m=================================\n",
      "Name: Lance\n",
      "\n",
      "Yes, I know about whales. But what others should I learn about?\n",
      "==================================\u001b[1m Ai Message \u001b[0m==================================\n",
      "\n",
      "There are several fascinating ocean mammals beyond whales that are worth learning about. Here are a few:\n",
      "\n",
      "1. **Dolphins**: Highly intelligent and social animals known for their playful behavior and complex communication skills. Species include the bottlenose dolphin and the Orca or killer whale (which is actually a type of dolphin).\n",
      "\n",
      "2. **Seals and Sea Lions**: Pinnipeds that are found in various parts of the world. Seals are more adapted to an aquatic lifestyle, while sea lions are more agile on land.\n",
      "\n",
      "3. **Manatees and Dugongs**: Often referred to as sea cows, these gentle herbivores graze on underwater vegetation in shallow coastal areas and rivers.\n",
      "\n",
      "4. **Walruses**: Known for their distinctive tusks, these large marine mammals are found in Arctic regions and are important to indigenous cultures.\n",
      "\n",
      "5. **Otters**: Sea otters are known for their use of tools to open shellfish and their role in maintaining the health of kelp forests.\n",
      "\n",
      "6. **Narwhals**: Known as the \"unicorns of the sea,\" these Arctic whales have a long, spiral tusk that can grow up to 10 feet long.\n",
      "\n",
      "7. **Beluga Whales**: Also known as the white whale, these social creatures are known for their vocalizations and are found in Arctic and sub-Arctic waters.\n",
      "\n",
      "8. **Porpoises**: Similar to dolphins but generally smaller with different body and snout shapes. They are also less acrobatic than dolphins.\n",
      "\n",
      "Each of these groups offers a unique insight into the diversity and adaptability of ocean mammals. Studying their behaviors, habitats, and roles in the ecosystem can provide a deeper understanding of marine life and the importance of conservation efforts.\n"
     ]
    }
   ],
   "source": [
    "output = graph.invoke({'messages': messages})\n",
    "for m in output['messages']:\n",
    "    m.pretty_print()"
   ]
  },
  {
   "cell_type": "markdown",
   "id": "34c33e63-1ef4-412d-bb10-6a1b9e5b35a7",
   "metadata": {},
   "source": [
    "## Reducer\n",
    "\n",
    "A practical challenge when working with messages is managining long-running conversations!\n",
    "\n",
    "This results in high token usage and latency if we are not careful.\n",
    "\n",
    "We have a few ways to address this.\n",
    "\n",
    "First, recall the trick we saw using `RemoveMessage` and the `add_messages` reducer."
   ]
  },
  {
   "cell_type": "code",
   "execution_count": 6,
   "id": "222c6bc5-bb0e-4a43-80f5-c8ec38d99f3a",
   "metadata": {},
   "outputs": [
    {
     "data": {
      "image/jpeg": "[encoded data removed]",
      "text/plain": [
       "<IPython.core.display.Image object>"
      ]
     },
     "metadata": {},
     "output_type": "display_data"
    }
   ],
   "source": [
    "from typing import Annotated, TypedDict\n",
    "from langchain_core.messages import AnyMessage\n",
    "from langchain_core.messages import RemoveMessage\n",
    "\n",
    "from langgraph.graph.message import add_messages\n",
    "        \n",
    "class MessagesState(TypedDict):\n",
    "    messages: Annotated[list[AnyMessage], add_messages]\n",
    "\n",
    "# Nodes\n",
    "def filter_messages(state: MessagesState):\n",
    "    # Delete all but the 2 most recent messages\n",
    "    delete_messages = [RemoveMessage(id=m.id) for m in state[\"messages\"][:-2]]\n",
    "    return {\"messages\": delete_messages}\n",
    "\n",
    "def chat_model_node(state: MessagesState):    \n",
    "    return {\"messages\": [llm.invoke(state[\"messages\"])]}\n",
    "\n",
    "# Build grapph\n",
    "builder = StateGraph(MessagesState)\n",
    "builder.add_node(\"filter\", filter_messages)\n",
    "builder.add_node(\"chat_model\", chat_model_node)\n",
    "builder.add_edge(START, \"filter\")\n",
    "builder.add_edge(\"filter\", \"chat_model\")\n",
    "builder.add_edge(\"chat_model\", END)\n",
    "graph = builder.compile()\n",
    "\n",
    "# View\n",
    "display(Image(graph.get_graph().draw_mermaid_png()))"
   ]
  },
  {
   "cell_type": "code",
   "execution_count": 7,
   "id": "95a7c2cc-54ce-43e7-9a90-abf37827d709",
   "metadata": {},
   "outputs": [
    {
     "name": "stderr",
     "output_type": "stream",
     "text": [
      "/Users/rlm/miniforge3/envs/llama2/lib/python3.11/site-packages/langchain_core/_api/beta_decorator.py:87: LangChainBetaWarning: The class `RemoveMessage` is in beta. It is actively being worked on, so the API may change.\n",
      "  warn_beta(\n"
     ]
    },
    {
     "name": "stdout",
     "output_type": "stream",
     "text": [
      "==================================\u001b[1m Ai Message \u001b[0m==================================\n",
      "Name: Bot\n",
      "\n",
      "So you said you were researching ocean mammals?\n",
      "================================\u001b[1m Human Message \u001b[0m=================================\n",
      "Name: Lance\n",
      "\n",
      "Yes, I know about whales. But what others should I learn about?\n",
      "==================================\u001b[1m Ai Message \u001b[0m==================================\n",
      "\n",
      "That's great you're interested in ocean mammals! Besides whales, there are several other fascinating marine mammals you might want to explore:\n",
      "\n",
      "1. **Dolphins**: Highly intelligent and social animals, dolphins are known for their playful behavior and complex communication skills.\n",
      "\n",
      "2. **Porpoises**: Similar to dolphins but generally smaller and with different facial structures and fin shapes. They're less well-known but equally interesting.\n",
      "\n",
      "3. **Seals**: These come in various species, such as harbor seals and elephant seals. They are known for their adaptability to both land and sea.\n",
      "\n",
      "4. **Sea Lions**: Often confused with seals, sea lions have external ear flaps and can walk on land using their flippers.\n",
      "\n",
      "5. **Walrus**: Recognizable by their long tusks and whiskers, walruses are social animals that live in Arctic regions.\n",
      "\n",
      "6. **Manatees**: Also known as sea cows, manatees are gentle giants that graze on seagrass and are found in shallow coastal waters and rivers.\n",
      "\n",
      "7. **Dugongs**: Similar to manatees but found in the Indo-Pacific region. They have a more dolphin-like tail compared to the paddle-shaped tail of manatees.\n",
      "\n",
      "8. **Sea Otters**: While not exclusively marine, sea otters spend much of their lives in the ocean and are known for their use of tools to open shellfish.\n",
      "\n",
      "9. **Polar Bears**: Though they are often associated with ice rather than the ocean, polar bears depend heavily on the marine environment for hunting seals and other food.\n",
      "\n",
      "Each of these marine mammals has unique characteristics and behaviors, making them worthy of study. Happy researching!\n"
     ]
    }
   ],
   "source": [
    "# Message list with a preamble\n",
    "messages = [AIMessage(\"Hi.\", name=\"Bot\", id=1)]\n",
    "messages.append(HumanMessage(\"Hi.\", name=\"Lance\", id=2))\n",
    "messages.append(AIMessage(\"So you said you were researching ocean mammals?\", name=\"Bot\", id=3))\n",
    "messages.append(HumanMessage(\"Yes, I know about whales. But what others should I learn about?\", name=\"Lance\", id=4))\n",
    "\n",
    "# Invoke\n",
    "output = graph.invoke({'messages': messages})\n",
    "for m in output['messages']:\n",
    "    m.pretty_print()"
   ]
  },
  {
   "cell_type": "markdown",
   "id": "f506457d-014b-4fee-a684-e5edfb4b8f0d",
   "metadata": {},
   "source": [
    "## Filtering messages\n",
    "\n",
    "If you don't need or want to modify the graph state, you can just filter the messages you pass to the chat model.\n",
    "\n",
    "For example, just pass in a filtered list: `llm.invoke(messages[-1:])` to the model."
   ]
  },
  {
   "cell_type": "code",
   "execution_count": 8,
   "id": "22d0b904-7cd6-486b-8948-105bee3d4683",
   "metadata": {},
   "outputs": [
    {
     "data": {
      "image/jpeg": "[encoded data removed]",
      "text/plain": [
       "<IPython.core.display.Image object>"
      ]
     },
     "metadata": {},
     "output_type": "display_data"
    }
   ],
   "source": [
    "# Node\n",
    "def chat_model_node(state: MessagesState):\n",
    "    return {\"messages\": [llm.invoke(state[\"messages\"][-1:])]}\n",
    "\n",
    "# Build grapph\n",
    "builder = StateGraph(MessagesState)\n",
    "builder.add_node(\"chat_model\", chat_model_node)\n",
    "builder.add_edge(START, \"chat_model\")\n",
    "builder.add_edge(\"chat_model\", END)\n",
    "graph = builder.compile()\n",
    "\n",
    "# View\n",
    "display(Image(graph.get_graph().draw_mermaid_png()))"
   ]
  },
  {
   "cell_type": "markdown",
   "id": "6f58c6fc-532f-418d-b70a-cfcb3307daf5",
   "metadata": {},
   "source": [
    "Let's take our existing list of messages, append the above LLM response, and append a follow-up question."
   ]
  },
  {
   "cell_type": "code",
   "execution_count": 9,
   "id": "16956015-1dbe-4108-89b5-4209b68b51ca",
   "metadata": {},
   "outputs": [],
   "source": [
    "messages.append(output['messages'][-1])\n",
    "messages.append(HumanMessage(f\"Tell me more about Narwhals!\", name=\"Lance\"))"
   ]
  },
  {
   "cell_type": "code",
   "execution_count": 10,
   "id": "85563415-c085-46a8-a4ac-155df798c54e",
   "metadata": {},
   "outputs": [
    {
     "name": "stdout",
     "output_type": "stream",
     "text": [
      "==================================\u001b[1m Ai Message \u001b[0m==================================\n",
      "Name: Bot\n",
      "\n",
      "Hi.\n",
      "================================\u001b[1m Human Message \u001b[0m=================================\n",
      "Name: Lance\n",
      "\n",
      "Hi.\n",
      "==================================\u001b[1m Ai Message \u001b[0m==================================\n",
      "Name: Bot\n",
      "\n",
      "So you said you were researching ocean mammals?\n",
      "================================\u001b[1m Human Message \u001b[0m=================================\n",
      "Name: Lance\n",
      "\n",
      "Yes, I know about whales. But what others should I learn about?\n",
      "==================================\u001b[1m Ai Message \u001b[0m==================================\n",
      "\n",
      "That's great you're interested in ocean mammals! Besides whales, there are several other fascinating marine mammals you might want to explore:\n",
      "\n",
      "1. **Dolphins**: Highly intelligent and social animals, dolphins are known for their playful behavior and complex communication skills.\n",
      "\n",
      "2. **Porpoises**: Similar to dolphins but generally smaller and with different facial structures and fin shapes. They're less well-known but equally interesting.\n",
      "\n",
      "3. **Seals**: These come in various species, such as harbor seals and elephant seals. They are known for their adaptability to both land and sea.\n",
      "\n",
      "4. **Sea Lions**: Often confused with seals, sea lions have external ear flaps and can walk on land using their flippers.\n",
      "\n",
      "5. **Walrus**: Recognizable by their long tusks and whiskers, walruses are social animals that live in Arctic regions.\n",
      "\n",
      "6. **Manatees**: Also known as sea cows, manatees are gentle giants that graze on seagrass and are found in shallow coastal waters and rivers.\n",
      "\n",
      "7. **Dugongs**: Similar to manatees but found in the Indo-Pacific region. They have a more dolphin-like tail compared to the paddle-shaped tail of manatees.\n",
      "\n",
      "8. **Sea Otters**: While not exclusively marine, sea otters spend much of their lives in the ocean and are known for their use of tools to open shellfish.\n",
      "\n",
      "9. **Polar Bears**: Though they are often associated with ice rather than the ocean, polar bears depend heavily on the marine environment for hunting seals and other food.\n",
      "\n",
      "Each of these marine mammals has unique characteristics and behaviors, making them worthy of study. Happy researching!\n",
      "================================\u001b[1m Human Message \u001b[0m=================================\n",
      "Name: Lance\n",
      "\n",
      "Tell me more about Narwhals!\n"
     ]
    }
   ],
   "source": [
    "for m in messages:\n",
    "    m.pretty_print()"
   ]
  },
  {
   "cell_type": "code",
   "execution_count": 11,
   "id": "23349705-a059-47b5-9760-d8f64e687393",
   "metadata": {},
   "outputs": [
    {
     "name": "stdout",
     "output_type": "stream",
     "text": [
      "==================================\u001b[1m Ai Message \u001b[0m==================================\n",
      "Name: Bot\n",
      "\n",
      "Hi.\n",
      "================================\u001b[1m Human Message \u001b[0m=================================\n",
      "Name: Lance\n",
      "\n",
      "Hi.\n",
      "==================================\u001b[1m Ai Message \u001b[0m==================================\n",
      "Name: Bot\n",
      "\n",
      "So you said you were researching ocean mammals?\n",
      "================================\u001b[1m Human Message \u001b[0m=================================\n",
      "Name: Lance\n",
      "\n",
      "Yes, I know about whales. But what others should I learn about?\n",
      "==================================\u001b[1m Ai Message \u001b[0m==================================\n",
      "\n",
      "That's great you're interested in ocean mammals! Besides whales, there are several other fascinating marine mammals you might want to explore:\n",
      "\n",
      "1. **Dolphins**: Highly intelligent and social animals, dolphins are known for their playful behavior and complex communication skills.\n",
      "\n",
      "2. **Porpoises**: Similar to dolphins but generally smaller and with different facial structures and fin shapes. They're less well-known but equally interesting.\n",
      "\n",
      "3. **Seals**: These come in various species, such as harbor seals and elephant seals. They are known for their adaptability to both land and sea.\n",
      "\n",
      "4. **Sea Lions**: Often confused with seals, sea lions have external ear flaps and can walk on land using their flippers.\n",
      "\n",
      "5. **Walrus**: Recognizable by their long tusks and whiskers, walruses are social animals that live in Arctic regions.\n",
      "\n",
      "6. **Manatees**: Also known as sea cows, manatees are gentle giants that graze on seagrass and are found in shallow coastal waters and rivers.\n",
      "\n",
      "7. **Dugongs**: Similar to manatees but found in the Indo-Pacific region. They have a more dolphin-like tail compared to the paddle-shaped tail of manatees.\n",
      "\n",
      "8. **Sea Otters**: While not exclusively marine, sea otters spend much of their lives in the ocean and are known for their use of tools to open shellfish.\n",
      "\n",
      "9. **Polar Bears**: Though they are often associated with ice rather than the ocean, polar bears depend heavily on the marine environment for hunting seals and other food.\n",
      "\n",
      "Each of these marine mammals has unique characteristics and behaviors, making them worthy of study. Happy researching!\n",
      "================================\u001b[1m Human Message \u001b[0m=================================\n",
      "Name: Lance\n",
      "\n",
      "Tell me more about Narwhals!\n",
      "==================================\u001b[1m Ai Message \u001b[0m==================================\n",
      "\n",
      "Narwhals (Monodon monoceros) are fascinating marine mammals known for their distinctive long, spiral tusk that protrudes from their heads. Here are some interesting details about these unique creatures:\n",
      "\n",
      "### Physical Characteristics\n",
      "- **Tusk**: The most notable feature of the narwhal is its tusk, which is actually an elongated upper left canine tooth. It can grow up to 10 feet (3 meters) long. In rare cases, narwhals can have two tusks if both upper canine teeth grow out.\n",
      "- **Size**: Adult male narwhals typically range from 13 to 18 feet (4 to 5.5 meters) in length, including the tusk. Females are generally smaller, averaging 11 to 13 feet (3.5 to 4 meters).\n",
      "- **Color**: They have a mottled black and white coloring that tends to darken with age.\n",
      "\n",
      "### Habitat\n",
      "- **Range**: Narwhals are primarily found in the Arctic waters around Greenland, Canada, and Russia. They are well-adapted to the cold, ice-covered seas.\n",
      "- **Migration**: These animals migrate seasonally, spending the winter in deep, ice-covered waters and moving to coastal areas in the summer where the ice has melted.\n",
      "\n",
      "### Behavior and Diet\n",
      "- **Social Structure**: Narwhals are social animals and are often found in groups called pods, which can range from a few individuals to several dozen.\n",
      "- **Diet**: They primarily feed on fish, squid, and shrimp. Their diet includes Arctic cod and Greenland halibut, among other marine species.\n",
      "- **Diving**: Narwhals are excellent divers and can reach depths of up to 1,500 meters (4,900 feet) in search of food. They can hold their breath for up to 25 minutes.\n",
      "\n",
      "### Reproduction\n",
      "- **Breeding**: Narwhals breed during the spring, and after a gestation period of about 14 months, females give birth to a single calf.\n",
      "- **Calves**: Newborn calves are about 5 feet (1.5 meters) long and are nursed for over a year. They stay close to their mothers for up to three years.\n",
      "\n",
      "### Conservation Status\n",
      "- **Threats**: The primary threats to narwhals include climate change, which affects sea ice patterns, and human activities such as shipping, which can lead to noise pollution and habitat disturbance.\n",
      "- **Protection**: Narwhals are currently classified as \"Near Threatened\" by the International Union for Conservation of Nature (IUCN). Various conservation efforts are in place to protect their habitat and mitigate the impacts of climate change and human interference.\n",
      "\n",
      "### Cultural Significance\n",
      "- **Mythology**: Historically, narwhal tusks were often sold as unicorn horns in medieval Europe. They were thought to possess magical properties and were highly prized.\n",
      "- **Indigenous Peoples**: Narwhals hold cultural significance for indigenous Arctic peoples, who have traditionally hunted them for their meat, blubber, and tusks.\n",
      "\n",
      "Narwhals are truly remarkable animals, and their unique adaptations make them a subject of great interest for scientists and nature enthusiasts alike.\n"
     ]
    }
   ],
   "source": [
    "# Invoke, using message filtering\n",
    "output = graph.invoke({'messages': messages})\n",
    "for m in output['messages']:\n",
    "    m.pretty_print()"
   ]
  },
  {
   "cell_type": "markdown",
   "id": "42e1d8d2-e297-4d78-b54c-d12b3c866745",
   "metadata": {},
   "source": [
    "The state has all of the mesages.\n",
    "\n",
    "But, let's look at the LangSmith trace to see that the model invocation only uses the last message:\n",
    "\n",
    "https://smith.langchain.com/public/75aca3ce-ef19-4b92-94be-0178c7a660d9/r"
   ]
  },
  {
   "cell_type": "markdown",
   "id": "fc40d930-3c1f-47fe-8d2a-ce174873353c",
   "metadata": {},
   "source": [
    "## Trim messages\n",
    "\n",
    "Another approach is to [trim messages](https://python.langchain.com/v0.2/docs/how_to/trim_messages/#getting-the-last-max_tokens-tokens), based upon a set number of tokens. \n",
    "\n",
    "This restricts the message history to a specified number of tokens.\n",
    "\n",
    "While filtering only returns a post-hoc subset of the messages between agents, trimming restricts the number of tokens that a chat model can use to respond.\n",
    "\n",
    "See the `trim_messages` below."
   ]
  },
  {
   "cell_type": "code",
   "execution_count": 25,
   "id": "2ff99b81-cf03-4cc2-b44f-44829a73e1fd",
   "metadata": {},
   "outputs": [
    {
     "data": {
      "image/jpeg": "[encoded data removed]",
      "text/plain": [
       "<IPython.core.display.Image object>"
      ]
     },
     "metadata": {},
     "output_type": "display_data"
    }
   ],
   "source": [
    "from langchain_core.messages import trim_messages\n",
    "\n",
    "# Node\n",
    "def chat_model_node(state: MessagesState):\n",
    "    messages = trim_messages(\n",
    "            state[\"messages\"],\n",
    "            max_tokens=100,\n",
    "            strategy=\"last\",\n",
    "            token_counter=ChatOpenAI(model=\"gpt-4o\"),\n",
    "            allow_partial=False,\n",
    "        )\n",
    "    return {\"messages\": [llm.invoke(messages)]}\n",
    "\n",
    "# Build grapph\n",
    "builder = StateGraph(MessagesState)\n",
    "builder.add_node(\"chat_model\", chat_model_node)\n",
    "builder.add_edge(START, \"chat_model\")\n",
    "builder.add_edge(\"chat_model\", END)\n",
    "graph = builder.compile()\n",
    "\n",
    "# View\n",
    "display(Image(graph.get_graph().draw_mermaid_png()))"
   ]
  },
  {
   "cell_type": "code",
   "execution_count": 12,
   "id": "24df63ac-da29-4874-b3df-7e390e97cc8a",
   "metadata": {},
   "outputs": [],
   "source": [
    "messages.append(output['messages'][-1])\n",
    "messages.append(HumanMessage(f\"Tell me where Orcas live!\", name=\"Lance\"))"
   ]
  },
  {
   "cell_type": "code",
   "execution_count": 21,
   "id": "6d9d8971-c75c-43ca-a209-eb1d07b2ead0",
   "metadata": {},
   "outputs": [
    {
     "data": {
      "text/plain": [
       "[HumanMessage(content='Tell me where Orcas live!', name='Lance')]"
      ]
     },
     "execution_count": 21,
     "metadata": {},
     "output_type": "execute_result"
    }
   ],
   "source": [
    "trim_messages(\n",
    "            messages,\n",
    "            max_tokens=100,\n",
    "            strategy=\"last\",\n",
    "            token_counter=ChatOpenAI(model=\"gpt-4o\"),\n",
    "            allow_partial=False\n",
    "        )"
   ]
  },
  {
   "cell_type": "code",
   "execution_count": 29,
   "id": "ed70a269-a869-4fa0-a1df-29736a432c51",
   "metadata": {},
   "outputs": [],
   "source": [
    "# Invoke, using message trimming\n",
    "messages_out_trim = graph.invoke({'messages': messages})"
   ]
  },
  {
   "cell_type": "markdown",
   "id": "38b3db67-380e-46b5-9a6a-20100ba52008",
   "metadata": {},
   "source": [
    "Let's look at the LangSmith trace to see the model invocation:\n",
    "\n",
    "https://smith.langchain.com/public/b153f7e9-f1a5-4d60-8074-f0d7ab5b42ef/r"
   ]
  },
  {
   "cell_type": "code",
   "execution_count": null,
   "id": "292ad4e5-083b-4558-b616-8e3f08b6c17b",
   "metadata": {},
   "outputs": [],
   "source": []
  },
  {
   "cell_type": "code",
   "execution_count": null,
   "id": "83db7292-4202-4579-99e8-5fa59cb8b0a8",
   "metadata": {},
   "outputs": [],
   "source": []
  },
  {
   "cell_type": "code",
   "execution_count": null,
   "id": "7e305ba5-e2a9-4546-9db5-eb8cdc339b2a",
   "metadata": {},
   "outputs": [],
   "source": []
  }
 ],
 "metadata": {
  "kernelspec": {
   "display_name": "Python 3 (ipykernel)",
   "language": "python",
   "name": "python3"
  },
  "language_info": {
   "codemirror_mode": {
    "name": "ipython",
    "version": 3
   },
   "file_extension": ".py",
   "mimetype": "text/x-python",
   "name": "python",
   "nbconvert_exporter": "python",
   "pygments_lexer": "ipython3",
   "version": "3.11.8"
  }
 },
 "nbformat": 4,
 "nbformat_minor": 5
}

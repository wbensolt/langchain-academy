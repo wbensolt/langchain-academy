{
 "cells": [
  {
   "cell_type": "markdown",
   "id": "c52ea2f9-03ff-4647-b782-46867ebed04e",
   "metadata": {},
   "source": [
    "# Filtering and trimming messages\n",
    "\n",
    "## Review\n",
    "\n",
    "By now, we have a deeper understanding of a few key concerns: \n",
    "\n",
    "* How to define various state schemas\n",
    "* How to define custom state reducers\n",
    "* How to use multiple states within your graph\n",
    "\n",
    "## Goals\n",
    "\n",
    "Now, we can start using these concepts with with chat models in LangGraph.\n",
    "\n",
    "We'll build towards a chatbot that has long-term memory!\n",
    "\n",
    "Let's first talk a bit more about advanced ways to work with messages in graph state."
   ]
  },
  {
   "cell_type": "code",
   "execution_count": null,
   "id": "d5197aba-5d46-421b-ae3b-4e3034edcfda",
   "metadata": {},
   "outputs": [],
   "source": [
    "%%capture --no-stderr\n",
    "%pip install --quiet -U langchain_core langgraph langchain_openai"
   ]
  },
  {
   "cell_type": "code",
   "execution_count": null,
   "id": "768dc606-d5f2-468d-96ea-910b264e0f8a",
   "metadata": {},
   "outputs": [],
   "source": [
    "import os, getpass\n",
    "\n",
    "def _set_env(var: str):\n",
    "    if not os.environ.get(var):\n",
    "        os.environ[var] = getpass.getpass(f\"{var}: \")\n",
    "\n",
    "_set_env(\"OPENAI_API_KEY\")"
   ]
  },
  {
   "cell_type": "markdown",
   "id": "72f3fc90-58b6-4f7f-897e-dddf6ae532c7",
   "metadata": {},
   "source": [
    "## Messages as state\n",
    "\n",
    "First, let's define some messages."
   ]
  },
  {
   "cell_type": "code",
   "execution_count": 48,
   "id": "cf11a463-e27a-4a05-b41d-64882e38edca",
   "metadata": {},
   "outputs": [
    {
     "name": "stdout",
     "output_type": "stream",
     "text": [
      "==================================\u001b[1m Ai Message \u001b[0m==================================\n",
      "Name: Bot\n",
      "\n",
      "So you said you were researching ocean mammals?\n",
      "================================\u001b[1m Human Message \u001b[0m=================================\n",
      "Name: Lance\n",
      "\n",
      "Yes, I know about whales. But what others should I learn about?\n"
     ]
    }
   ],
   "source": [
    "from langchain_core.messages import AIMessage, HumanMessage\n",
    "messages = [AIMessage(f\"So you said you were researching ocean mammals?\", name=\"Bot\")]\n",
    "messages.extend([HumanMessage(f\"Yes, I know about whales. But what others should I learn about?\", name=\"Lance\")])\n",
    "\n",
    "from pprint import pprint\n",
    "for m in messages:\n",
    "    m.pretty_print()"
   ]
  },
  {
   "cell_type": "markdown",
   "id": "b814adcb-6bf9-4b75-be11-e59f933fbd0c",
   "metadata": {},
   "source": [
    "Recall we can pass them to a chat model."
   ]
  },
  {
   "cell_type": "code",
   "execution_count": 2,
   "id": "4712e288-e622-48a2-ad3f-a52f65f3ab08",
   "metadata": {},
   "outputs": [
    {
     "data": {
      "text/plain": [
       "AIMessage(content='There are many fascinating ocean mammals beyond whales that you might want to learn about. Here\\'s a brief overview of some of them:\\n\\n1. **Dolphins**: Highly intelligent and social animals. Species include the common bottlenose dolphin and the orca (which is actually a type of dolphin).\\n\\n2. **Porpoises**: Similar to dolphins but generally smaller, with different teeth and body shapes. The harbor porpoise is a common example.\\n\\n3. **Seals**: Pinnipeds that include various species like the harbor seal and the elephant seal. They are known for their adaptability to both aquatic and terrestrial environments.\\n\\n4. **Sea Lions**: Also pinnipeds, but unlike seals, they have external ear flaps and can \"walk\" on land using their large flippers. The California sea lion is a well-known species.\\n\\n5. **Walruses**: Large pinnipeds distinguished by their long tusks, whiskers, and bulk. They primarily inhabit Arctic regions.\\n\\n6. **Manatees and Dugongs**: Known as sea cows, these gentle herbivores are found in warm coastal waters. Manatees are typically found in the Americas, while dugongs are found in the Indian and Pacific Oceans.\\n\\n7. **Sea Otters**: Known for their playful behavior and use of tools to open shellfish. They are crucial for maintaining kelp forest ecosystems.\\n\\n8. **Polar Bears**: While not exclusively marine, polar bears spend much of their lives on sea ice hunting seals. They are excellent swimmers and depend heavily on the Arctic marine environment.\\n\\n9. **Narwhals**: Known as the \"unicorns of the sea\" due to the long, spiral tusk that males possess. They live in Arctic waters and are relatively elusive.\\n\\n10. **Sperm Whales**: Not just any whale, sperm whales have a distinct large head and are known for diving to great depths to hunt giant squid.\\n\\nEach of these marine mammals has unique adaptations that allow them to thrive in their specific environments. Learning about their behaviors, habitats, and conservation status can provide a deeper understanding of marine ecosystems.', response_metadata={'token_usage': {'completion_tokens': 436, 'prompt_tokens': 39, 'total_tokens': 475}, 'model_name': 'gpt-4o-2024-05-13', 'system_fingerprint': 'fp_df84d6bd70', 'finish_reason': 'stop', 'logprobs': None}, id='run-7c7b1950-9992-414b-b73e-15d4a54989f7-0', usage_metadata={'input_tokens': 39, 'output_tokens': 436, 'total_tokens': 475})"
      ]
     },
     "execution_count": 2,
     "metadata": {},
     "output_type": "execute_result"
    }
   ],
   "source": [
    "from langchain_openai import ChatOpenAI\n",
    "llm = ChatOpenAI(model=\"gpt-4o\")\n",
    "llm.invoke(messages)"
   ]
  },
  {
   "cell_type": "markdown",
   "id": "fbd1dab8-0af8-4621-8264-ce65065f76ec",
   "metadata": {},
   "source": [
    "We cam also fold this into a graph!\n",
    "\n",
    "Recall from Module 1 that we can just use our `MessagesState`, which has built in:\n",
    "\n",
    "* `messages` key\n",
    "* `reducer` that will append messages to the list"
   ]
  },
  {
   "cell_type": "code",
   "execution_count": 40,
   "id": "bbd8c39c-633b-4176-9cc6-8318e42bb5dd",
   "metadata": {},
   "outputs": [
    {
     "data": {
      "image/jpeg": "[encoded data removed]",
      "text/plain": [
       "<IPython.core.display.Image object>"
      ]
     },
     "metadata": {},
     "output_type": "display_data"
    }
   ],
   "source": [
    "from IPython.display import Image, display\n",
    "from langgraph.graph import MessagesState\n",
    "from langgraph.graph import StateGraph, START, END\n",
    "\n",
    "# Node\n",
    "def chat_model_node(state: MessagesState):\n",
    "    return {\"messages\": llm.invoke(state[\"messages\"])}\n",
    "\n",
    "# Build grapph\n",
    "builder = StateGraph(MessagesState)\n",
    "builder.add_node(\"chat_model\", chat_model_node)\n",
    "builder.add_edge(START, \"chat_model\")\n",
    "builder.add_edge(\"chat_model\", END)\n",
    "graph = builder.compile()\n",
    "\n",
    "# View\n",
    "display(Image(graph.get_graph().draw_mermaid_png()))"
   ]
  },
  {
   "cell_type": "code",
   "execution_count": 42,
   "id": "3a5a3e4a-ccfd-4d14-81f1-f0de6e11a1e4",
   "metadata": {},
   "outputs": [
    {
     "name": "stdout",
     "output_type": "stream",
     "text": [
      "==================================\u001b[1m Ai Message \u001b[0m==================================\n",
      "Name: Bot\n",
      "\n",
      "So you said you were researching ocean mammals?\n",
      "================================\u001b[1m Human Message \u001b[0m=================================\n",
      "Name: Lance\n",
      "\n",
      "Yes, I know about whales. But what others should I learn about?\n",
      "==================================\u001b[1m Ai Message \u001b[0m==================================\n",
      "\n",
      "Great! In addition to whales, there are several other fascinating ocean mammals worth studying. Here are a few:\n",
      "\n",
      "1. **Dolphins**: Highly intelligent and social creatures, dolphins are closely related to whales. There are many species, including the common bottlenose dolphin.\n",
      "\n",
      "2. **Porpoises**: Similar to dolphins but generally smaller and stouter. They are less acrobatic and not as well-known but equally interesting.\n",
      "\n",
      "3. **Seals**: These are pinnipeds, meaning \"fin-footed.\" They spend a lot of time in the water but come ashore to rest, breed, and give birth. Examples include the harbor seal and the elephant seal.\n",
      "\n",
      "4. **Sea Lions**: Also pinnipeds, sea lions are more agile on land than seals thanks to their rotating hind flippers. The California sea lion is one of the most well-known.\n",
      "\n",
      "5. **Walruses**: Recognizable by their long tusks, walruses are large pinnipeds that live in Arctic regions. They use their tusks to pull themselves out of the water and for defense.\n",
      "\n",
      "6. **Manatees and Dugongs**: These are large, slow-moving herbivores often referred to as \"sea cows.\" Manatees are found in the Atlantic Ocean, while dugongs are found in the Indian and Pacific Oceans.\n",
      "\n",
      "7. **Sea Otters**: These are small marine mammals known for their use of tools to open shellfish. They have incredibly dense fur which keeps them warm in cold waters.\n",
      "\n",
      "8. **Polar Bears**: While primarily land-based, polar bears are considered marine mammals because they spend much of their life on sea ice hunting seals.\n",
      "\n",
      "9. **Narwhals**: Often called the \"unicorns of the sea,\" narwhals are small whales with a long, spiral tusk that can grow up to 10 feet long.\n",
      "\n",
      "10. **Orcas (Killer Whales)**: These are actually the largest members of the dolphin family and are apex predators with a diverse diet.\n",
      "\n",
      "Each of these species has unique adaptations and behaviors that make them intriguing subjects for study. Their interactions with their environments and each other offer valuable insights into marine ecosystems.\n"
     ]
    }
   ],
   "source": [
    "output = graph.invoke({'messages': messages})\n",
    "for m in output['messages']:\n",
    "    m.pretty_print()"
   ]
  },
  {
   "cell_type": "markdown",
   "id": "34c33e63-1ef4-412d-bb10-6a1b9e5b35a7",
   "metadata": {},
   "source": [
    "## Reducer\n",
    "\n",
    "A practical challenge when working with messages is managining long-running conversations!\n",
    "\n",
    "This results in high token usage and latency if we are not careful.\n",
    "\n",
    "We have a few ways to address this.\n",
    "\n",
    "First, recall the trick we saw using `RemoveMessage`! \n",
    "\n",
    "The `add_messages` reducer can remove mesages from our state. \n",
    "\n",
    "Here's I'll define the full `MessagesState` to show that we are using `add_messages` reducer.\n",
    "\n",
    "```\n",
    "class MessagesState(TypedDict):\n",
    "messages: Annotated[list[AnyMessage], add_messages]\n",
    "```\n",
    "\n",
    "But, usually I prefer to just use `from langgraph.graph import MessagesState` directly."
   ]
  },
  {
   "cell_type": "code",
   "execution_count": 122,
   "id": "222c6bc5-bb0e-4a43-80f5-c8ec38d99f3a",
   "metadata": {},
   "outputs": [
    {
     "data": {
      "image/jpeg": "[encoded data removed]",
      "text/plain": [
       "<IPython.core.display.Image object>"
      ]
     },
     "metadata": {},
     "output_type": "display_data"
    }
   ],
   "source": [
    "from typing import Annotated, TypedDict\n",
    "from langchain_core.messages import AnyMessage\n",
    "from langchain_core.messages import RemoveMessage\n",
    "\n",
    "from langgraph.graph.message import add_messages\n",
    "\n",
    "def concat_up_to_five(current: list, new: list):\n",
    "    return (current + new)[-5:]\n",
    "        \n",
    "class MessagesState(TypedDict):\n",
    "    messages: Annotated[list[AnyMessage], add_messages]\n",
    "\n",
    "# Nodes\n",
    "def filter_messages(state: MessagesState):\n",
    "    # Delete all but the 2 most recent messages\n",
    "    delete_messages = [RemoveMessage(id=m.id) for m in state[\"messages\"][:-2]]\n",
    "    return {\"messages\": delete_messages}\n",
    "\n",
    "def chat_model_node(state: MessagesState):    \n",
    "    return {\"messages\": [llm.invoke(state[\"messages\"])]}\n",
    "\n",
    "# Build grapph\n",
    "builder = StateGraph(MessagesState)\n",
    "builder.add_node(\"filter\", filter_messages)\n",
    "builder.add_node(\"chat_model\", chat_model_node)\n",
    "builder.add_edge(START, \"filter\")\n",
    "builder.add_edge(\"filter\", \"chat_model\")\n",
    "builder.add_edge(\"chat_model\", END)\n",
    "graph = builder.compile()\n",
    "\n",
    "# View\n",
    "display(Image(graph.get_graph().draw_mermaid_png()))"
   ]
  },
  {
   "cell_type": "code",
   "execution_count": 123,
   "id": "95a7c2cc-54ce-43e7-9a90-abf37827d709",
   "metadata": {},
   "outputs": [
    {
     "name": "stdout",
     "output_type": "stream",
     "text": [
      "================================\u001b[1m Human Message \u001b[0m=================================\n",
      "Name: Lance\n",
      "\n",
      "Yes, I know about whales. But what others should I learn about?\n",
      "================================\u001b[1m Human Message \u001b[0m=================================\n",
      "Name: Lance\n",
      "\n",
      "Tell me where Orcas live!\n",
      "==================================\u001b[1m Ai Message \u001b[0m==================================\n",
      "\n",
      "Orcas, also known as killer whales, are found in oceans all around the world. They are highly adaptable and can live in a variety of marine environments. Here are some of the key regions where orcas are commonly found:\n",
      "\n",
      "1. **Arctic and Antarctic Waters:** Orcas are often seen in the cold waters of the Arctic and Antarctic regions. They are well-adapted to the frigid temperatures and are known to prey on seals, fish, and even other whales in these areas.\n",
      "\n",
      "2. **North Atlantic and North Pacific Oceans:** Orcas are frequently spotted along the coastlines of countries bordering these oceans. In the North Atlantic, they can be seen off the coasts of Norway, Iceland, Scotland, and Canada. In the North Pacific, they are commonly found from Alaska down to California.\n",
      "\n",
      "3. **Norwegian and Barents Seas:** The waters near Norway and Russia are known for their orca populations, particularly in the winter months when they prey on herring and other fish.\n",
      "\n",
      "4. **Southern Ocean:** Orcas are also found around the continent of Antarctica, where they hunt for seals, penguins, and fish.\n",
      "\n",
      "5. **Temperate and Tropical Waters:** While orcas are more commonly associated with colder regions, they are also found in temperate and even tropical waters. They have been observed off the coasts of New Zealand, Australia, South Africa, and the Galápagos Islands.\n",
      "\n",
      "6. **Inland Seas and Bays:** Some orca populations reside in more enclosed bodies of water such as the Sea of Okhotsk, the Gulf of Alaska, and the Puget Sound in the United States.\n",
      "\n",
      "Orcas are highly social animals and often travel in pods, which are family groups that can range from a few individuals to several dozen. Their wide distribution and adaptability make them one of the most fascinating marine mammals to study.\n"
     ]
    }
   ],
   "source": [
    "output = graph.invoke({'messages': messages})\n",
    "for m in output['messages']:\n",
    "    m.pretty_print()"
   ]
  },
  {
   "cell_type": "markdown",
   "id": "f506457d-014b-4fee-a684-e5edfb4b8f0d",
   "metadata": {},
   "source": [
    "## Filtering messages\n",
    "\n",
    "Of course, messages are simply a list that can be [filtered easily](https://langchain-ai.github.io/langgraph/how-tos/memory/manage-conversation-history/#filtering-messages).\n",
    "\n",
    "There are a few ways to approach this in LangGraph.\n",
    "\n",
    "One option is to [use `RemoveMessage`](https://api.python.langchain.com/en/latest/messages/langchain_core.messages.modifier.RemoveMessage.html) to [remove messages from graph state](https://langchain-ai.github.io/langgraph/how-tos/memory/delete-messages/) based upon the message ID.\n",
    "\n",
    "When using our built-in `MessagesState`, the reducer understands `RemoveMessage`. "
   ]
  },
  {
   "cell_type": "code",
   "execution_count": 67,
   "id": "ad8641c8-ed60-45b7-99d1-f9a383f0c63e",
   "metadata": {},
   "outputs": [],
   "source": [
    "from langchain_core.messages import RemoveMessage"
   ]
  },
  {
   "cell_type": "code",
   "execution_count": 107,
   "id": "02cf5f63-a9ec-47ec-8d3c-98ff6a11f1b7",
   "metadata": {},
   "outputs": [
    {
     "name": "stdout",
     "output_type": "stream",
     "text": [
      "[RemoveMessage(content='', id='1'), RemoveMessage(content='', id='2')]\n"
     ]
    }
   ],
   "source": [
    "# Message list with a preamble\n",
    "messages = [AIMessage(\"Hi.\", name=\"Bot\", id=1)]\n",
    "messages.append(HumanMessage(\"Hi.\", name=\"Lance\", id=2))\n",
    "messages.append(AIMessage(\"So you said you were researching ocean mammals?\", name=\"Bot\", id=3))\n",
    "messages.append(HumanMessage(\"Yes, I know about whales. But what others should I learn about?\", name=\"Lance\", id=4))\n",
    "\n",
    "# Delete all but the 2 most recent messages\n",
    "delete_messages = [RemoveMessage(id=m.id) for m in messages[:-2]]\n",
    "print(delete_messages)"
   ]
  },
  {
   "cell_type": "markdown",
   "id": "bc28a527-11e6-4440-afeb-03c8db581e85",
   "metadata": {},
   "source": [
    "We can apply this in our graph."
   ]
  },
  {
   "cell_type": "code",
   "execution_count": 80,
   "id": "5b78c994-6261-41eb-a0b4-dacfda8284c1",
   "metadata": {},
   "outputs": [
    {
     "data": {
      "image/jpeg": "[encoded data removed]",
      "text/plain": [
       "<IPython.core.display.Image object>"
      ]
     },
     "metadata": {},
     "output_type": "display_data"
    }
   ],
   "source": [
    "# Node\n",
    "def filter_messages(state: MessagesState):\n",
    "    # Delete all but the 2 most recent messages\n",
    "    delete_messages = [RemoveMessage(id=m.id) for m in state[\"messages\"][:-2]]\n",
    "    return {\"messages\": delete_messages}\n",
    "\n",
    "def chat_model_node(state: MessagesState):\n",
    "    return {\"messages\": [llm.invoke(messages)]}\n",
    "\n",
    "# Build grapph\n",
    "builder = StateGraph(MessagesState)\n",
    "builder.add_node(\"filter_messages\", filter_messages)\n",
    "builder.add_node(\"chat_model\", chat_model_node)\n",
    "builder.add_edge(START, \"filter_messages\")\n",
    "builder.add_edge(\"filter_messages\", \"chat_model\")\n",
    "builder.add_edge(\"chat_model\", END)\n",
    "graph = builder.compile()\n",
    "\n",
    "# View\n",
    "display(Image(graph.get_graph().draw_mermaid_png()))"
   ]
  },
  {
   "cell_type": "markdown",
   "id": "453485ec-811b-4838-8dfc-51e68a3c6849",
   "metadata": {},
   "source": [
    "The order here is the order in which we send the state updates."
   ]
  },
  {
   "cell_type": "code",
   "execution_count": 81,
   "id": "0766dd74-9942-4c46-b393-844eaccd6598",
   "metadata": {},
   "outputs": [
    {
     "name": "stdout",
     "output_type": "stream",
     "text": [
      "==================================\u001b[1m Ai Message \u001b[0m==================================\n",
      "Name: Bot\n",
      "\n",
      "So you said you were researching ocean mammals?\n",
      "================================\u001b[1m Human Message \u001b[0m=================================\n",
      "Name: Lance\n",
      "\n",
      "Yes, I know about whales. But what others should I learn about?\n",
      "================================\u001b[1m Remove Message \u001b[0m================================\n",
      "\n",
      "\n",
      "================================\u001b[1m Remove Message \u001b[0m================================\n",
      "\n",
      "\n",
      "==================================\u001b[1m Ai Message \u001b[0m==================================\n",
      "\n",
      "That's great that you know about whales! There are several other fascinating ocean mammals you might want to look into:\n",
      "\n",
      "1. **Dolphins**: Highly intelligent and social animals, dolphins are known for their playful behavior and complex communication.\n",
      "\n",
      "2. **Seals and Sea Lions**: These pinnipeds are skilled swimmers and can often be seen lounging on rocks or beaches. Seals tend to have smaller flippers and lack external ear flaps, while sea lions have larger flippers and visible ear flaps.\n",
      "\n",
      "3. **Manatees and Dugongs**: Often referred to as sea cows, these gentle giants are herbivores that graze on underwater vegetation. Manatees are typically found in the Atlantic Ocean, while dugongs inhabit the Indian and Pacific Oceans.\n",
      "\n",
      "4. **Otters**: Sea otters are known for their use of tools to open shellfish, while river otters are excellent swimmers and can often be seen in coastal areas.\n",
      "\n",
      "5. **Narwhals**: Often called the \"unicorns of the sea,\" narwhals are known for their long, spiral tusks, which are actually elongated teeth.\n",
      "\n",
      "6. **Porpoises**: Similar to dolphins but generally smaller and with different shaped fins and snouts, porpoises are also highly intelligent and social.\n",
      "\n",
      "7. **Walruses**: Recognizable by their large tusks and whiskers, walruses are social animals that live in Arctic regions and are known for their loud vocalizations.\n",
      "\n",
      "Each of these mammals has unique adaptations and behaviors that make them interesting subjects for study.\n"
     ]
    }
   ],
   "source": [
    "# Run\n",
    "output = graph.invoke({'messages': messages})\n",
    "for m in output['messages']:\n",
    "    m.pretty_print()"
   ]
  },
  {
   "cell_type": "markdown",
   "id": "c6e3efbb-a06d-40e7-ab93-1eb73e42629c",
   "metadata": {},
   "source": [
    "If you don't need or want to modify the graph state, you can just filter the messages you pass to the chat model.\n",
    "\n",
    "For example, just pass in a filtered list: `llm.invoke(messages[-1:])` to the llm.\n",
    "\n",
    "Optionally, we can use [LangSmith](https://docs.smith.langchain.com/) here to view the traces for our chat model invocations confirm the filtered messages are going in."
   ]
  },
  {
   "cell_type": "code",
   "execution_count": null,
   "id": "c55989dd-61ac-4181-a200-eadf723d18dd",
   "metadata": {},
   "outputs": [],
   "source": [
    "_set_env(\"LANGCHAIN_API_KEY\")\n",
    "os.environ[\"LANGCHAIN_TRACING_V2\"] = \"true\"\n",
    "os.environ[\"LANGCHAIN_ENDPOINT\"] = \"https://api.smith.langchain.com\" "
   ]
  },
  {
   "cell_type": "code",
   "execution_count": 92,
   "id": "22d0b904-7cd6-486b-8948-105bee3d4683",
   "metadata": {},
   "outputs": [
    {
     "data": {
      "image/jpeg": "[encoded data removed]",
      "text/plain": [
       "<IPython.core.display.Image object>"
      ]
     },
     "metadata": {},
     "output_type": "display_data"
    }
   ],
   "source": [
    "# Node\n",
    "def chat_model_node(state: MessagesState):\n",
    "    messages = filter_messages(state[\"messages\"])\n",
    "    return {\"messages\": [llm.invoke(messages[-1:])]}\n",
    "\n",
    "# Build grapph\n",
    "builder = StateGraph(MessagesState)\n",
    "builder.add_node(\"chat_model\", chat_model_node)\n",
    "builder.add_edge(START, \"chat_model\")\n",
    "builder.add_edge(\"chat_model\", END)\n",
    "graph = builder.compile()\n",
    "\n",
    "# View\n",
    "display(Image(graph.get_graph().draw_mermaid_png()))"
   ]
  },
  {
   "cell_type": "code",
   "execution_count": 93,
   "id": "85563415-c085-46a8-a4ac-155df798c54e",
   "metadata": {},
   "outputs": [
    {
     "name": "stdout",
     "output_type": "stream",
     "text": [
      "==================================\u001b[1m Ai Message \u001b[0m==================================\n",
      "Name: Bot\n",
      "\n",
      "Hi.\n",
      "================================\u001b[1m Human Message \u001b[0m=================================\n",
      "Name: Lance\n",
      "\n",
      "Hi.\n",
      "==================================\u001b[1m Ai Message \u001b[0m==================================\n",
      "Name: Bot\n",
      "\n",
      "So you said you were researching ocean mammals?\n",
      "================================\u001b[1m Human Message \u001b[0m=================================\n",
      "Name: Lance\n",
      "\n",
      "Yes, I know about whales. But what others should I learn about?\n",
      "================================\u001b[1m Human Message \u001b[0m=================================\n",
      "Name: Lance\n",
      "\n",
      "Tell me more about Narwhals!\n",
      "================================\u001b[1m Human Message \u001b[0m=================================\n",
      "Name: Lance\n",
      "\n",
      "Tell me more about Narwhals!\n",
      "==================================\u001b[1m Ai Message \u001b[0m==================================\n",
      "\n",
      "That's great that you know about whales! There are several other fascinating ocean mammals you might want to look into:\n",
      "\n",
      "1. **Dolphins**: Highly intelligent and social animals, dolphins are known for their playful behavior and complex communication.\n",
      "\n",
      "2. **Seals and Sea Lions**: These pinnipeds are skilled swimmers and can often be seen lounging on rocks or beaches. Seals tend to have smaller flippers and lack external ear flaps, while sea lions have larger flippers and visible ear flaps.\n",
      "\n",
      "3. **Manatees and Dugongs**: Often referred to as sea cows, these gentle giants are herbivores that graze on underwater vegetation. Manatees are typically found in the Atlantic Ocean, while dugongs inhabit the Indian and Pacific Oceans.\n",
      "\n",
      "4. **Otters**: Sea otters are known for their use of tools to open shellfish, while river otters are excellent swimmers and can often be seen in coastal areas.\n",
      "\n",
      "5. **Narwhals**: Often called the \"unicorns of the sea,\" narwhals are known for their long, spiral tusks, which are actually elongated teeth.\n",
      "\n",
      "6. **Porpoises**: Similar to dolphins but generally smaller and with different shaped fins and snouts, porpoises are also highly intelligent and social.\n",
      "\n",
      "7. **Walruses**: Recognizable by their large tusks and whiskers, walruses are social animals that live in Arctic regions and are known for their loud vocalizations.\n",
      "\n",
      "Each of these mammals has unique adaptations and behaviors that make them interesting subjects for study.\n",
      "================================\u001b[1m Human Message \u001b[0m=================================\n",
      "Name: Lance\n",
      "\n",
      "Tell me more about Narwhals!\n",
      "==================================\u001b[1m Ai Message \u001b[0m==================================\n",
      "\n",
      "That's great that you know about whales! There are several other fascinating ocean mammals you might want to look into:\n",
      "\n",
      "1. **Dolphins**: Highly intelligent and social animals, dolphins are known for their playful behavior and complex communication.\n",
      "\n",
      "2. **Seals and Sea Lions**: These pinnipeds are skilled swimmers and can often be seen lounging on rocks or beaches. Seals tend to have smaller flippers and lack external ear flaps, while sea lions have larger flippers and visible ear flaps.\n",
      "\n",
      "3. **Manatees and Dugongs**: Often referred to as sea cows, these gentle giants are herbivores that graze on underwater vegetation. Manatees are typically found in the Atlantic Ocean, while dugongs inhabit the Indian and Pacific Oceans.\n",
      "\n",
      "4. **Otters**: Sea otters are known for their use of tools to open shellfish, while river otters are excellent swimmers and can often be seen in coastal areas.\n",
      "\n",
      "5. **Narwhals**: Often called the \"unicorns of the sea,\" narwhals are known for their long, spiral tusks, which are actually elongated teeth.\n",
      "\n",
      "6. **Porpoises**: Similar to dolphins but generally smaller and with different shaped fins and snouts, porpoises are also highly intelligent and social.\n",
      "\n",
      "7. **Walruses**: Recognizable by their large tusks and whiskers, walruses are social animals that live in Arctic regions and are known for their loud vocalizations.\n",
      "\n",
      "Each of these mammals has unique adaptations and behaviors that make them interesting subjects for study.\n",
      "================================\u001b[1m Human Message \u001b[0m=================================\n",
      "Name: Lance\n",
      "\n",
      "Tell me more about Narwhals!\n"
     ]
    }
   ],
   "source": [
    "messages.append(output['messages'][-1])\n",
    "messages.append(HumanMessage(f\"Tell me more about Narwhals!\", name=\"Lance\"))\n",
    "for m in messages:\n",
    "    m.pretty_print()"
   ]
  },
  {
   "cell_type": "code",
   "execution_count": 94,
   "id": "23349705-a059-47b5-9760-d8f64e687393",
   "metadata": {},
   "outputs": [
    {
     "name": "stdout",
     "output_type": "stream",
     "text": [
      "==================================\u001b[1m Ai Message \u001b[0m==================================\n",
      "\n",
      "That's great that you know about whales! There are several other fascinating ocean mammals you might want to look into:\n",
      "\n",
      "1. **Dolphins**: Highly intelligent and social animals, dolphins are known for their playful behavior and complex communication.\n",
      "\n",
      "2. **Seals and Sea Lions**: These pinnipeds are skilled swimmers and can often be seen lounging on rocks or beaches. Seals tend to have smaller flippers and lack external ear flaps, while sea lions have larger flippers and visible ear flaps.\n",
      "\n",
      "3. **Manatees and Dugongs**: Often referred to as sea cows, these gentle giants are herbivores that graze on underwater vegetation. Manatees are typically found in the Atlantic Ocean, while dugongs inhabit the Indian and Pacific Oceans.\n",
      "\n",
      "4. **Otters**: Sea otters are known for their use of tools to open shellfish, while river otters are excellent swimmers and can often be seen in coastal areas.\n",
      "\n",
      "5. **Narwhals**: Often called the \"unicorns of the sea,\" narwhals are known for their long, spiral tusks, which are actually elongated teeth.\n",
      "\n",
      "6. **Porpoises**: Similar to dolphins but generally smaller and with different shaped fins and snouts, porpoises are also highly intelligent and social.\n",
      "\n",
      "7. **Walruses**: Recognizable by their large tusks and whiskers, walruses are social animals that live in Arctic regions and are known for their loud vocalizations.\n",
      "\n",
      "Each of these mammals has unique adaptations and behaviors that make them interesting subjects for study.\n",
      "================================\u001b[1m Human Message \u001b[0m=================================\n",
      "Name: Lance\n",
      "\n",
      "Tell me more about Narwhals!\n",
      "==================================\u001b[1m Ai Message \u001b[0m==================================\n",
      "\n",
      "That's great that you know about whales! There are several other fascinating ocean mammals you might want to look into:\n",
      "\n",
      "1. **Dolphins**: Highly intelligent and social animals, dolphins are known for their playful behavior and complex communication.\n",
      "\n",
      "2. **Seals and Sea Lions**: These pinnipeds are skilled swimmers and can often be seen lounging on rocks or beaches. Seals tend to have smaller flippers and lack external ear flaps, while sea lions have larger flippers and visible ear flaps.\n",
      "\n",
      "3. **Manatees and Dugongs**: Often referred to as sea cows, these gentle giants are herbivores that graze on underwater vegetation. Manatees are typically found in the Atlantic Ocean, while dugongs inhabit the Indian and Pacific Oceans.\n",
      "\n",
      "4. **Otters**: Sea otters are known for their use of tools to open shellfish, while river otters are excellent swimmers and can often be seen in coastal areas.\n",
      "\n",
      "5. **Narwhals**: Often called the \"unicorns of the sea,\" narwhals are known for their long, spiral tusks, which are actually elongated teeth.\n",
      "\n",
      "6. **Porpoises**: Similar to dolphins but generally smaller and with different shaped fins and snouts, porpoises are also highly intelligent and social.\n",
      "\n",
      "7. **Walruses**: Recognizable by their large tusks and whiskers, walruses are social animals that live in Arctic regions and are known for their loud vocalizations.\n",
      "\n",
      "Each of these mammals has unique adaptations and behaviors that make them interesting subjects for study.\n",
      "================================\u001b[1m Human Message \u001b[0m=================================\n",
      "Name: Lance\n",
      "\n",
      "Tell me more about Narwhals!\n",
      "==================================\u001b[1m Ai Message \u001b[0m==================================\n",
      "\n",
      "Certainly! Narwhals (Monodon monoceros) are fascinating marine mammals belonging to the family Monodontidae, which also includes beluga whales. Here are some key points about narwhals:\n",
      "\n",
      "### Physical Characteristics\n",
      "- **Tusk**: Perhaps the most iconic feature of the narwhal is the long, spiral tusk that protrudes from the head of the males (and some females). This tusk is actually an elongated left canine tooth that can grow up to 10 feet (3 meters) in length. The exact purpose of the tusk is still debated, but it is believed to be used in social interactions, dominance displays, and possibly sensory functions.\n",
      "- **Size**: Adult narwhals typically range between 13 to 18 feet (4 to 5.5 meters) in length, excluding the tusk, and can weigh between 1,800 to 3,500 pounds (800 to 1,600 kilograms).\n",
      "- **Color**: They have a mottled black and white coloration, which helps with camouflage in their Arctic habitat. As they age, narwhals tend to become whiter.\n",
      "\n",
      "### Habitat\n",
      "- **Geographic Range**: Narwhals are primarily found in Arctic waters, particularly around Greenland, Canada, and Russia. They are known to inhabit deep offshore waters and can be found in fjords and bays in the summer.\n",
      "- **Migration**: They are highly migratory, moving between coastal summer feeding grounds and deeper offshore wintering areas, where they can dive to great depths.\n",
      "\n",
      "### Behavior and Diet\n",
      "- **Diving**: Narwhals are exceptional divers, capable of reaching depths of over 4,900 feet (1,500 meters) in search of food. They can stay submerged for up to 25 minutes.\n",
      "- **Diet**: Their diet mainly consists of fish, squid, and shrimp. Greenland halibut is a particularly important food source.\n",
      "- **Social Structure**: Narwhals are social animals, typically found in groups called pods that can range from a few individuals to several dozen.\n",
      "\n",
      "### Reproduction\n",
      "- **Breeding**: Narwhals have a relatively slow rate of reproduction. Mating usually occurs in spring, and females give birth to a single calf after a gestation period of about 14 months.\n",
      "- **Calves**: Newborn calves are around 5 feet (1.5 meters) long and weigh about 175 pounds (80 kilograms). They are nursed by their mothers for over a year.\n",
      "\n",
      "### Conservation Status\n",
      "- **Threats**: Narwhals face several threats, including climate change, which affects their sea ice habitat, and human activities such as shipping and oil exploration. They are also hunted by some indigenous communities for their meat and tusks.\n",
      "- **Conservation Efforts**: Various measures are being taken to monitor and protect narwhal populations. They are listed under Appendix II of CITES (the Convention on International Trade in Endangered Species of Wild Fauna and Flora), which helps regulate their trade to ensure it is sustainable.\n",
      "\n",
      "### Cultural Significance\n",
      "- **Indigenous Communities**: Narwhals hold significant cultural value for Arctic indigenous peoples, who have traditionally relied on them for food, tools, and other resources.\n",
      "- **Mythology**: Historically, narwhal tusks were often sold as unicorn horns in medieval Europe, contributing to the myth of the unicorn.\n",
      "\n",
      "Narwhals are remarkable creatures with unique adaptations to their Arctic environment, making them an important species for both ecological and cultural reasons.\n"
     ]
    }
   ],
   "source": [
    "# Invoke, using message filtering\n",
    "output = graph.invoke({'messages': messages})\n",
    "for m in output['messages']:\n",
    "    m.pretty_print()"
   ]
  },
  {
   "cell_type": "markdown",
   "id": "42e1d8d2-e297-4d78-b54c-d12b3c866745",
   "metadata": {},
   "source": [
    "The state has all of the mesages.\n",
    "\n",
    "But, let's look at the LangSmith trace to see that the model invocation only uses the last message:\n",
    "\n",
    "https://smith.langchain.com/public/75aca3ce-ef19-4b92-94be-0178c7a660d9/r"
   ]
  },
  {
   "cell_type": "markdown",
   "id": "fc40d930-3c1f-47fe-8d2a-ce174873353c",
   "metadata": {},
   "source": [
    "## Trim messages\n",
    "\n",
    "Another approach is to [trim messages](https://python.langchain.com/v0.2/docs/how_to/trim_messages/#getting-the-last-max_tokens-tokens), based upon a set number of tokens. \n",
    "\n",
    "This restricts the message history to a specified number of tokens.\n",
    "\n",
    "While filtering only returns a post-hoc subset of the messages between agents, trimming restricts the number of tokens that a chat model can respond with.\n",
    "\n",
    "See the `trim_messages` below."
   ]
  },
  {
   "cell_type": "code",
   "execution_count": 115,
   "id": "2ff99b81-cf03-4cc2-b44f-44829a73e1fd",
   "metadata": {},
   "outputs": [
    {
     "data": {
      "image/jpeg": "[encoded data removed]",
      "text/plain": [
       "<IPython.core.display.Image object>"
      ]
     },
     "metadata": {},
     "output_type": "display_data"
    }
   ],
   "source": [
    "from langchain_core.messages import trim_messages\n",
    "\n",
    "# Node\n",
    "def chat_model_node(state: MessagesState):\n",
    "    messages = trim_messages(\n",
    "            state[\"messages\"],\n",
    "            max_tokens=500,\n",
    "            strategy=\"last\",\n",
    "            token_counter=ChatOpenAI(model=\"gpt-4o\"),\n",
    "            allow_partial=True,\n",
    "        )\n",
    "    return {\"messages\": [llm.invoke(messages)]}\n",
    "\n",
    "# Build grapph\n",
    "builder = StateGraph(MessagesState)\n",
    "builder.add_node(\"chat_model\", chat_model_node)\n",
    "builder.add_edge(START, \"chat_model\")\n",
    "builder.add_edge(\"chat_model\", END)\n",
    "graph = builder.compile()\n",
    "\n",
    "# View\n",
    "display(Image(graph.get_graph().draw_mermaid_png()))"
   ]
  },
  {
   "cell_type": "code",
   "execution_count": 109,
   "id": "24df63ac-da29-4874-b3df-7e390e97cc8a",
   "metadata": {},
   "outputs": [],
   "source": [
    "messages.append(HumanMessage(f\"Tell me where Orcas live!\", name=\"Lance\"))"
   ]
  },
  {
   "cell_type": "code",
   "execution_count": 112,
   "id": "6d9d8971-c75c-43ca-a209-eb1d07b2ead0",
   "metadata": {},
   "outputs": [
    {
     "data": {
      "text/plain": [
       "[AIMessage(content='Hi.', name='Bot', id='1'),\n",
       " HumanMessage(content='Hi.', name='Lance', id='2'),\n",
       " AIMessage(content='So you said you were researching ocean mammals?', name='Bot', id='3'),\n",
       " HumanMessage(content='Yes, I know about whales. But what others should I learn about?', name='Lance', id='4'),\n",
       " HumanMessage(content='Tell me where Orcas live!', name='Lance')]"
      ]
     },
     "execution_count": 112,
     "metadata": {},
     "output_type": "execute_result"
    }
   ],
   "source": [
    "trim_messages(\n",
    "            messages,\n",
    "            max_tokens=500,\n",
    "            strategy=\"last\",\n",
    "            token_counter=ChatOpenAI(model=\"gpt-4o\"),\n",
    "        )"
   ]
  },
  {
   "cell_type": "code",
   "execution_count": 117,
   "id": "ed70a269-a869-4fa0-a1df-29736a432c51",
   "metadata": {},
   "outputs": [],
   "source": [
    "# Invoke, using message trimming\n",
    "messages_out_trim = graph.invoke({'messages': messages})"
   ]
  },
  {
   "cell_type": "markdown",
   "id": "38b3db67-380e-46b5-9a6a-20100ba52008",
   "metadata": {},
   "source": [
    "Let's look at the LangSmith trace to see the model invocation:\n",
    "\n",
    "https://smith.langchain.com/public/b153f7e9-f1a5-4d60-8074-f0d7ab5b42ef/r"
   ]
  },
  {
   "cell_type": "code",
   "execution_count": null,
   "id": "292ad4e5-083b-4558-b616-8e3f08b6c17b",
   "metadata": {},
   "outputs": [],
   "source": []
  },
  {
   "cell_type": "code",
   "execution_count": null,
   "id": "83db7292-4202-4579-99e8-5fa59cb8b0a8",
   "metadata": {},
   "outputs": [],
   "source": []
  },
  {
   "cell_type": "code",
   "execution_count": null,
   "id": "7e305ba5-e2a9-4546-9db5-eb8cdc339b2a",
   "metadata": {},
   "outputs": [],
   "source": []
  }
 ],
 "metadata": {
  "kernelspec": {
   "display_name": "Python 3 (ipykernel)",
   "language": "python",
   "name": "python3"
  },
  "language_info": {
   "codemirror_mode": {
    "name": "ipython",
    "version": 3
   },
   "file_extension": ".py",
   "mimetype": "text/x-python",
   "name": "python",
   "nbconvert_exporter": "python",
   "pygments_lexer": "ipython3",
   "version": "3.11.8"
  }
 },
 "nbformat": 4,
 "nbformat_minor": 5
}

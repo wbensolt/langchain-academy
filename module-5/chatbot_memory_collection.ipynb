{
 "cells": [
  {
   "cell_type": "markdown",
   "metadata": {},
   "source": [
    "# Chatbot with Collection Schema \n",
    "\n",
    "## Review\n",
    "\n",
    "We built a chatbot that saves memories to the [store](https://langchain-ai.github.io/langgraph/reference/store/#langgraph.store.base.BaseStore) using a single profile schema.\n",
    " \n",
    "We used [Trustcall](https://github.com/hinthornw/trustcall) to update the profile schema. \n",
    "\n",
    "## Goals\n",
    "\n",
    "But, our chatbot still has a few shortcomings: \n",
    "\n",
    "Second, it wrote based upon a user-provided keyword (`remember`). In practice, we often want the chatbot to decide when to save a memory rather than relying on the user to explicitly tell it. \n",
    "\n",
    "\n",
    "It only wrote based upon a user-provided keyword (`remember`). \n",
    "\n",
    "Here, we'll add a tool that allows that chatbot to decide when to save memories! \n",
    "\n",
    "We'll also show how to use [Trustcall](https://github.com/hinthornw/trustcall) to update a collection of memories, rather than a single schema. \n"
   ]
  },
  {
   "cell_type": "code",
   "execution_count": null,
   "metadata": {},
   "outputs": [],
   "source": [
    "%%capture --no-stderr\n",
    "%pip install -U langchain_openai langgraph trustcall"
   ]
  },
  {
   "cell_type": "code",
   "execution_count": 1,
   "metadata": {},
   "outputs": [],
   "source": [
    "import os, getpass\n",
    "\n",
    "def _set_env(var: str):\n",
    "    # Check if the variable is set in the OS environment\n",
    "    env_value = os.environ.get(var)\n",
    "    if not env_value:\n",
    "        # If not set, prompt the user for input\n",
    "        env_value = getpass.getpass(f\"{var}: \")\n",
    "    \n",
    "    # Set the environment variable for the current process\n",
    "    os.environ[var] = env_value\n",
    "\n",
    "_set_env(\"LANGCHAIN_API_KEY\")\n",
    "os.environ[\"LANGCHAIN_TRACING_V2\"] = \"true\"\n",
    "os.environ[\"LANGCHAIN_PROJECT\"] = \"langchain-academy\""
   ]
  },
  {
   "cell_type": "markdown",
   "metadata": {},
   "source": [
    "## Defining a memory schema\n",
    "\n",
    "Recall that the [LangGraph Store](https://langchain-ai.github.io/langgraph/reference/store/#langgraph.store.base.BaseStore) supports any schema for the `value` part of the key-value pair. \n",
    "\n",
    "This allows you to store structured information. We just showed how to store a single single schema that will be updated with new information via [Trustcall](https://github.com/hinthornw/trustcall) the chatbot interacts with the user.\n",
    "\n",
    "As we discussed in the first lesson of this module, there are trade-offs with a single profile versus a collection of memories. \n",
    "\n",
    "Here, we'll store a collection and use [Trustcall](https://github.com/hinthornw/trustcall) to update the collection, enabling both addition of new memories as well as updating existing memories in the collection.\n",
    "\n",
    "First, let's define a memory schema. "
   ]
  },
  {
   "cell_type": "code",
   "execution_count": 15,
   "metadata": {},
   "outputs": [],
   "source": [
    "# Pydantic Schema\n",
    "\n",
    "from pydantic import BaseModel, Field\n",
    "class Memory(BaseModel):\n",
    "    content: str = Field(description=\"The main content of the memory. For example: User expressed interest in learning about French.\")\n",
    "    context: str = Field(description=\"Additional context for the memory. For example: This was mentioned while discussing career options in Europe.\")"
   ]
  },
  {
   "cell_type": "code",
   "execution_count": 3,
   "metadata": {},
   "outputs": [],
   "source": [
    "_set_env(\"OPENAI_API_KEY\")"
   ]
  },
  {
   "cell_type": "code",
   "execution_count": 16,
   "metadata": {},
   "outputs": [
    {
     "name": "stdout",
     "output_type": "stream",
     "text": [
      "==================================\u001b[1m Ai Message \u001b[0m==================================\n",
      "Tool Calls:\n",
      "  Memory (call_TG6g3uvs4Z8NtaljNavGCf7e)\n",
      " Call ID: call_TG6g3uvs4Z8NtaljNavGCf7e\n",
      "  Args:\n",
      "    content: User's name is Lance and he likes to bike.\n",
      "    context: User shared personal interests.\n"
     ]
    }
   ],
   "source": [
    "from langchain_core.messages import HumanMessage\n",
    "from langchain_openai import ChatOpenAI\n",
    "\n",
    "# Initialize the model\n",
    "model = ChatOpenAI(model=\"gpt-4o\", temperature=0)\n",
    "\n",
    "# Bind Memory schema as a tool to the model\n",
    "model_with_tools = model.bind_tools([Memory])\n",
    "\n",
    "# Invoke the model with personal information, which should trigger the tool call\n",
    "output = model_with_tools.invoke([HumanMessage(\"My name is Lance, I like to bike.\")])\n",
    "output.pretty_print()"
   ]
  },
  {
   "cell_type": "markdown",
   "metadata": {},
   "source": [
    "We can *also* use Trustcall to manage a collection of memories. "
   ]
  },
  {
   "cell_type": "code",
   "execution_count": 7,
   "metadata": {},
   "outputs": [
    {
     "data": {
      "text/plain": [
       "[Memory(content='User likes biking around San Francisco.', context='User introduced themselves as Lance.')]"
      ]
     },
     "execution_count": 7,
     "metadata": {},
     "output_type": "execute_result"
    }
   ],
   "source": [
    "from trustcall import create_extractor\n",
    "\n",
    "conversation = \"\"\"User: Hi, I'm Lance.\n",
    "Assistant: Nice to meet you, Lance.\n",
    "User: I really like biking around San Francisco.\"\"\"\n",
    "\n",
    "trustcall_extractor = create_extractor(\n",
    "    model,\n",
    "    tools=[Memory],\n",
    "    tool_choice=\"Memory\",\n",
    "    # This allows the extractor to insert new memories\n",
    "    enable_inserts=True,\n",
    ")\n",
    "\n",
    "# Instruction\n",
    "instruction = f\"\"\"Extract memories from the following conversation:\n",
    "<convo>\n",
    "{conversation}\n",
    "</convo>\"\"\"\n",
    "\n",
    "# Invoke the extractor\n",
    "result = trustcall_extractor.invoke({\"messages\": [HumanMessage(content=instruction)]})\n",
    "memories = result[\"responses\"]\n",
    "memories"
   ]
  },
  {
   "cell_type": "code",
   "execution_count": 11,
   "metadata": {},
   "outputs": [
    {
     "data": {
      "text/plain": [
       "{'content': 'User likes biking around San Francisco.',\n",
       " 'context': 'User introduced themselves as Lance.'}"
      ]
     },
     "execution_count": 11,
     "metadata": {},
     "output_type": "execute_result"
    }
   ],
   "source": [
    "memories[0].model_dump(mode=\"json\")"
   ]
  },
  {
   "cell_type": "code",
   "execution_count": null,
   "metadata": {},
   "outputs": [],
   "source": [
    "https://github.com/hinthornw/trustcall?tab=readme-ov-file#simultanous-updates--insertions"
   ]
  },
  {
   "cell_type": "code",
   "execution_count": 14,
   "metadata": {},
   "outputs": [
    {
     "data": {
      "text/plain": [
       "[Memory(content='User likes biking around San Francisco and going to a bakery afterwards.', context='User introduced themselves as Lance.'),\n",
       " Memory(content='User likes to go to a bakery after biking.', context='This was mentioned in a conversation about biking in San Francisco.')]"
      ]
     },
     "execution_count": 14,
     "metadata": {},
     "output_type": "execute_result"
    }
   ],
   "source": [
    "# Update the conversation\n",
    "updated_conversation = \"\"\"User: Hi, I'm Lance.\n",
    "Assistant: Nice to meet you, Lance.\n",
    "User: I really like biking around San Francisco.\n",
    "Assistant: San Francisco is a great city! Where do you go after biking?\n",
    "User: I really like to go to a bakery.\"\"\"\n",
    "\n",
    "# Update the instruction\n",
    "updated_instruction = f\"\"\"Reflect on following interaction. Use the provided tools to retain any necessary memories about the user. \n",
    "Use parallel tool calling to handle updates & insertions simultaneously:\n",
    "<convo>\n",
    "{updated_conversation}\n",
    "</convo>\"\"\"\n",
    "\n",
    "existing_memories = [(str(i), \"Memory\", memory.model_dump()) for i, memory in enumerate(memories)] if memories else None\n",
    "\n",
    "# Invoke the extractor with the updated instruction and existing profile with the corresponding tool name (UserProfile)\n",
    "result = trustcall_extractor.invoke({\"messages\": [HumanMessage(content=updated_instruction)], \n",
    "                                     \"existing\": existing_memories})\n",
    "\n",
    "updated_memories = result[\"responses\"]\n",
    "updated_memories"
   ]
  },
  {
   "cell_type": "code",
   "execution_count": null,
   "metadata": {},
   "outputs": [],
   "source": []
  },
  {
   "cell_type": "code",
   "execution_count": null,
   "metadata": {},
   "outputs": [],
   "source": []
  },
  {
   "cell_type": "code",
   "execution_count": null,
   "metadata": {},
   "outputs": [],
   "source": []
  },
  {
   "cell_type": "markdown",
   "metadata": {},
   "source": [
    "## WIP (Add Trustcall as introduced above): Managing a memory collection with our chatbot \n",
    "\n",
    "Now, we can bring this all together and improve our chatbot in a few ways: \n",
    "\n",
    "First, it will decide when to save memories.\n",
    "\n",
    "Second, it will extract the structured information from the message(s) into the specified memory schema.\n",
    "\n",
    "Third, it will save the memories as a collection, updating the existing collection as we learn more about the user."
   ]
  },
  {
   "cell_type": "code",
   "execution_count": 16,
   "metadata": {},
   "outputs": [
    {
     "data": {
      "image/jpeg": "[encoded data removed]",
      "text/plain": [
       "<IPython.core.display.Image object>"
      ]
     },
     "metadata": {},
     "output_type": "display_data"
    }
   ],
   "source": [
    "from IPython.display import Image, display\n",
    "\n",
    "from langchain_core.messages import HumanMessage, SystemMessage, ToolMessage\n",
    "from langchain_core.runnables.config import RunnableConfig\n",
    "from langgraph.checkpoint.memory import MemorySaver\n",
    "from langgraph.graph import StateGraph, MessagesState, START, END\n",
    "from langgraph.store.base import BaseStore\n",
    "\n",
    "def call_model(state: MessagesState, config: RunnableConfig, store: BaseStore):\n",
    "\n",
    "    \"\"\"Call the model with the system prompt that contains the memories as well as the user's messages.\"\"\"\n",
    "    \n",
    "    # Get the user ID from the config\n",
    "    user_id = config[\"configurable\"][\"user_id\"]\n",
    "\n",
    "    # Define the namespace for the memories\n",
    "    namespace = (\"memories\", user_id)\n",
    "\n",
    "    # Retrieve the most recent memories for context\n",
    "    memories = store.search(namespace)\n",
    "\n",
    "    # Format the memories for the system prompt\n",
    "    info = \"\\n\".join(f\"[{mem.key}]: {mem.value}\" for mem in memories)\n",
    "    system_msg = f\"\"\"You are a helpful assistant talking to the user.  \n",
    "    Save any relevant information as a memory.\n",
    "    Here are existing memories: {info}\"\"\"\n",
    "\n",
    "    # Invoke the model with the system prompt that contains the memories as well as the user's messages\n",
    "    response = model_with_tools.invoke([SystemMessage(content=system_msg)]+state[\"messages\"])\n",
    "    return {\"messages\": response}\n",
    "\n",
    "def store_memory(state: MessagesState, config: RunnableConfig, store: BaseStore):\n",
    "\n",
    "    \"\"\"Store the tool calls in the memory store.\"\"\"\n",
    "    \n",
    "    # Get the user ID from the config\n",
    "    user_id = config[\"configurable\"][\"user_id\"]\n",
    "\n",
    "    # Define the namespace for the memories\n",
    "    namespace = (\"memories\", user_id)\n",
    "\n",
    "    # Generate a unique key for each memory\n",
    "    key = str(uuid.uuid4())\n",
    "\n",
    "    # Extract tool calls from the last message\n",
    "    tool_calls = state['messages'][-1].tool_calls\n",
    "\n",
    "    # Save each produced tool call schema to the store\n",
    "    for tc in tool_calls:\n",
    "        in_memory_store.put(namespace, key, tc[\"args\"])\n",
    "\n",
    "    # Create tool messages to confirm to the model that the tool calls were successful\n",
    "    results = [\n",
    "        ToolMessage(content=tc[\"args\"], tool_call_id=tc[\"id\"])\n",
    "        for tc in tool_calls\n",
    "    ]\n",
    "    return {\"messages\": results}\n",
    "\n",
    "def route_message(state: MessagesState):\n",
    "    \n",
    "    \"\"\"Determine the next step based on the presence of tool calls.\"\"\"\n",
    "\n",
    "    # Get the last message from the user\n",
    "    msg = state['messages'][-1]\n",
    "\n",
    "    # If there are tool calls, we need to store memories\n",
    "    if msg.tool_calls:\n",
    "        return \"store_memory\"\n",
    "    \n",
    "    # Otherwise, finish; user can send the next message\n",
    "    return END\n",
    "\n",
    "# Define the graph\n",
    "builder = StateGraph(MessagesState)\n",
    "\n",
    "# Define the flow of the memory extraction process\n",
    "builder.add_node(call_model)\n",
    "builder.add_edge(START, \"call_model\")\n",
    "builder.add_node(store_memory)\n",
    "builder.add_conditional_edges(\"call_model\", route_message, [\"store_memory\", END])\n",
    "builder.add_edge(\"store_memory\", \"call_model\")\n",
    "\n",
    "# Store from cross-thread memory\n",
    "in_memory_store = InMemoryStore()\n",
    "\n",
    "# We compile the graph with the checkpointer and store\n",
    "graph = builder.compile(checkpointer=MemorySaver(), store=in_memory_store)\n",
    "\n",
    "# View\n",
    "display(Image(graph.get_graph(xray=1).draw_mermaid_png()))"
   ]
  },
  {
   "cell_type": "code",
   "execution_count": 17,
   "metadata": {},
   "outputs": [
    {
     "name": "stdout",
     "output_type": "stream",
     "text": [
      "================================\u001b[1m Human Message \u001b[0m=================================\n",
      "\n",
      "Hi! My name is Lance\n",
      "==================================\u001b[1m Ai Message \u001b[0m==================================\n",
      "Tool Calls:\n",
      "  Memory (call_GNeh0QRN5QL1sQe9eofREqbO)\n",
      " Call ID: call_GNeh0QRN5QL1sQe9eofREqbO\n",
      "  Args:\n",
      "    content: User's name is Lance.\n",
      "    context: User introduced themselves.\n",
      "=================================\u001b[1m Tool Message \u001b[0m=================================\n",
      "\n",
      "{'content': \"User's name is Lance.\", 'context': 'User introduced themselves.'}\n",
      "==================================\u001b[1m Ai Message \u001b[0m==================================\n",
      "\n",
      "Hello, Lance! How can I assist you today?\n"
     ]
    }
   ],
   "source": [
    "# We supply a user ID for across-thread memory as well as a thread ID for within-thread memory\n",
    "config = {\"configurable\": {\"thread_id\": \"1\", \"user_id\": \"Lance\"}}\n",
    "\n",
    "# Chat with the chatbot\n",
    "input_messages = [HumanMessage(content=\"Hi! My name is Lance\")]\n",
    "\n",
    "# Run the graph\n",
    "for chunk in graph.stream({\"messages\": input_messages}, config, stream_mode=\"values\"):\n",
    "    chunk[\"messages\"][-1].pretty_print()"
   ]
  },
  {
   "cell_type": "code",
   "execution_count": 18,
   "metadata": {},
   "outputs": [
    {
     "name": "stdout",
     "output_type": "stream",
     "text": [
      "================================\u001b[1m Human Message \u001b[0m=================================\n",
      "\n",
      "I like to bike around San Francisco.\n",
      "==================================\u001b[1m Ai Message \u001b[0m==================================\n",
      "Tool Calls:\n",
      "  Memory (call_v5vkLaUPVbSwmPSmbYUaHvpy)\n",
      " Call ID: call_v5vkLaUPVbSwmPSmbYUaHvpy\n",
      "  Args:\n",
      "    content: User likes to bike around San Francisco.\n",
      "    context: User shared their interest in biking.\n",
      "=================================\u001b[1m Tool Message \u001b[0m=================================\n",
      "\n",
      "{'content': 'User likes to bike around San Francisco.', 'context': 'User shared their interest in biking.'}\n",
      "==================================\u001b[1m Ai Message \u001b[0m==================================\n",
      "\n",
      "That's great, Lance! San Francisco is a beautiful place for biking. Do you have any favorite routes or spots you like to visit?\n"
     ]
    }
   ],
   "source": [
    "# Chat with the chatbot\n",
    "input_messages = [HumanMessage(content=\"I like to bike around San Francisco.\")]\n",
    "\n",
    "# Run the graph\n",
    "for chunk in graph.stream({\"messages\": input_messages}, config, stream_mode=\"values\"):\n",
    "    chunk[\"messages\"][-1].pretty_print()"
   ]
  },
  {
   "cell_type": "code",
   "execution_count": 19,
   "metadata": {},
   "outputs": [
    {
     "name": "stdout",
     "output_type": "stream",
     "text": [
      "================================\u001b[1m Human Message \u001b[0m=================================\n",
      "\n",
      "I also like to go to bakeries.\n",
      "==================================\u001b[1m Ai Message \u001b[0m==================================\n",
      "Tool Calls:\n",
      "  Memory (call_zKUhF3DJCrkVdIyTW5xOdefX)\n",
      " Call ID: call_zKUhF3DJCrkVdIyTW5xOdefX\n",
      "  Args:\n",
      "    content: User likes to visit bakeries.\n",
      "    context: User shared another interest.\n",
      "=================================\u001b[1m Tool Message \u001b[0m=================================\n",
      "\n",
      "{'content': 'User likes to visit bakeries.', 'context': 'User shared another interest.'}\n",
      "==================================\u001b[1m Ai Message \u001b[0m==================================\n",
      "\n",
      "That sounds delicious! San Francisco has some amazing bakeries. Do you have a favorite bakery or a type of pastry you enjoy the most?\n"
     ]
    }
   ],
   "source": [
    "# Chat with the chatbot\n",
    "input_messages = [HumanMessage(content=\"I also like to go to bakeries.\")]\n",
    "\n",
    "# Run the graph\n",
    "for chunk in graph.stream({\"messages\": input_messages}, config, stream_mode=\"values\"):\n",
    "    chunk[\"messages\"][-1].pretty_print()"
   ]
  },
  {
   "cell_type": "markdown",
   "metadata": {},
   "source": [
    "We can see that we're successfully adding memories to the collection as we learn more about the user!\n",
    "\n",
    "This is saving a growing [collection](https://langchain-ai.github.io/langgraph/concepts/memory/#manage-a-collection-of-memories) of memories, because each memory has a unique key. "
   ]
  },
  {
   "cell_type": "code",
   "execution_count": 20,
   "metadata": {},
   "outputs": [
    {
     "name": "stdout",
     "output_type": "stream",
     "text": [
      "{'content': \"User's name is Lance.\", 'context': 'User introduced themselves.'}\n",
      "{'content': 'User likes to bike around San Francisco.', 'context': 'User shared their interest in biking.'}\n",
      "{'content': 'User likes to visit bakeries.', 'context': 'User shared another interest.'}\n"
     ]
    }
   ],
   "source": [
    "# Namespace for the memory to save\n",
    "user_id = \"Lance\"\n",
    "namespace = (\"memories\", user_id)\n",
    "\n",
    "# Search \n",
    "for memory in in_memory_store.search(namespace):\n",
    "    print(memory.value)"
   ]
  },
  {
   "cell_type": "markdown",
   "metadata": {},
   "source": [
    "Create a new thread, and chat with the chatbot again."
   ]
  },
  {
   "cell_type": "code",
   "execution_count": 21,
   "metadata": {},
   "outputs": [
    {
     "name": "stdout",
     "output_type": "stream",
     "text": [
      "================================\u001b[1m Human Message \u001b[0m=================================\n",
      "\n",
      "What bakeries would you recommend for me?\n",
      "==================================\u001b[1m Ai Message \u001b[0m==================================\n",
      "\n",
      "Since you like to visit bakeries and you're in San Francisco, here are a few recommendations you might enjoy:\n",
      "\n",
      "1. **Tartine Bakery** - Known for its delicious bread and pastries, Tartine is a must-visit for any bakery enthusiast.\n",
      "\n",
      "2. **B. Patisserie** - Offers a delightful selection of French pastries, including their famous kouign-amann.\n",
      "\n",
      "3. **Arizmendi Bakery** - A worker-owned cooperative bakery known for its fresh bread, pastries, and pizza.\n",
      "\n",
      "4. **Craftsman and Wolves** - A contemporary patisserie with inventive pastries and a unique twist on classic items.\n",
      "\n",
      "5. **Mr. Holmes Bakehouse** - Famous for their cruffins and a variety of other creative baked goods.\n",
      "\n",
      "These bakeries offer a range of delicious options that should satisfy your bakery cravings!\n"
     ]
    }
   ],
   "source": [
    "# We supply a user ID for across-thread memory as well as a thread ID for within-thread memory\n",
    "config = {\"configurable\": {\"thread_id\": \"2\", \"user_id\": \"Lance\"}}\n",
    "\n",
    "# Chat with the chatbot\n",
    "input_messages = [HumanMessage(content=\"What bakeries would you recommend for me?\")]\n",
    "\n",
    "# Run the graph\n",
    "for chunk in graph.stream({\"messages\": input_messages}, config, stream_mode=\"values\"):\n",
    "    chunk[\"messages\"][-1].pretty_print()"
   ]
  },
  {
   "cell_type": "markdown",
   "metadata": {},
   "source": [
    "Nice! It responds with personalization because it has access to my memories. \n",
    "\n",
    "We can confirm that it's a new thread and that none of the prior messages are saved.\n",
    "\n",
    "So, the personalization is via the memories. \n"
   ]
  },
  {
   "cell_type": "code",
   "execution_count": 22,
   "metadata": {},
   "outputs": [
    {
     "name": "stdout",
     "output_type": "stream",
     "text": [
      "================================\u001b[1m Human Message \u001b[0m=================================\n",
      "\n",
      "What bakeries would you recommend for me?\n",
      "==================================\u001b[1m Ai Message \u001b[0m==================================\n",
      "\n",
      "Since you like to visit bakeries and you're in San Francisco, here are a few recommendations you might enjoy:\n",
      "\n",
      "1. **Tartine Bakery** - Known for its delicious bread and pastries, Tartine is a must-visit for any bakery enthusiast.\n",
      "\n",
      "2. **B. Patisserie** - Offers a delightful selection of French pastries, including their famous kouign-amann.\n",
      "\n",
      "3. **Arizmendi Bakery** - A worker-owned cooperative bakery known for its fresh bread, pastries, and pizza.\n",
      "\n",
      "4. **Craftsman and Wolves** - A contemporary patisserie with inventive pastries and a unique twist on classic items.\n",
      "\n",
      "5. **Mr. Holmes Bakehouse** - Famous for their cruffins and a variety of other creative baked goods.\n",
      "\n",
      "These bakeries offer a range of delicious options that should satisfy your bakery cravings!\n"
     ]
    }
   ],
   "source": [
    "thread = {\"configurable\": {\"thread_id\": \"2\"}}\n",
    "state = graph.get_state(thread).values\n",
    "for m in state[\"messages\"]: \n",
    "    m.pretty_print()"
   ]
  },
  {
   "cell_type": "markdown",
   "metadata": {},
   "source": [
    "## LangSmith Trace\n",
    "\n",
    "We can also see the trace in LangSmith:\n",
    "\n",
    "https://smith.langchain.com/public/cdc74964-0d74-4ed0-9e81-0a4fbdf5d030/r\n",
    "\n",
    "## TODO: Add Studio "
   ]
  },
  {
   "cell_type": "markdown",
   "metadata": {},
   "source": []
  }
 ],
 "metadata": {
  "kernelspec": {
   "display_name": "Python 3 (ipykernel)",
   "language": "python",
   "name": "python3"
  },
  "language_info": {
   "codemirror_mode": {
    "name": "ipython",
    "version": 3
   },
   "file_extension": ".py",
   "mimetype": "text/x-python",
   "name": "python",
   "nbconvert_exporter": "python",
   "pygments_lexer": "ipython3",
   "version": "3.11.8"
  }
 },
 "nbformat": 4,
 "nbformat_minor": 4
}

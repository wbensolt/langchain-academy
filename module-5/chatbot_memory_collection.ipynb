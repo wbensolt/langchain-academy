{
 "cells": [
  {
   "cell_type": "markdown",
   "metadata": {},
   "source": [
    "# Chatbot with Collection Schema \n",
    "\n",
    "## Review\n",
    "\n",
    "Here, we'll show how to save semantic memories to a structured schema, a [user profile](https://langchain-ai.github.io/langgraph/concepts/memory/#profile). \n",
    "\n",
    "We introduced [Trustcall](https://github.com/hinthornw/trustcall), a library for reliably updating JSON schemas. \n",
    "\n",
    "We built a chatbot that saved memories to a single profile in response to a user provided keyword (`remember`)! \n",
    "\n",
    "## Goals\n",
    "\n",
    "As discussed in the first lesson of this module, there are trade-offs with a single profile versus a collection of memories. \n",
    "\n",
    "Here we'll also show how to [save memories to a collection](https://langchain-ai.github.io/langgraph/concepts/memory/#collection), rather than a single schema. \n",
    "\n",
    "We'll also improve our chatbot by adding a tool that allows it to *decide when to save memories*, rather than relying on the user to explicitly tell it. \n"
   ]
  },
  {
   "cell_type": "code",
   "execution_count": null,
   "metadata": {},
   "outputs": [],
   "source": [
    "%%capture --no-stderr\n",
    "%pip install -U langchain_openai langgraph trustcall"
   ]
  },
  {
   "cell_type": "code",
   "execution_count": 17,
   "metadata": {},
   "outputs": [],
   "source": [
    "import os, getpass\n",
    "\n",
    "def _set_env(var: str):\n",
    "    # Check if the variable is set in the OS environment\n",
    "    env_value = os.environ.get(var)\n",
    "    if not env_value:\n",
    "        # If not set, prompt the user for input\n",
    "        env_value = getpass.getpass(f\"{var}: \")\n",
    "    \n",
    "    # Set the environment variable for the current process\n",
    "    os.environ[var] = env_value\n",
    "\n",
    "_set_env(\"LANGCHAIN_API_KEY\")\n",
    "os.environ[\"LANGCHAIN_TRACING_V2\"] = \"true\"\n",
    "os.environ[\"LANGCHAIN_PROJECT\"] = \"langchain-academy\""
   ]
  },
  {
   "cell_type": "markdown",
   "metadata": {},
   "source": [
    "## Defining a collection schema\n",
    "\n",
    "Let's define a memory collection schema. "
   ]
  },
  {
   "cell_type": "code",
   "execution_count": null,
   "metadata": {},
   "outputs": [],
   "source": [
    "_set_env(\"OPENAI_API_KEY\")"
   ]
  },
  {
   "cell_type": "code",
   "execution_count": 19,
   "metadata": {},
   "outputs": [],
   "source": [
    "from pydantic import BaseModel, Field\n",
    "class Memory(BaseModel):\n",
    "    content: str = Field(description=\"The main content of the memory. For example: User expressed interest in learning about French.\")\n",
    "    context: str = Field(description=\"Additional context for the memory. For example: This was mentioned while discussing career options in Europe.\")"
   ]
  },
  {
   "cell_type": "code",
   "execution_count": 20,
   "metadata": {},
   "outputs": [
    {
     "name": "stdout",
     "output_type": "stream",
     "text": [
      "==================================\u001b[1m Ai Message \u001b[0m==================================\n",
      "Tool Calls:\n",
      "  Memory (call_CeQntG0bzpybAK1D4tQNeWeB)\n",
      " Call ID: call_CeQntG0bzpybAK1D4tQNeWeB\n",
      "  Args:\n",
      "    content: User's name is Lance and he likes to bike.\n",
      "    context: User introduction and personal interests.\n"
     ]
    }
   ],
   "source": [
    "from langchain_core.messages import HumanMessage\n",
    "from langchain_openai import ChatOpenAI\n",
    "\n",
    "# Initialize the model\n",
    "model = ChatOpenAI(model=\"gpt-4o\", temperature=0)\n",
    "\n",
    "# Bind Memory schema as a tool to the model\n",
    "model_with_tools = model.bind_tools([Memory])\n",
    "\n",
    "# Invoke the model with personal information, which should trigger the tool call\n",
    "output = model_with_tools.invoke([HumanMessage(\"My name is Lance, I like to bike.\")])\n",
    "output.pretty_print()"
   ]
  },
  {
   "cell_type": "markdown",
   "metadata": {},
   "source": [
    "## Chatbot with memory collection \n",
    "\n",
    "Before, we had a chatbot that saved memories to a single profile and based upon a user provided keyword (`remember`). \n",
    "\n",
    "Let's update this in two different ways: \n",
    "\n",
    "First, let's lets save memories with the above schema as a collection.\n",
    "\n",
    "* For this, we'll simply define a `uuid` for each memory. \n",
    "\n",
    "Second, let's let the chatbot decide when to save memories. \n",
    "\n",
    "* The chatbot will perform tool calling when it decides to save a memory, as shown above.\n",
    "* We'll create a `route_message` conditional edge that will look to see if the model makes a tool call.\n",
    "* If it does, we'll route to a `store_memory` node that will save the memories into the Store. \n"
   ]
  },
  {
   "cell_type": "code",
   "execution_count": 22,
   "metadata": {},
   "outputs": [
    {
     "data": {
      "image/jpeg": "[encoded data removed]",
      "text/plain": [
       "<IPython.core.display.Image object>"
      ]
     },
     "metadata": {},
     "output_type": "display_data"
    }
   ],
   "source": [
    "from IPython.display import Image, display\n",
    "\n",
    "import uuid\n",
    "\n",
    "from langchain_core.messages import HumanMessage, SystemMessage, ToolMessage\n",
    "from langchain_core.runnables.config import RunnableConfig\n",
    "from langgraph.checkpoint.memory import MemorySaver\n",
    "from langgraph.graph import StateGraph, MessagesState, START, END\n",
    "from langgraph.store.base import BaseStore\n",
    "from langgraph.store.memory import InMemoryStore\n",
    "\n",
    "def call_model(state: MessagesState, config: RunnableConfig, store: BaseStore):\n",
    "\n",
    "    \"\"\"Call the model with the system prompt that contains the memories as well as the user's messages.\"\"\"\n",
    "    \n",
    "    # Get the user ID from the config\n",
    "    user_id = config[\"configurable\"][\"user_id\"]\n",
    "\n",
    "    # Define the namespace for the memories\n",
    "    namespace = (\"memories\", user_id)\n",
    "\n",
    "    # Retrieve the most recent memories for context\n",
    "    memories = store.search(namespace)\n",
    "\n",
    "    # Format the memories for the system prompt\n",
    "    info = \"\\n\".join(f\"[{mem.key}]: {mem.value}\" for mem in memories)\n",
    "    system_msg = f\"\"\"You are a helpful assistant talking to the user.  \n",
    "    Save any relevant information as a memory.\n",
    "    Here are existing memories: {info}\"\"\"\n",
    "\n",
    "    # Invoke the model with the system prompt that contains the memories as well as the user's messages\n",
    "    response = model_with_tools.invoke([SystemMessage(content=system_msg)]+state[\"messages\"])\n",
    "    return {\"messages\": response}\n",
    "\n",
    "def store_memory(state: MessagesState, config: RunnableConfig, store: BaseStore):\n",
    "\n",
    "    \"\"\"Store the tool calls in the memory store.\"\"\"\n",
    "    \n",
    "    # Get the user ID from the config\n",
    "    user_id = config[\"configurable\"][\"user_id\"]\n",
    "\n",
    "    # Define the namespace for the memories\n",
    "    namespace = (\"memories\", user_id)\n",
    "\n",
    "    # Generate a unique key for each memory\n",
    "    key = str(uuid.uuid4())\n",
    "\n",
    "    # Extract tool calls from the last message\n",
    "    tool_calls = state['messages'][-1].tool_calls\n",
    "\n",
    "    # Save each produced tool call schema to the store\n",
    "    for tc in tool_calls:\n",
    "        in_memory_store.put(namespace, key, tc[\"args\"])\n",
    "\n",
    "    # Create tool messages to confirm to the model that the tool calls were successful\n",
    "    results = [\n",
    "        ToolMessage(content=tc[\"args\"], tool_call_id=tc[\"id\"])\n",
    "        for tc in tool_calls\n",
    "    ]\n",
    "    return {\"messages\": results}\n",
    "\n",
    "def route_message(state: MessagesState):\n",
    "    \n",
    "    \"\"\"Determine the next step based on the presence of tool calls.\"\"\"\n",
    "\n",
    "    # Get the last message from the user\n",
    "    msg = state['messages'][-1]\n",
    "\n",
    "    # If there are tool calls, we need to store memories\n",
    "    if msg.tool_calls:\n",
    "        return \"store_memory\"\n",
    "    \n",
    "    # Otherwise, finish; user can send the next message\n",
    "    return END\n",
    "\n",
    "# Define the graph\n",
    "builder = StateGraph(MessagesState)\n",
    "\n",
    "# Define the flow of the memory extraction process\n",
    "builder.add_node(call_model)\n",
    "builder.add_edge(START, \"call_model\")\n",
    "builder.add_node(store_memory)\n",
    "builder.add_conditional_edges(\"call_model\", route_message, [\"store_memory\", END])\n",
    "builder.add_edge(\"store_memory\", \"call_model\")\n",
    "\n",
    "# Store from cross-thread memory\n",
    "in_memory_store = InMemoryStore()\n",
    "\n",
    "# We compile the graph with the checkpointer and store\n",
    "graph = builder.compile(checkpointer=MemorySaver(), store=in_memory_store)\n",
    "\n",
    "# View\n",
    "display(Image(graph.get_graph(xray=1).draw_mermaid_png()))"
   ]
  },
  {
   "cell_type": "code",
   "execution_count": 23,
   "metadata": {},
   "outputs": [
    {
     "name": "stdout",
     "output_type": "stream",
     "text": [
      "================================\u001b[1m Human Message \u001b[0m=================================\n",
      "\n",
      "Hi! My name is Lance\n",
      "==================================\u001b[1m Ai Message \u001b[0m==================================\n",
      "Tool Calls:\n",
      "  Memory (call_zGjBC3gvavQ9UBepnEDFIAlM)\n",
      " Call ID: call_zGjBC3gvavQ9UBepnEDFIAlM\n",
      "  Args:\n",
      "    content: User's name is Lance.\n",
      "    context: User introduced themselves.\n",
      "=================================\u001b[1m Tool Message \u001b[0m=================================\n",
      "\n",
      "{'content': \"User's name is Lance.\", 'context': 'User introduced themselves.'}\n",
      "==================================\u001b[1m Ai Message \u001b[0m==================================\n",
      "\n",
      "Hi Lance! How can I assist you today?\n"
     ]
    }
   ],
   "source": [
    "# We supply a user ID for across-thread memory as well as a thread ID for within-thread memory\n",
    "config = {\"configurable\": {\"thread_id\": \"1\", \"user_id\": \"Lance\"}}\n",
    "\n",
    "# Chat with the chatbot\n",
    "input_messages = [HumanMessage(content=\"Hi! My name is Lance\")]\n",
    "\n",
    "# Run the graph\n",
    "for chunk in graph.stream({\"messages\": input_messages}, config, stream_mode=\"values\"):\n",
    "    chunk[\"messages\"][-1].pretty_print()"
   ]
  },
  {
   "cell_type": "code",
   "execution_count": 24,
   "metadata": {},
   "outputs": [
    {
     "name": "stdout",
     "output_type": "stream",
     "text": [
      "================================\u001b[1m Human Message \u001b[0m=================================\n",
      "\n",
      "Great! Today I biked in the morning in San Francisco.\n",
      "==================================\u001b[1m Ai Message \u001b[0m==================================\n",
      "Tool Calls:\n",
      "  Memory (call_yMHKckpTbEEMMnMvNTSvrAzx)\n",
      " Call ID: call_yMHKckpTbEEMMnMvNTSvrAzx\n",
      "  Args:\n",
      "    content: User biked in the morning in San Francisco.\n",
      "    context: User shared their morning activity.\n",
      "=================================\u001b[1m Tool Message \u001b[0m=================================\n",
      "\n",
      "{'content': 'User biked in the morning in San Francisco.', 'context': 'User shared their morning activity.'}\n",
      "==================================\u001b[1m Ai Message \u001b[0m==================================\n",
      "\n",
      "That sounds like a refreshing way to start the day! How was your ride?\n"
     ]
    }
   ],
   "source": [
    "# Chat with the chatbot\n",
    "input_messages = [HumanMessage(content=\"Great! Today I biked in the morning in San Francisco.\")]\n",
    "\n",
    "# Run the graph\n",
    "for chunk in graph.stream({\"messages\": input_messages}, config, stream_mode=\"values\"):\n",
    "    chunk[\"messages\"][-1].pretty_print()"
   ]
  },
  {
   "cell_type": "code",
   "execution_count": 25,
   "metadata": {},
   "outputs": [
    {
     "name": "stdout",
     "output_type": "stream",
     "text": [
      "================================\u001b[1m Human Message \u001b[0m=================================\n",
      "\n",
      "Yes, I went to the Marin headlands today.\n",
      "==================================\u001b[1m Ai Message \u001b[0m==================================\n",
      "Tool Calls:\n",
      "  Memory (call_tZbux2LoTeM8i1o1ot3fZ5FU)\n",
      " Call ID: call_tZbux2LoTeM8i1o1ot3fZ5FU\n",
      "  Args:\n",
      "    content: User biked to the Marin Headlands.\n",
      "    context: User shared details about their biking route.\n",
      "=================================\u001b[1m Tool Message \u001b[0m=================================\n",
      "\n",
      "{'content': 'User biked to the Marin Headlands.', 'context': 'User shared details about their biking route.'}\n",
      "==================================\u001b[1m Ai Message \u001b[0m==================================\n",
      "\n",
      "The Marin Headlands is such a beautiful area to bike through! How was the experience?\n"
     ]
    }
   ],
   "source": [
    "# Chat with the chatbot\n",
    "input_messages = [HumanMessage(content=\"Yes, I went to the Marin headlands today.\")]\n",
    "\n",
    "# Run the graph\n",
    "for chunk in graph.stream({\"messages\": input_messages}, config, stream_mode=\"values\"):\n",
    "    chunk[\"messages\"][-1].pretty_print()"
   ]
  },
  {
   "cell_type": "code",
   "execution_count": 26,
   "metadata": {},
   "outputs": [
    {
     "name": "stdout",
     "output_type": "stream",
     "text": [
      "================================\u001b[1m Human Message \u001b[0m=================================\n",
      "\n",
      "I like Miwok trail. Also, I like bakeries after biking.\n",
      "==================================\u001b[1m Ai Message \u001b[0m==================================\n",
      "Tool Calls:\n",
      "  Memory (call_lxmjVw5W4aNeHhOyv1MWW19G)\n",
      " Call ID: call_lxmjVw5W4aNeHhOyv1MWW19G\n",
      "  Args:\n",
      "    content: User likes the Miwok trail.\n",
      "    context: User shared their preference for biking trails.\n",
      "  Memory (call_8HotQtlTxfqiNw8bGH1mDBrv)\n",
      " Call ID: call_8HotQtlTxfqiNw8bGH1mDBrv\n",
      "  Args:\n",
      "    content: User likes visiting bakeries after biking.\n",
      "    context: User shared their post-biking activity preference.\n",
      "=================================\u001b[1m Tool Message \u001b[0m=================================\n",
      "\n",
      "{'content': 'User likes visiting bakeries after biking.', 'context': 'User shared their post-biking activity preference.'}\n",
      "==================================\u001b[1m Ai Message \u001b[0m==================================\n",
      "\n",
      "The Miwok Trail is a great choice for biking! And treating yourself to a visit to a bakery afterward sounds like a perfect way to end the ride. Do you have a favorite bakery you like to visit?\n"
     ]
    }
   ],
   "source": [
    "# Chat with the chatbot\n",
    "input_messages = [HumanMessage(content=\"I like Miwok trail. Also, I like bakeries after biking.\")]\n",
    "\n",
    "# Run the graph\n",
    "for chunk in graph.stream({\"messages\": input_messages}, config, stream_mode=\"values\"):\n",
    "    chunk[\"messages\"][-1].pretty_print()"
   ]
  },
  {
   "cell_type": "code",
   "execution_count": 27,
   "metadata": {},
   "outputs": [
    {
     "name": "stdout",
     "output_type": "stream",
     "text": [
      "{'content': \"User's name is Lance.\", 'context': 'User introduced themselves.'}\n",
      "{'content': 'User biked in the morning in San Francisco.', 'context': 'User shared their morning activity.'}\n",
      "{'content': 'User biked to the Marin Headlands.', 'context': 'User shared details about their biking route.'}\n",
      "{'content': 'User likes visiting bakeries after biking.', 'context': 'User shared their post-biking activity preference.'}\n"
     ]
    }
   ],
   "source": [
    "# Namespace for the memory to save\n",
    "user_id = \"Lance\"\n",
    "\n",
    "# Search \n",
    "for memory in in_memory_store.search((\"memories\", user_id)):\n",
    "    print(memory.value)"
   ]
  },
  {
   "cell_type": "markdown",
   "metadata": {},
   "source": [
    "Now we can create a new thread and chat with the chatbot again.\n",
    "\n",
    "It should retain the memories from the previous thread!"
   ]
  },
  {
   "cell_type": "code",
   "execution_count": 28,
   "metadata": {},
   "outputs": [
    {
     "name": "stdout",
     "output_type": "stream",
     "text": [
      "================================\u001b[1m Human Message \u001b[0m=================================\n",
      "\n",
      "What bakeries would you recommend for me?\n",
      "==================================\u001b[1m Ai Message \u001b[0m==================================\n",
      "\n",
      "Since you enjoy visiting bakeries after biking, especially in the San Francisco area, here are a few recommendations:\n",
      "\n",
      "1. **Tartine Bakery** - Known for its delicious bread and pastries, it's a must-visit in San Francisco.\n",
      "2. **B. Patisserie** - Offers a variety of French pastries, including their famous kouign-amann.\n",
      "3. **Arizmendi Bakery** - A worker-owned cooperative bakery with a great selection of breads and pastries.\n",
      "4. **Craftsman and Wolves** - Known for their inventive pastries and the \"Rebel Within\" muffin.\n",
      "5. **Mr. Holmes Bakehouse** - Famous for their cruffins and other creative pastries.\n",
      "\n",
      "These bakeries are popular and offer a range of delicious treats that you might enjoy after your biking adventures.\n"
     ]
    }
   ],
   "source": [
    "# We supply a user ID for across-thread memory as well as a thread ID for within-thread memory\n",
    "config = {\"configurable\": {\"thread_id\": \"2\", \"user_id\": \"Lance\"}}\n",
    "\n",
    "# Chat with the chatbot\n",
    "input_messages = [HumanMessage(content=\"What bakeries would you recommend for me?\")]\n",
    "\n",
    "# Run the graph\n",
    "for chunk in graph.stream({\"messages\": input_messages}, config, stream_mode=\"values\"):\n",
    "    chunk[\"messages\"][-1].pretty_print()"
   ]
  },
  {
   "cell_type": "markdown",
   "metadata": {},
   "source": [
    "### LangSmith \n",
    "\n",
    "https://smith.langchain.com/public/1d1c129e-7e9f-4362-a96f-56b5955d8ab8/r\n",
    "\n",
    "## Updating collection schema\n",
    "\n",
    "Clearly, we can write to a collection of memories by giving each memory a unique key. \n",
    "\n",
    "In the last lesson, we discussed the challenge of updating a profile schema and introduced [Trustcall](https://github.com/hinthornw/trustcall) for this purpose. \n",
    "\n",
    "Now we'll show that [Trustcall](https://github.com/hinthornw/trustcall) can be also used to update a collection. \n",
    "\n",
    "This enables both addition of new memories as well as [updating existing memories in the collection](https://github.com/hinthornw/trustcall?tab=readme-ov-file#simultanous-updates--insertions\n",
    ")."
   ]
  },
  {
   "cell_type": "code",
   "execution_count": 29,
   "metadata": {},
   "outputs": [
    {
     "data": {
      "text/plain": [
       "{'content': 'User likes biking around San Francisco.',\n",
       " 'context': 'User introduced themselves as Lance.'}"
      ]
     },
     "execution_count": 29,
     "metadata": {},
     "output_type": "execute_result"
    }
   ],
   "source": [
    "from trustcall import create_extractor\n",
    "\n",
    "conversation = \"\"\"User: Hi, I'm Lance.\n",
    "Assistant: Nice to meet you, Lance.\n",
    "User: I really like biking around San Francisco.\"\"\"\n",
    "\n",
    "trustcall_extractor = create_extractor(\n",
    "    model,\n",
    "    tools=[Memory],\n",
    "    tool_choice=\"Memory\",\n",
    "    # This allows the extractor to insert new memories\n",
    "    enable_inserts=True,\n",
    ")\n",
    "\n",
    "# Instruction\n",
    "instruction = f\"\"\"Extract memories from the following conversation:\n",
    "<convo>\n",
    "{conversation}\n",
    "</convo>\"\"\"\n",
    "\n",
    "# Invoke the extractor\n",
    "result = trustcall_extractor.invoke({\"messages\": [HumanMessage(content=instruction)]})\n",
    "memories = result[\"responses\"]\n",
    "memories\n",
    "\n",
    "memories[0].model_dump(mode=\"json\")"
   ]
  },
  {
   "cell_type": "markdown",
   "metadata": {},
   "source": [
    "We simply pass any existing messages [here](https://github.com/langchain-ai/memory-template/blob/main/src/memory_graph/graph.py)."
   ]
  },
  {
   "cell_type": "code",
   "execution_count": 30,
   "metadata": {},
   "outputs": [
    {
     "data": {
      "text/plain": [
       "[Memory(content='User likes biking around San Francisco and visiting a bakery afterwards.', context='User introduced themselves as Lance.'),\n",
       " Memory(content='User likes to go to a bakery after biking.', context='This was mentioned during a conversation about biking in San Francisco.')]"
      ]
     },
     "execution_count": 30,
     "metadata": {},
     "output_type": "execute_result"
    }
   ],
   "source": [
    "# Update the conversation\n",
    "updated_conversation = \"\"\"User: Hi, I'm Lance.\n",
    "Assistant: Nice to meet you, Lance.\n",
    "User: I really like biking around San Francisco.\n",
    "Assistant: San Francisco is a great city! Where do you go after biking?\n",
    "User: I really like to go to a bakery.\"\"\"\n",
    "\n",
    "# Update the instruction\n",
    "updated_instruction = f\"\"\"Reflect on following interaction. Use the provided tools to retain any necessary memories about the user. \n",
    "Use parallel tool calling to handle updates & insertions simultaneously:\n",
    "<convo>\n",
    "{updated_conversation}\n",
    "</convo>\"\"\"\n",
    "\n",
    "existing_memories = [(str(i), \"Memory\", memory.model_dump()) for i, memory in enumerate(memories)] if memories else None\n",
    "\n",
    "# Invoke the extractor with the updated instruction and existing profile with the corresponding tool name (UserProfile)\n",
    "result = trustcall_extractor.invoke({\"messages\": [HumanMessage(content=updated_instruction)], \n",
    "                                     \"existing\": existing_memories})\n",
    "\n",
    "updated_memories = result[\"responses\"]\n",
    "updated_memories"
   ]
  },
  {
   "cell_type": "markdown",
   "metadata": {},
   "source": [
    "We can see something very here. \n",
    "\n",
    "The metadata contains the `json_doc_id` for any *existing* memory that was updated. "
   ]
  },
  {
   "cell_type": "code",
   "execution_count": 31,
   "metadata": {},
   "outputs": [
    {
     "data": {
      "text/plain": [
       "[{'id': 'call_8hLsZCKYIuQuaSsYri8vyyMT', 'json_doc_id': '0'},\n",
       " {'id': 'call_PSF1ZnAl2sNI6SeNZGv9ZQAm'}]"
      ]
     },
     "execution_count": 31,
     "metadata": {},
     "output_type": "execute_result"
    }
   ],
   "source": [
    "metadata = result[\"response_metadata\"]\n",
    "metadata"
   ]
  },
  {
   "cell_type": "markdown",
   "metadata": {},
   "source": [
    "### LangSmith \n",
    "\n",
    "https://smith.langchain.com/public/ffd71309-71d9-4d82-babb-ebc273e726e4/r"
   ]
  },
  {
   "cell_type": "code",
   "execution_count": null,
   "metadata": {},
   "outputs": [],
   "source": []
  }
 ],
 "metadata": {
  "kernelspec": {
   "display_name": "Python 3 (ipykernel)",
   "language": "python",
   "name": "python3"
  },
  "language_info": {
   "codemirror_mode": {
    "name": "ipython",
    "version": 3
   },
   "file_extension": ".py",
   "mimetype": "text/x-python",
   "name": "python",
   "nbconvert_exporter": "python",
   "pygments_lexer": "ipython3",
   "version": "3.11.8"
  }
 },
 "nbformat": 4,
 "nbformat_minor": 4
}

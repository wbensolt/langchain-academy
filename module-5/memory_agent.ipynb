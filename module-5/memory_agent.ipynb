{
 "cells": [
  {
   "cell_type": "markdown",
   "metadata": {},
   "source": [
    "# Memory Agent\n",
    "\n",
    "## Review\n",
    "\n",
    "We've shown how to [save memories to a collection](https://langchain-ai.github.io/langgraph/concepts/memory/#collection), rather than a single schema. \n",
    "\n",
    "We also improved our chatbot by adding a tool that allows it to *decide when to save memories*, making it agent.\n",
    "\n",
    "## Goals\n",
    "\n",
    "Now, let's put it all together into an agent. \n",
    "\n",
    "The agent can save memories to a collection, and update them. \n"
   ]
  },
  {
   "cell_type": "code",
   "execution_count": null,
   "metadata": {},
   "outputs": [],
   "source": [
    "%%capture --no-stderr\n",
    "%pip install -U langchain_openai langgraph"
   ]
  },
  {
   "cell_type": "markdown",
   "metadata": {},
   "source": [
    "First, we'll define the state of our agent. "
   ]
  },
  {
   "cell_type": "code",
   "execution_count": 18,
   "metadata": {},
   "outputs": [],
   "source": [
    "from dataclasses import dataclass\n",
    "from langchain_core.messages import AnyMessage\n",
    "from langgraph.graph import add_messages\n",
    "from typing_extensions import Annotated\n",
    "\n",
    "@dataclass(kw_only=True)\n",
    "class State:\n",
    "    \"\"\"Main graph state.\"\"\"\n",
    "\n",
    "    messages: Annotated[list[AnyMessage], add_messages]\n",
    "    \"\"\"The messages in the conversation.\"\"\""
   ]
  },
  {
   "cell_type": "markdown",
   "metadata": {},
   "source": [
    "## Tool definition \n",
    "\n",
    "Next, we'll define the tool that will format and upsert memories to the store. \n",
    "\n",
    "We use [InjectedToolArg](https://langchain-ai.github.io/langgraph/reference/prebuilt/#langgraph.prebuilt.tool_node.InjectedState), which instructs the model to ignore the argument when generating a tool call. "
   ]
  },
  {
   "cell_type": "code",
   "execution_count": 2,
   "metadata": {},
   "outputs": [],
   "source": [
    "import uuid\n",
    "from typing import Annotated, Optional\n",
    "\n",
    "from langchain_core.runnables import RunnableConfig\n",
    "from langchain_core.tools import InjectedToolArg\n",
    "from langgraph.store.base import BaseStore\n",
    "\n",
    "def upsert_memory(\n",
    "    content: str,\n",
    "    context: str,\n",
    "    *,\n",
    "    memory_id: Optional[uuid.UUID] = None,\n",
    "    # Hide these arguments from the model.\n",
    "    config: Annotated[RunnableConfig, InjectedToolArg],\n",
    "    store: Annotated[BaseStore, InjectedToolArg]):\n",
    "    \"\"\"Upsert a memory in the database.\n",
    "\n",
    "    If a memory conflicts with an existing one, then just UPDATE the\n",
    "    existing one by passing in memory_id - don't create two memories\n",
    "    that are the same. If the user corrects a memory, UPDATE it.\n",
    "\n",
    "    Args:\n",
    "        content: The main content of the memory. For example:\n",
    "            \"User expressed interest in learning about French.\"\n",
    "        context: Additional context for the memory. For example:\n",
    "            \"This was mentioned while discussing career options in Europe.\"\n",
    "        memory_id: ONLY PROVIDE IF UPDATING AN EXISTING MEMORY.\n",
    "        The memory to overwrite.\n",
    "    \"\"\"\n",
    "    mem_id = memory_id or uuid.uuid4()\n",
    "    # Get the user ID from the config\n",
    "    user_id = config[\"configurable\"][\"user_id\"]\n",
    "    store.put(\n",
    "        (\"memories\", user_id),\n",
    "        key=str(mem_id),\n",
    "        value={\"content\": content, \"context\": context},\n",
    "    )\n",
    "    return f\"Stored memory {memory_id}\""
   ]
  },
  {
   "cell_type": "markdown",
   "metadata": {},
   "source": [
    "## Graph definition \n",
    "\n",
    "Next, we'll define our graph using a control flow similar to what we used before. \n",
    "\n"
   ]
  },
  {
   "cell_type": "code",
   "execution_count": 11,
   "metadata": {},
   "outputs": [
    {
     "data": {
      "image/jpeg": "[encoded data removed]",
      "text/plain": [
       "<IPython.core.display.Image object>"
      ]
     },
     "metadata": {},
     "output_type": "display_data"
    }
   ],
   "source": [
    "from IPython.display import Image, display\n",
    "\n",
    "import asyncio\n",
    "from datetime import datetime\n",
    " \n",
    "from langchain_core.runnables import RunnableConfig\n",
    "from langchain_core.messages import HumanMessage, SystemMessage, ToolMessage\n",
    "from langgraph.graph import END, StateGraph\n",
    "from langgraph.store.base import BaseStore\n",
    "\n",
    "from langgraph.store.memory import InMemoryStore\n",
    "from langgraph.checkpoint.memory import MemorySaver\n",
    "\n",
    "from langchain_openai import ChatOpenAI\n",
    "\n",
    "# Initialize the model\n",
    "model = ChatOpenAI(model=\"gpt-4o\", temperature=0)\n",
    "\n",
    "def call_model(state: State, config: RunnableConfig, *, store: BaseStore) -> dict:\n",
    "\n",
    "    \"\"\"Extract the user's state from the conversation and update the memory.\"\"\"\n",
    "    user_id = config[\"configurable\"][\"user_id\"]\n",
    "\n",
    "    # Retrieve the most recent memories for context\n",
    "    memories = store.search(\n",
    "        (\"memories\", user_id), limit=10\n",
    "    )\n",
    "\n",
    "    # Format memories for inclusion in the prompt\n",
    "    formatted = \"\\n\".join(f\"[{mem.key}]: {mem.value}\" for mem in memories)\n",
    "    if formatted:\n",
    "        formatted = f\"\"\"\n",
    "    <memories>\n",
    "    {formatted}\n",
    "    </memories>\"\"\"\n",
    "    \n",
    "    # Prepare the system prompt with user memories and current time\n",
    "    # This helps the model understand the context and temporal relevance\n",
    "    # TODO: Discuss with Will. Tool calling not occurring, as expected.\n",
    "    instructions = \"\"\"You are a helpful and friendly chatbot. Get to know the user! \n",
    "    \n",
    "    Ask questions! Be spontaneous! \n",
    "\n",
    "    Save the user's memories as the conversation progresses.\n",
    "\n",
    "    Here is any user information that you've already learned:\n",
    "\n",
    "    {user_info}\n",
    "\n",
    "    System Time: {time}\"\"\"\n",
    "\n",
    "    # Format the instructions with the user memories and current time\n",
    "    system_prompt = instructions.format(user_info=formatted, time=datetime.now().isoformat())\n",
    "\n",
    "    # Invoke the language model with the prepared prompt and tools\n",
    "    # \"bind_tools\" gives the LLM the JSON schema for all tools in the list so it knows how\n",
    "    # to use them.\n",
    "    msg = model.bind_tools([upsert_memory]).invoke(\n",
    "        [SystemMessage(content=system_prompt)] + state.messages,\n",
    "    )\n",
    "    return {\"messages\": [msg]}\n",
    "\n",
    "def store_memory(state: State, config: RunnableConfig, *, store: BaseStore):\n",
    "\n",
    "    # Extract tool calls from the last message\n",
    "    tool_calls = state.messages[-1].tool_calls\n",
    "\n",
    "    # Execute all upsert_memory calls\n",
    "    saved_memories = [\n",
    "        \n",
    "            upsert_memory(**tc[\"args\"], config=config, store=store)\n",
    "            for tc in tool_calls\n",
    "        \n",
    "    ]\n",
    "\n",
    "    # Format the results of memory storage operations\n",
    "    # This provides confirmation to the model that the actions it took were completed\n",
    "    results = [\n",
    "        ToolMessage(content=mem, tool_call_id=tc[\"id\"])\n",
    "        for tc, mem in zip(tool_calls, saved_memories)\n",
    "    ]\n",
    "    return {\"messages\": results}\n",
    "\n",
    "def route_message(state: State):\n",
    "    \"\"\"Determine the next step based on the presence of tool calls.\"\"\"\n",
    "    msg = state.messages[-1]\n",
    "    if msg.tool_calls:\n",
    "        # If there are tool calls, we need to store memories\n",
    "        return \"store_memory\"\n",
    "    # Otherwise, finish; user can send the next message\n",
    "    return END\n",
    "\n",
    "# Create the graph + all nodes\n",
    "builder = StateGraph(State)\n",
    "\n",
    "# Define the flow of the memory extraction process\n",
    "builder.add_node(call_model)\n",
    "builder.add_edge(\"__start__\", \"call_model\")\n",
    "builder.add_node(store_memory)\n",
    "builder.add_conditional_edges(\"call_model\", route_message, [\"store_memory\", END])\n",
    "# Right now, we're returning control to the user after storing a memory\n",
    "# Depending on the model, you may want to route back to the model\n",
    "# to let it first store memories, then generate a response\n",
    "builder.add_edge(\"store_memory\", \"call_model\")\n",
    "\n",
    "# Store from cross-thread memory\n",
    "in_memory_store = InMemoryStore()\n",
    "\n",
    "# We compile the graph with the checkpointer and store\n",
    "graph = builder.compile(checkpointer=MemorySaver(), store=in_memory_store)\n",
    "\n",
    "# View\n",
    "display(Image(graph.get_graph(xray=1).draw_mermaid_png()))\n"
   ]
  },
  {
   "cell_type": "code",
   "execution_count": 12,
   "metadata": {},
   "outputs": [
    {
     "name": "stdout",
     "output_type": "stream",
     "text": [
      "================================\u001b[1m Human Message \u001b[0m=================================\n",
      "\n",
      "Hi! My name is Lance\n",
      "==================================\u001b[1m Ai Message \u001b[0m==================================\n",
      "\n",
      "Hi Lance! It's great to meet you. How's your day going so far?\n"
     ]
    }
   ],
   "source": [
    "# We supply a user ID for across-thread memory as well as a thread ID for within-thread memory\n",
    "config = {\"configurable\": {\"thread_id\": \"2\", \"user_id\": \"Lance\"}}\n",
    "\n",
    "# Chat with the chatbot\n",
    "input_messages = [HumanMessage(content=\"Hi! My name is Lance\")]\n",
    "\n",
    "# Run the graph\n",
    "for chunk in graph.stream({\"messages\": input_messages}, config, stream_mode=\"values\"):\n",
    "    chunk[\"messages\"][-1].pretty_print()"
   ]
  },
  {
   "cell_type": "code",
   "execution_count": 13,
   "metadata": {},
   "outputs": [
    {
     "name": "stdout",
     "output_type": "stream",
     "text": [
      "================================\u001b[1m Human Message \u001b[0m=================================\n",
      "\n",
      "Great! Today I biked in the morning in San Francisco.\n",
      "==================================\u001b[1m Ai Message \u001b[0m==================================\n",
      "Tool Calls:\n",
      "  upsert_memory (call_gQbC2Yxv9MeJARKGqg295sTF)\n",
      " Call ID: call_gQbC2Yxv9MeJARKGqg295sTF\n",
      "  Args:\n",
      "    content: Lance biked in the morning in San Francisco.\n",
      "    context: Lance shared this while discussing his day.\n",
      "=================================\u001b[1m Tool Message \u001b[0m=================================\n",
      "\n",
      "Stored memory None\n",
      "==================================\u001b[1m Ai Message \u001b[0m==================================\n",
      "\n",
      "That sounds like a fantastic way to start the day! San Francisco must be beautiful in the morning. Do you often go biking there?\n"
     ]
    }
   ],
   "source": [
    "# Chat with the chatbot\n",
    "input_messages = [HumanMessage(content=\"Great! Today I biked in the morning in San Francisco.\")]\n",
    "\n",
    "# Run the graph\n",
    "for chunk in graph.stream({\"messages\": input_messages}, config, stream_mode=\"values\"):\n",
    "    chunk[\"messages\"][-1].pretty_print()"
   ]
  },
  {
   "cell_type": "code",
   "execution_count": 14,
   "metadata": {},
   "outputs": [
    {
     "name": "stdout",
     "output_type": "stream",
     "text": [
      "================================\u001b[1m Human Message \u001b[0m=================================\n",
      "\n",
      "Yes, I went to the Marin headlands today.\n",
      "==================================\u001b[1m Ai Message \u001b[0m==================================\n",
      "Tool Calls:\n",
      "  upsert_memory (call_8RIurS4OIr9KG3acf41dawyt)\n",
      " Call ID: call_8RIurS4OIr9KG3acf41dawyt\n",
      "  Args:\n",
      "    content: Lance biked to the Marin Headlands in San Francisco.\n",
      "    context: Lance mentioned this while discussing his morning biking routine.\n",
      "=================================\u001b[1m Tool Message \u001b[0m=================================\n",
      "\n",
      "Stored memory None\n",
      "==================================\u001b[1m Ai Message \u001b[0m==================================\n",
      "\n",
      "The Marin Headlands are such a stunning place to bike! The views must have been amazing. Do you have a favorite spot or trail there?\n"
     ]
    }
   ],
   "source": [
    "# Chat with the chatbot\n",
    "input_messages = [HumanMessage(content=\"Yes, I went to the Marin headlands today.\")]\n",
    "\n",
    "# Run the graph\n",
    "for chunk in graph.stream({\"messages\": input_messages}, config, stream_mode=\"values\"):\n",
    "    chunk[\"messages\"][-1].pretty_print()"
   ]
  },
  {
   "cell_type": "code",
   "execution_count": 15,
   "metadata": {},
   "outputs": [
    {
     "name": "stdout",
     "output_type": "stream",
     "text": [
      "================================\u001b[1m Human Message \u001b[0m=================================\n",
      "\n",
      "I like Miwok trail. Also, I like bakeries after biking.\n",
      "==================================\u001b[1m Ai Message \u001b[0m==================================\n",
      "Tool Calls:\n",
      "  upsert_memory (call_nn0ye6VknOUMygPcad53xqWg)\n",
      " Call ID: call_nn0ye6VknOUMygPcad53xqWg\n",
      "  Args:\n",
      "    content: Lance likes the Miwok trail in the Marin Headlands.\n",
      "    context: Lance shared this while discussing his favorite biking spots.\n",
      "  upsert_memory (call_mA8mhnwjzl27MvUHVLtlxKVx)\n",
      " Call ID: call_mA8mhnwjzl27MvUHVLtlxKVx\n",
      "  Args:\n",
      "    content: Lance enjoys visiting bakeries after biking.\n",
      "    context: Lance mentioned this while discussing his post-biking routine.\n",
      "=================================\u001b[1m Tool Message \u001b[0m=================================\n",
      "\n",
      "Stored memory None\n",
      "==================================\u001b[1m Ai Message \u001b[0m==================================\n",
      "\n",
      "The Miwok Trail is a great choice! And treating yourself to a visit to a bakery afterward sounds like the perfect reward. Do you have a favorite bakery you like to visit?\n"
     ]
    }
   ],
   "source": [
    "# Chat with the chatbot\n",
    "input_messages = [HumanMessage(content=\"I like Miwok trail. Also, I like bakeries after biking.\")]\n",
    "\n",
    "# Run the graph\n",
    "for chunk in graph.stream({\"messages\": input_messages}, config, stream_mode=\"values\"):\n",
    "    chunk[\"messages\"][-1].pretty_print()"
   ]
  },
  {
   "cell_type": "code",
   "execution_count": 16,
   "metadata": {},
   "outputs": [
    {
     "name": "stdout",
     "output_type": "stream",
     "text": [
      "{'content': 'Lance biked in the morning in San Francisco.', 'context': 'Lance shared this while discussing his day.'}\n",
      "{'content': 'Lance biked to the Marin Headlands in San Francisco.', 'context': 'Lance mentioned this while discussing his morning biking routine.'}\n",
      "{'content': 'Lance likes the Miwok trail in the Marin Headlands.', 'context': 'Lance shared this while discussing his favorite biking spots.'}\n",
      "{'content': 'Lance enjoys visiting bakeries after biking.', 'context': 'Lance mentioned this while discussing his post-biking routine.'}\n"
     ]
    }
   ],
   "source": [
    "# Namespace for the memory to save\n",
    "user_id = \"Lance\"\n",
    "\n",
    "# Search \n",
    "for memory in in_memory_store.search((\"memories\", user_id)):\n",
    "    print(memory.value)"
   ]
  },
  {
   "cell_type": "markdown",
   "metadata": {},
   "source": [
    "Now we can create a new thread and chat with the chatbot again.\n",
    "\n",
    "It should retain the memories from the previous thread!"
   ]
  },
  {
   "cell_type": "code",
   "execution_count": 17,
   "metadata": {},
   "outputs": [
    {
     "name": "stdout",
     "output_type": "stream",
     "text": [
      "================================\u001b[1m Human Message \u001b[0m=================================\n",
      "\n",
      "What bakeries would you recommend for me?\n",
      "==================================\u001b[1m Ai Message \u001b[0m==================================\n",
      "\n",
      "Since you enjoy visiting bakeries after biking, especially around the Marin Headlands, here are a few recommendations in the San Francisco area:\n",
      "\n",
      "1. **Tartine Bakery** - Known for its delicious pastries and bread, it's a must-visit for any bakery lover.\n",
      "2. **B. Patisserie** - Offers a delightful selection of French pastries, including their famous kouign-amann.\n",
      "3. **Arsicault Bakery** - Renowned for its croissants, this place is perfect for a post-ride treat.\n",
      "4. **Craftsman and Wolves** - Known for its inventive pastries and the \"Rebel Within,\" a savory muffin with a soft-cooked egg inside.\n",
      "5. **Noe Valley Bakery** - A neighborhood favorite with a wide variety of baked goods.\n",
      "\n",
      "Do any of these sound like a place you'd like to try, or do you have a favorite bakery already?\n"
     ]
    }
   ],
   "source": [
    "# We supply a user ID for across-thread memory as well as a thread ID for within-thread memory\n",
    "config = {\"configurable\": {\"thread_id\": \"2\", \"user_id\": \"Lance\"}}\n",
    "\n",
    "# Chat with the chatbot\n",
    "input_messages = [HumanMessage(content=\"What bakeries would you recommend for me?\")]\n",
    "\n",
    "# Run the graph\n",
    "for chunk in graph.stream({\"messages\": input_messages}, config, stream_mode=\"values\"):\n",
    "    chunk[\"messages\"][-1].pretty_print()"
   ]
  },
  {
   "cell_type": "markdown",
   "metadata": {},
   "source": [
    "## LangSmith Trace\n",
    "\n",
    "https://smith.langchain.com/public/1d1c129e-7e9f-4362-a96f-56b5955d8ab8/r\n",
    "\n",
    "## Template \n",
    "\n",
    "https://github.com/langchain-ai/memory-agent"
   ]
  }
 ],
 "metadata": {
  "kernelspec": {
   "display_name": "lc-academy-env",
   "language": "python",
   "name": "python3"
  },
  "language_info": {
   "codemirror_mode": {
    "name": "ipython",
    "version": 3
   },
   "file_extension": ".py",
   "mimetype": "text/x-python",
   "name": "python",
   "nbconvert_exporter": "python",
   "pygments_lexer": "ipython3",
   "version": "3.11.8"
  }
 },
 "nbformat": 4,
 "nbformat_minor": 2
}

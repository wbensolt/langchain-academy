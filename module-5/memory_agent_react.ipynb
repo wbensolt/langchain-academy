{
 "cells": [
  {
   "cell_type": "markdown",
   "metadata": {},
   "source": [
    "### Tool calling \n",
    "\n",
    "#### With `bind_tools`\n",
    "Decide whether to save memories based on the conversation with the user."
   ]
  },
  {
   "cell_type": "code",
   "execution_count": 1,
   "metadata": {},
   "outputs": [],
   "source": [
    "from pydantic import BaseModel, Field\n",
    "\n",
    "# Define the memory schema\n",
    "class Memory(BaseModel):\n",
    "    \"\"\" Format of memories extracted from the conversation. \"\"\"\n",
    "    content: str = Field(description=\"The main content of the memory. For example: User expressed interest in learning about French.\")\n",
    "    context: str = Field(description=\"Additional context for the memory. For example: This was mentioned while discussing career options in Europe.\")"
   ]
  },
  {
   "cell_type": "code",
   "execution_count": 2,
   "metadata": {},
   "outputs": [],
   "source": [
    "from langchain_openai import ChatOpenAI\n",
    "\n",
    "# Initialize the model\n",
    "model = ChatOpenAI(model=\"gpt-4o\", temperature=0)"
   ]
  },
  {
   "cell_type": "code",
   "execution_count": 3,
   "metadata": {},
   "outputs": [],
   "source": [
    "# Bind Memory schema as a tool to the model\n",
    "model_with_tools = model.bind_tools([Memory])"
   ]
  },
  {
   "cell_type": "code",
   "execution_count": 45,
   "metadata": {},
   "outputs": [
    {
     "name": "stdout",
     "output_type": "stream",
     "text": [
      "==================================\u001b[1m Ai Message \u001b[0m==================================\n",
      "\n",
      "Hello! How can I assist you today?\n"
     ]
    }
   ],
   "source": [
    "from langchain_core.messages import HumanMessage\n",
    "\n",
    "# Invoke the model with general conversation\n",
    "output = model_with_tools.invoke([HumanMessage(\"Hi!\")])\n",
    "output.pretty_print()"
   ]
  },
  {
   "cell_type": "code",
   "execution_count": 46,
   "metadata": {},
   "outputs": [
    {
     "name": "stdout",
     "output_type": "stream",
     "text": [
      "==================================\u001b[1m Ai Message \u001b[0m==================================\n",
      "Tool Calls:\n",
      "  SaveMemory (call_sZG4bcHXxfTg2cXOC3Pd5DjV)\n",
      " Call ID: call_sZG4bcHXxfTg2cXOC3Pd5DjV\n",
      "  Args:\n",
      "    store_memories: True\n"
     ]
    }
   ],
   "source": [
    "# Invoke the model with personal information, which should trigger the tool call\n",
    "output = model_with_tools.invoke([HumanMessage(\"My name is Lance, I like to bike.\")])\n",
    "output.pretty_print()"
   ]
  },
  {
   "cell_type": "code",
   "execution_count": 101,
   "metadata": {},
   "outputs": [
    {
     "data": {
      "text/plain": [
       "{'name': 'SaveMemory',\n",
       " 'args': {'store_memories': True},\n",
       " 'id': 'call_sZG4bcHXxfTg2cXOC3Pd5DjV',\n",
       " 'type': 'tool_call'}"
      ]
     },
     "execution_count": 101,
     "metadata": {},
     "output_type": "execute_result"
    }
   ],
   "source": [
    "output.tool_calls[0] "
   ]
  },
  {
   "cell_type": "markdown",
   "metadata": {},
   "source": [
    "#### With `Trustcall`\n",
    "\n",
    "We can use [Trustcall](https://github.com/hinthornw/trustcall) as an extension of `bind_tools`.\n",
    "\n",
    "Before, we used `tool_choice=`, to enforces use of the the schema tool that we passed. \n",
    "\n",
    "In the context of an agent, we want to allow the model to choose whether to use the tool or not!\n",
    "\n",
    "So, we omit this. "
   ]
  },
  {
   "cell_type": "code",
   "execution_count": 17,
   "metadata": {},
   "outputs": [],
   "source": [
    "from trustcall import create_extractor\n",
    "\n",
    "# Create the extractor\n",
    "trustcall_extractor = create_extractor(\n",
    "    model,\n",
    "    tools=[Memory],\n",
    "    enable_inserts=True,\n",
    ")"
   ]
  },
  {
   "cell_type": "code",
   "execution_count": 53,
   "metadata": {},
   "outputs": [],
   "source": [
    "from langchain_core.messages import SystemMessage\n",
    "\n",
    "# Create instruction for the extractor\n",
    "instruction = \"\"\"You are are a helpful assistant. You have access to a memory tool. First call the memory tool if any personal information is mentioned. Then, once the memories are saved, respond to the user's message naturally.\"\"\"\n",
    "\n",
    "# Invoke the extractor\n",
    "result = trustcall_extractor.invoke({\"messages\": [SystemMessage(content=instruction), HumanMessage(\"Hi!\")]})"
   ]
  },
  {
   "cell_type": "code",
   "execution_count": 54,
   "metadata": {},
   "outputs": [
    {
     "name": "stdout",
     "output_type": "stream",
     "text": [
      "==================================\u001b[1m Ai Message \u001b[0m==================================\n",
      "\n",
      "Hello! How can I assist you today?\n"
     ]
    }
   ],
   "source": [
    "# Message from the model \n",
    "for m in result[\"messages\"]: \n",
    "    m.pretty_print()"
   ]
  },
  {
   "cell_type": "code",
   "execution_count": 55,
   "metadata": {},
   "outputs": [],
   "source": [
    "# The resulting schemas,if applicable (none in this case)\n",
    "for m in result[\"responses\"]: \n",
    "    print(m)"
   ]
  },
  {
   "cell_type": "markdown",
   "metadata": {},
   "source": [
    "Now, let's invoke the extractor with a message that contains personal information. "
   ]
  },
  {
   "cell_type": "code",
   "execution_count": 57,
   "metadata": {},
   "outputs": [],
   "source": [
    "# Invoke the extractor\n",
    "result = trustcall_extractor.invoke({\"messages\": [SystemMessage(content=instruction), HumanMessage(\"My name is Lance, I like to bike.\")]})"
   ]
  },
  {
   "cell_type": "code",
   "execution_count": 58,
   "metadata": {},
   "outputs": [
    {
     "name": "stdout",
     "output_type": "stream",
     "text": [
      "==================================\u001b[1m Ai Message \u001b[0m==================================\n",
      "Tool Calls:\n",
      "  Memory (call_oT9UcXzM9FYrBPZKIdmRUN84)\n",
      " Call ID: call_oT9UcXzM9FYrBPZKIdmRUN84\n",
      "  Args:\n",
      "    content: User's name is Lance.\n",
      "    context: User introduced themselves.\n",
      "  Memory (call_RQvw2im33gvxHIqFcNVUlFNh)\n",
      " Call ID: call_RQvw2im33gvxHIqFcNVUlFNh\n",
      "  Args:\n",
      "    content: User likes to bike.\n",
      "    context: User shared their hobbies.\n"
     ]
    }
   ],
   "source": [
    "# Messages from the model indicate two tool calls were made\n",
    "for m in result[\"messages\"]: \n",
    "    m.pretty_print()"
   ]
  },
  {
   "cell_type": "code",
   "execution_count": 96,
   "metadata": {},
   "outputs": [
    {
     "data": {
      "text/plain": [
       "[{'name': 'Memory',\n",
       "  'args': {'content': 'User likes to bike in Marin Headlands.',\n",
       "   'context': 'User shared their hobbies.'},\n",
       "  'id': 'call_JegriWiqzOMwCuuVpZWw4shQ',\n",
       "  'type': 'tool_call'},\n",
       " {'name': 'Memory',\n",
       "  'args': {'content': 'User likes to go to bakeries.',\n",
       "   'context': 'User shared their hobbies.'},\n",
       "  'id': 'call_M4r7EzCAEAPdJhEexjpgSAth',\n",
       "  'type': 'tool_call'}]"
      ]
     },
     "execution_count": 96,
     "metadata": {},
     "output_type": "execute_result"
    }
   ],
   "source": [
    "result[\"messages\"][0].tool_calls"
   ]
  },
  {
   "cell_type": "code",
   "execution_count": 91,
   "metadata": {},
   "outputs": [
    {
     "data": {
      "text/plain": [
       "[{'name': 'Memory',\n",
       "  'args': {'content': 'User likes to bike in Marin Headlands.',\n",
       "   'context': 'User shared their hobbies.'},\n",
       "  'id': 'call_JegriWiqzOMwCuuVpZWw4shQ',\n",
       "  'type': 'tool_call'},\n",
       " {'name': 'Memory',\n",
       "  'args': {'content': 'User likes to go to bakeries.',\n",
       "   'context': 'User shared their hobbies.'},\n",
       "  'id': 'call_M4r7EzCAEAPdJhEexjpgSAth',\n",
       "  'type': 'tool_call'}]"
      ]
     },
     "execution_count": 91,
     "metadata": {},
     "output_type": "execute_result"
    }
   ],
   "source": [
    "m.tool_calls"
   ]
  },
  {
   "cell_type": "code",
   "execution_count": 59,
   "metadata": {},
   "outputs": [
    {
     "name": "stdout",
     "output_type": "stream",
     "text": [
      "{'content': \"User's name is Lance.\", 'context': 'User introduced themselves.'}\n",
      "{'content': 'User likes to bike.', 'context': 'User shared their hobbies.'}\n"
     ]
    }
   ],
   "source": [
    "# We can see the resulting memories that are resolved from the tool calls\n",
    "for m in result[\"responses\"]: \n",
    "    print(m.model_dump(mode=\"json\"))\n"
   ]
  },
  {
   "cell_type": "code",
   "execution_count": 60,
   "metadata": {},
   "outputs": [
    {
     "data": {
      "text/plain": [
       "[('0',\n",
       "  'Memory',\n",
       "  {'content': \"User's name is Lance.\",\n",
       "   'context': 'User introduced themselves.'}),\n",
       " ('1',\n",
       "  'Memory',\n",
       "  {'content': 'User likes to bike.', 'context': 'User shared their hobbies.'})]"
      ]
     },
     "execution_count": 60,
     "metadata": {},
     "output_type": "execute_result"
    }
   ],
   "source": [
    "# We'll save these memories, giving them an ID, key, and value\n",
    "tool_name = \"Memory\"\n",
    "existing_memories = [(str(i), tool_name, memory.model_dump()) for i, memory in enumerate(result[\"responses\"])] if result[\"responses\"] else None\n",
    "existing_memories"
   ]
  },
  {
   "cell_type": "code",
   "execution_count": 78,
   "metadata": {},
   "outputs": [],
   "source": [
    "# Invoke the extractor with a follow-up message and pass in our existing memories\n",
    "result = trustcall_extractor.invoke({\"messages\": [HumanMessage(content=\"I like to bike in Marin Headlands. I also like to go to bakeries.\")], \n",
    "                                     \"existing\": existing_memories})"
   ]
  },
  {
   "cell_type": "code",
   "execution_count": 79,
   "metadata": {},
   "outputs": [
    {
     "data": {
      "text/plain": [
       "dict"
      ]
     },
     "execution_count": 79,
     "metadata": {},
     "output_type": "execute_result"
    }
   ],
   "source": [
    "type(result)"
   ]
  },
  {
   "cell_type": "code",
   "execution_count": 80,
   "metadata": {},
   "outputs": [
    {
     "name": "stdout",
     "output_type": "stream",
     "text": [
      "==================================\u001b[1m Ai Message \u001b[0m==================================\n",
      "Tool Calls:\n",
      "  Memory (call_JegriWiqzOMwCuuVpZWw4shQ)\n",
      " Call ID: call_JegriWiqzOMwCuuVpZWw4shQ\n",
      "  Args:\n",
      "    content: User likes to bike in Marin Headlands.\n",
      "    context: User shared their hobbies.\n",
      "  Memory (call_M4r7EzCAEAPdJhEexjpgSAth)\n",
      " Call ID: call_M4r7EzCAEAPdJhEexjpgSAth\n",
      "  Args:\n",
      "    content: User likes to go to bakeries.\n",
      "    context: User shared their hobbies.\n"
     ]
    }
   ],
   "source": [
    "# Messages from the model indicate two tool calls were made\n",
    "for m in result[\"messages\"]: \n",
    "    m.pretty_print()"
   ]
  },
  {
   "cell_type": "code",
   "execution_count": 71,
   "metadata": {},
   "outputs": [
    {
     "name": "stdout",
     "output_type": "stream",
     "text": [
      "{'content': 'User likes to bike in Marin Headlands.', 'context': 'User shared their hobbies.'}\n",
      "{'content': 'User likes to go to bakeries.', 'context': 'User shared their hobbies.'}\n"
     ]
    }
   ],
   "source": [
    "# We can see the resulting memories that are resolved from the tool calls\n",
    "for m in result[\"responses\"]: \n",
    "    print(m.model_dump(mode=\"json\"))\n"
   ]
  },
  {
   "cell_type": "markdown",
   "metadata": {},
   "source": [
    "We make an update to `existing_memories`."
   ]
  },
  {
   "cell_type": "code",
   "execution_count": 72,
   "metadata": {},
   "outputs": [
    {
     "name": "stdout",
     "output_type": "stream",
     "text": [
      "{'id': 'call_eao9zMXBA9Cm5ERlZWTjdW8p', 'json_doc_id': '1'}\n",
      "{'id': 'call_hU2zUDM3AJh2FHamY220d9m6'}\n"
     ]
    }
   ],
   "source": [
    "# We can see the resulting memories that are resolved from the tool calls\n",
    "for m in result[\"response_metadata\"]: \n",
    "    print(m)\n"
   ]
  },
  {
   "cell_type": "markdown",
   "metadata": {},
   "source": [
    "### React agent \n",
    "\n",
    "Decide whether to save memories based on the conversation with the user."
   ]
  },
  {
   "cell_type": "code",
   "execution_count": 102,
   "metadata": {},
   "outputs": [
    {
     "data": {
      "image/jpeg": "[encoded data removed]",
      "text/plain": [
       "<IPython.core.display.Image object>"
      ]
     },
     "metadata": {},
     "output_type": "display_data"
    }
   ],
   "source": [
    "from IPython.display import Image, display\n",
    "\n",
    "import uuid\n",
    "\n",
    "from datetime import datetime\n",
    "from dataclasses import dataclass\n",
    "\n",
    "from typing_extensions import Annotated\n",
    "\n",
    "from langchain_core.runnables import RunnableConfig\n",
    "from langchain_core.messages import merge_message_runs\n",
    "from langchain_core.messages import HumanMessage, SystemMessage, ToolMessage, AnyMessage\n",
    "\n",
    "from langgraph.graph import START, END, MessagesState, StateGraph\n",
    "from langgraph.checkpoint.memory import MemorySaver\n",
    "from langgraph.store.memory import InMemoryStore\n",
    "from langgraph.store.base import BaseStore\n",
    "\n",
    "# Schema for storing memories\n",
    "class Memory(BaseModel):\n",
    "    content: str = Field(description=\"The main content of the memory. For example: User expressed interest in learning about French.\")\n",
    "    context: str = Field(description=\"Additional context for the memory. For example: This was mentioned while discussing career options in Europe.\")\n",
    "\n",
    "# Create the Trustcall extractor\n",
    "trustcall_extractor = create_extractor(\n",
    "    model,\n",
    "    tools=[Memory],\n",
    "    enable_inserts=True,\n",
    ")\n",
    "\n",
    "class State(MessagesState):\n",
    "    extracted_memories: dict = {}\n",
    "\n",
    "# Node definitions\n",
    "def call_model(state: State, config: RunnableConfig, *, store: BaseStore) -> dict:\n",
    "\n",
    "    \"\"\"Load memories from the store and use them to personalize the chatbot's response.\"\"\"\n",
    "    \n",
    "    # Get the user ID from the config\n",
    "    user_id = config[\"configurable\"][\"user_id\"]\n",
    "\n",
    "    # Define the namespace for the memories\n",
    "    namespace = (\"memories\", user_id)\n",
    "\n",
    "    # Retrieve the most recent memories for context\n",
    "    existing_items = store.search(namespace)\n",
    "\n",
    "    # Format the existing memories for the Trustcall extractor\n",
    "    tool_name = \"Memory\"\n",
    "    existing_memories = ([(existing_item.key, tool_name, existing_item.value)\n",
    "                          for existing_item in existing_items]\n",
    "                          if existing_items\n",
    "                          else None\n",
    "                        )\n",
    "\n",
    "    system_msg = f\"\"\"You are are a helpful assistant. You have access to a memory tool. \n",
    "    First call the memory tool if any personal information is mentioned in the below conversation. \n",
    "    Then, once the memories are saved, respond to the user's message naturally.  \n",
    "    Use any existing memoried to personalize your responses.\n",
    "    Here are your memories (it may be empty): {existing_memories}\"\"\"\n",
    "\n",
    "    # Invoke the extractor with existing memories and the chat history\n",
    "    result = trustcall_extractor.invoke({\"messages\": [SystemMessage(content=system_msg)] + state[\"messages\"], \n",
    "                                         \"existing\": existing_memories})\n",
    "\n",
    "    # Trustcall output \n",
    "    trustcall_messages = result[\"messages\"] \n",
    "    trustcall_memories = result[\"responses\"]\n",
    "    trustcall_memories_metadata = result[\"response_metadata\"]\n",
    "\n",
    "    return {\"messages\": trustcall_messages, \"extracted_memories\": result}\n",
    "\n",
    "def store_memory(state: State, config: RunnableConfig, *, store: BaseStore):\n",
    "\n",
    "    \"\"\"Reflect on the chat history and update the memory collection.\"\"\"\n",
    "    \n",
    "    # Tool call to decide to save memories\n",
    "    trustcall_results = state['extracted_memories']\n",
    "\n",
    "    # List of tool calls\n",
    "    trustcall_tool_calls = trustcall_results[\"messages\"][0].tool_calls\n",
    "    # List of memories that were extracted from the tool calls\n",
    "    trustcall_memories = trustcall_results[\"responses\"]\n",
    "    # Metadata about the memories that were extracted from the tool calls\n",
    "    trustcall_memories_metadata = trustcall_results[\"response_metadata\"]\n",
    "\n",
    "    # Get the user ID from the config\n",
    "    user_id = config[\"configurable\"][\"user_id\"]\n",
    "\n",
    "    # Define the namespace for the memories\n",
    "    namespace = (\"memories\", user_id)\n",
    "\n",
    "    # Save the memories from Trustcall to the store\n",
    "    for r, rmeta in zip(trustcall_memories, trustcall_memories_metadata):\n",
    "        store.put(namespace,\n",
    "                  rmeta.get(\"json_doc_id\", str(uuid.uuid4())),\n",
    "                  r.model_dump(mode=\"json\"),\n",
    "            )\n",
    "\n",
    "    # Tool message to confirm Trustcall outputs were saved to store\n",
    "    trustcall_tool_confirmation = [\n",
    "        ToolMessage(content=mem, tool_call_id=tc[\"id\"])\n",
    "        for tc, mem in zip(trustcall_tool_calls, trustcall_memories)\n",
    "    ]\n",
    "\n",
    "    return {\"messages\": trustcall_tool_confirmation}\n",
    "\n",
    "# Conditional edge\n",
    "def route_message(state: State):\n",
    "\n",
    "    \"\"\"Determine the next step based on the presence of tool calls.\"\"\"\n",
    "\n",
    "    # Get the last message\n",
    "    msg = state['messages'][-1]\n",
    "\n",
    "    # If there is a tool call, the model has decided to save memories\n",
    "    if msg.tool_calls:\n",
    "        # Direct to the store_memory node to save the memories\n",
    "        return \"store_memory\"\n",
    "    # Otherwise, finish; user can send the next message\n",
    "    return END\n",
    "\n",
    "# Create the graph + all nodes\n",
    "builder = StateGraph(State)\n",
    "\n",
    "# Define the flow of the memory extraction process\n",
    "builder.add_node(call_model)\n",
    "builder.add_node(store_memory)\n",
    "builder.add_edge(\"__start__\", \"call_model\")\n",
    "builder.add_conditional_edges(\"call_model\", route_message, [\"store_memory\", END])\n",
    "builder.add_edge(\"store_memory\", \"call_model\")\n",
    "\n",
    "# Store for long-term (across-thread) memory\n",
    "across_thread_memory = InMemoryStore()\n",
    "\n",
    "# Checkpointer for short-term (within-thread) memory\n",
    "within_thread_memory = MemorySaver()\n",
    "\n",
    "# We compile the graph with the checkpointer and store\n",
    "graph = builder.compile(checkpointer=within_thread_memory, store=across_thread_memory)\n",
    "\n",
    "# View\n",
    "display(Image(graph.get_graph(xray=1).draw_mermaid_png()))"
   ]
  },
  {
   "cell_type": "code",
   "execution_count": 103,
   "metadata": {},
   "outputs": [
    {
     "name": "stdout",
     "output_type": "stream",
     "text": [
      "================================\u001b[1m Human Message \u001b[0m=================================\n",
      "\n",
      "Hi, my name is Lance\n",
      "==================================\u001b[1m Ai Message \u001b[0m==================================\n",
      "Tool Calls:\n",
      "  Memory (call_rWosGE2av1In75gmhjj9Zsb0)\n",
      " Call ID: call_rWosGE2av1In75gmhjj9Zsb0\n",
      "  Args:\n",
      "    content: User's name is Lance.\n",
      "    context: User introduced themselves.\n",
      "=================================\u001b[1m Tool Message \u001b[0m=================================\n",
      "\n",
      "content=\"User's name is Lance.\" context='User introduced themselves.'\n",
      "==================================\u001b[1m Ai Message \u001b[0m==================================\n",
      "Tool Calls:\n",
      "  Memory (call_FJnl1K2S3tN3gaPTS5KtpPCV)\n",
      " Call ID: call_FJnl1K2S3tN3gaPTS5KtpPCV\n",
      "  Args:\n",
      "    content: User's name is Lance.\n",
      "    context: User introduced themselves.\n",
      "=================================\u001b[1m Tool Message \u001b[0m=================================\n",
      "\n",
      "content=\"User's name is Lance.\" context='User introduced themselves.'\n",
      "==================================\u001b[1m Ai Message \u001b[0m==================================\n",
      "Tool Calls:\n",
      "  Memory (call_f9W0PfdGoIi5WpxTx4K0uXlF)\n",
      " Call ID: call_f9W0PfdGoIi5WpxTx4K0uXlF\n",
      "  Args:\n",
      "    content: User's name is Lance.\n",
      "    context: User introduced themselves.\n",
      "=================================\u001b[1m Tool Message \u001b[0m=================================\n",
      "\n",
      "content=\"User's name is Lance.\" context='User introduced themselves.'\n",
      "==================================\u001b[1m Ai Message \u001b[0m==================================\n",
      "Tool Calls:\n",
      "  Memory (call_L5ppw7BYIBx4aEKc8RgD9iLR)\n",
      " Call ID: call_L5ppw7BYIBx4aEKc8RgD9iLR\n",
      "  Args:\n",
      "    content: User's name is Lance.\n",
      "    context: User introduced themselves.\n",
      "=================================\u001b[1m Tool Message \u001b[0m=================================\n",
      "\n",
      "content=\"User's name is Lance.\" context='User introduced themselves.'\n",
      "==================================\u001b[1m Ai Message \u001b[0m==================================\n",
      "Tool Calls:\n",
      "  Memory (call_wFypTkHvMLP8SM6D41KdBtG8)\n",
      " Call ID: call_wFypTkHvMLP8SM6D41KdBtG8\n",
      "  Args:\n",
      "    content: User's name is Lance.\n",
      "    context: User introduced themselves.\n",
      "=================================\u001b[1m Tool Message \u001b[0m=================================\n",
      "\n",
      "content=\"User's name is Lance.\" context='User introduced themselves.'\n",
      "==================================\u001b[1m Ai Message \u001b[0m==================================\n",
      "Tool Calls:\n",
      "  Memory (call_IVoaCR3qEq5lV6Y3Yz3OQxlv)\n",
      " Call ID: call_IVoaCR3qEq5lV6Y3Yz3OQxlv\n",
      "  Args:\n",
      "    content: User's name is Lance.\n",
      "    context: User introduced themselves.\n",
      "=================================\u001b[1m Tool Message \u001b[0m=================================\n",
      "\n",
      "content=\"User's name is Lance.\" context='User introduced themselves.'\n",
      "==================================\u001b[1m Ai Message \u001b[0m==================================\n",
      "Tool Calls:\n",
      "  Memory (call_VAByR9w4CF1vrp4fsoFxN3Jc)\n",
      " Call ID: call_VAByR9w4CF1vrp4fsoFxN3Jc\n",
      "  Args:\n",
      "    content: User's name is Lance.\n",
      "    context: User introduced themselves.\n",
      "=================================\u001b[1m Tool Message \u001b[0m=================================\n",
      "\n",
      "content=\"User's name is Lance.\" context='User introduced themselves.'\n",
      "==================================\u001b[1m Ai Message \u001b[0m==================================\n",
      "Tool Calls:\n",
      "  Memory (call_pOI0OexFYucaSovE6F0UTVJM)\n",
      " Call ID: call_pOI0OexFYucaSovE6F0UTVJM\n",
      "  Args:\n",
      "    content: User's name is Lance.\n",
      "    context: User introduced themselves.\n",
      "=================================\u001b[1m Tool Message \u001b[0m=================================\n",
      "\n",
      "content=\"User's name is Lance.\" context='User introduced themselves.'\n",
      "==================================\u001b[1m Ai Message \u001b[0m==================================\n",
      "Tool Calls:\n",
      "  Memory (call_fEsjxuHywimVVfN2k5OB1mOQ)\n",
      " Call ID: call_fEsjxuHywimVVfN2k5OB1mOQ\n",
      "  Args:\n",
      "    content: User's name is Lance.\n",
      "    context: User introduced themselves.\n",
      "=================================\u001b[1m Tool Message \u001b[0m=================================\n",
      "\n",
      "content=\"User's name is Lance.\" context='User introduced themselves.'\n",
      "==================================\u001b[1m Ai Message \u001b[0m==================================\n",
      "Tool Calls:\n",
      "  Memory (call_7Mfotha7cnEd3HJTruIsYMzm)\n",
      " Call ID: call_7Mfotha7cnEd3HJTruIsYMzm\n",
      "  Args:\n",
      "    content: User's name is Lance.\n",
      "    context: User introduced themselves.\n",
      "=================================\u001b[1m Tool Message \u001b[0m=================================\n",
      "\n",
      "content=\"User's name is Lance.\" context='User introduced themselves.'\n",
      "==================================\u001b[1m Ai Message \u001b[0m==================================\n",
      "Tool Calls:\n",
      "  Memory (call_VtktjCGoU1RT3KNLbIDvzy88)\n",
      " Call ID: call_VtktjCGoU1RT3KNLbIDvzy88\n",
      "  Args:\n",
      "    content: User's name is Lance.\n",
      "    context: User introduced themselves.\n",
      "=================================\u001b[1m Tool Message \u001b[0m=================================\n",
      "\n",
      "content=\"User's name is Lance.\" context='User introduced themselves.'\n",
      "==================================\u001b[1m Ai Message \u001b[0m==================================\n",
      "Tool Calls:\n",
      "  Memory (call_whSQdbnHiFsziOuKrJnfnDwT)\n",
      " Call ID: call_whSQdbnHiFsziOuKrJnfnDwT\n",
      "  Args:\n",
      "    content: User's name is Lance.\n",
      "    context: User introduced themselves.\n",
      "=================================\u001b[1m Tool Message \u001b[0m=================================\n",
      "\n",
      "content=\"User's name is Lance.\" context='User introduced themselves.'\n",
      "==================================\u001b[1m Ai Message \u001b[0m==================================\n",
      "Tool Calls:\n",
      "  Memory (call_luuudVxeumsBRUwN2Ejgff48)\n",
      " Call ID: call_luuudVxeumsBRUwN2Ejgff48\n",
      "  Args:\n",
      "    content: User's name is Lance.\n",
      "    context: User introduced themselves.\n"
     ]
    },
    {
     "ename": "GraphRecursionError",
     "evalue": "Recursion limit of 25 reached without hitting a stop condition. You can increase the limit by setting the `recursion_limit` config key.\nFor troubleshooting, visit: https://python.langchain.com/docs/troubleshooting/errors/GRAPH_RECURSION_LIMIT",
     "output_type": "error",
     "traceback": [
      "\u001b[0;31m---------------------------------------------------------------------------\u001b[0m",
      "\u001b[0;31mGraphRecursionError\u001b[0m                       Traceback (most recent call last)",
      "Cell \u001b[0;32mIn[103], line 9\u001b[0m\n\u001b[1;32m      6\u001b[0m input_messages \u001b[38;5;241m=\u001b[39m [HumanMessage(content\u001b[38;5;241m=\u001b[39m\u001b[38;5;124m\"\u001b[39m\u001b[38;5;124mHi, my name is Lance\u001b[39m\u001b[38;5;124m\"\u001b[39m)]\n\u001b[1;32m      8\u001b[0m \u001b[38;5;66;03m# Run the graph\u001b[39;00m\n\u001b[0;32m----> 9\u001b[0m \u001b[38;5;28;43;01mfor\u001b[39;49;00m\u001b[43m \u001b[49m\u001b[43mchunk\u001b[49m\u001b[43m \u001b[49m\u001b[38;5;129;43;01min\u001b[39;49;00m\u001b[43m \u001b[49m\u001b[43mgraph\u001b[49m\u001b[38;5;241;43m.\u001b[39;49m\u001b[43mstream\u001b[49m\u001b[43m(\u001b[49m\u001b[43m{\u001b[49m\u001b[38;5;124;43m\"\u001b[39;49m\u001b[38;5;124;43mmessages\u001b[39;49m\u001b[38;5;124;43m\"\u001b[39;49m\u001b[43m:\u001b[49m\u001b[43m \u001b[49m\u001b[43minput_messages\u001b[49m\u001b[43m}\u001b[49m\u001b[43m,\u001b[49m\u001b[43m \u001b[49m\u001b[43mconfig\u001b[49m\u001b[43m,\u001b[49m\u001b[43m \u001b[49m\u001b[43mstream_mode\u001b[49m\u001b[38;5;241;43m=\u001b[39;49m\u001b[38;5;124;43m\"\u001b[39;49m\u001b[38;5;124;43mvalues\u001b[39;49m\u001b[38;5;124;43m\"\u001b[39;49m\u001b[43m)\u001b[49m\u001b[43m:\u001b[49m\n\u001b[1;32m     10\u001b[0m \u001b[43m    \u001b[49m\u001b[43mchunk\u001b[49m\u001b[43m[\u001b[49m\u001b[38;5;124;43m\"\u001b[39;49m\u001b[38;5;124;43mmessages\u001b[39;49m\u001b[38;5;124;43m\"\u001b[39;49m\u001b[43m]\u001b[49m\u001b[43m[\u001b[49m\u001b[38;5;241;43m-\u001b[39;49m\u001b[38;5;241;43m1\u001b[39;49m\u001b[43m]\u001b[49m\u001b[38;5;241;43m.\u001b[39;49m\u001b[43mpretty_print\u001b[49m\u001b[43m(\u001b[49m\u001b[43m)\u001b[49m\n",
      "File \u001b[0;32m~/Desktop/Code/langchain-academy/lc-academy-env/lib/python3.11/site-packages/langgraph/pregel/__init__.py:1335\u001b[0m, in \u001b[0;36mPregel.stream\u001b[0;34m(self, input, config, stream_mode, output_keys, interrupt_before, interrupt_after, debug, subgraphs)\u001b[0m\n\u001b[1;32m   1326\u001b[0m \u001b[38;5;28;01mif\u001b[39;00m loop\u001b[38;5;241m.\u001b[39mstatus \u001b[38;5;241m==\u001b[39m \u001b[38;5;124m\"\u001b[39m\u001b[38;5;124mout_of_steps\u001b[39m\u001b[38;5;124m\"\u001b[39m:\n\u001b[1;32m   1327\u001b[0m     msg \u001b[38;5;241m=\u001b[39m create_error_message(\n\u001b[1;32m   1328\u001b[0m         message\u001b[38;5;241m=\u001b[39m(\n\u001b[1;32m   1329\u001b[0m             \u001b[38;5;124mf\u001b[39m\u001b[38;5;124m\"\u001b[39m\u001b[38;5;124mRecursion limit of \u001b[39m\u001b[38;5;132;01m{\u001b[39;00mconfig[\u001b[38;5;124m'\u001b[39m\u001b[38;5;124mrecursion_limit\u001b[39m\u001b[38;5;124m'\u001b[39m]\u001b[38;5;132;01m}\u001b[39;00m\u001b[38;5;124m reached \u001b[39m\u001b[38;5;124m\"\u001b[39m\n\u001b[0;32m   (...)\u001b[0m\n\u001b[1;32m   1333\u001b[0m         error_code\u001b[38;5;241m=\u001b[39mErrorCode\u001b[38;5;241m.\u001b[39mGRAPH_RECURSION_LIMIT,\n\u001b[1;32m   1334\u001b[0m     )\n\u001b[0;32m-> 1335\u001b[0m     \u001b[38;5;28;01mraise\u001b[39;00m GraphRecursionError(msg)\n\u001b[1;32m   1336\u001b[0m \u001b[38;5;66;03m# set final channel values as run output\u001b[39;00m\n\u001b[1;32m   1337\u001b[0m run_manager\u001b[38;5;241m.\u001b[39mon_chain_end(loop\u001b[38;5;241m.\u001b[39moutput)\n",
      "\u001b[0;31mGraphRecursionError\u001b[0m: Recursion limit of 25 reached without hitting a stop condition. You can increase the limit by setting the `recursion_limit` config key.\nFor troubleshooting, visit: https://python.langchain.com/docs/troubleshooting/errors/GRAPH_RECURSION_LIMIT"
     ]
    }
   ],
   "source": [
    "# We supply a thread ID for short-term (within-thread) memory\n",
    "# We supply a user ID for long-term (across-thread) memory \n",
    "config = {\"configurable\": {\"thread_id\": \"1\", \"user_id\": \"1\"}}\n",
    "\n",
    "# User input \n",
    "input_messages = [HumanMessage(content=\"Hi, my name is Lance\")]\n",
    "\n",
    "# Run the graph\n",
    "for chunk in graph.stream({\"messages\": input_messages}, config, stream_mode=\"values\"):\n",
    "    chunk[\"messages\"][-1].pretty_print()"
   ]
  },
  {
   "cell_type": "code",
   "execution_count": 30,
   "metadata": {},
   "outputs": [
    {
     "name": "stdout",
     "output_type": "stream",
     "text": [
      "================================\u001b[1m Human Message \u001b[0m=================================\n",
      "\n",
      "I like to bike around San Francisco\n",
      "==================================\u001b[1m Ai Message \u001b[0m==================================\n",
      "\n",
      "That sounds like a lot of fun! San Francisco has some beautiful routes for biking. Do you have a favorite trail or area you like to explore?\n"
     ]
    }
   ],
   "source": [
    "# User input \n",
    "input_messages = [HumanMessage(content=\"I like to bike around San Francisco\")]\n",
    "\n",
    "# Run the graph\n",
    "for chunk in graph.stream({\"messages\": input_messages}, config, stream_mode=\"values\"):\n",
    "    chunk[\"messages\"][-1].pretty_print()"
   ]
  },
  {
   "cell_type": "code",
   "execution_count": 27,
   "metadata": {},
   "outputs": [
    {
     "name": "stdout",
     "output_type": "stream",
     "text": [
      "================================\u001b[1m Human Message \u001b[0m=================================\n",
      "\n",
      "Today I went biking in Marin Headlands\n",
      "==================================\u001b[1m Ai Message \u001b[0m==================================\n",
      "\n",
      "The Marin Headlands are stunning! The views of the Golden Gate Bridge and the ocean are incredible. Did you have a favorite spot or moment from your ride today?\n"
     ]
    }
   ],
   "source": [
    "# User input \n",
    "input_messages = [HumanMessage(content=\"Today I went biking in Marin Headlands\")]\n",
    "\n",
    "# Run the graph\n",
    "for chunk in graph.stream({\"messages\": input_messages}, config, stream_mode=\"values\"):\n",
    "    chunk[\"messages\"][-1].pretty_print()"
   ]
  },
  {
   "cell_type": "code",
   "execution_count": null,
   "metadata": {},
   "outputs": [],
   "source": []
  }
 ],
 "metadata": {
  "kernelspec": {
   "display_name": "lc-academy-env",
   "language": "python",
   "name": "python3"
  },
  "language_info": {
   "codemirror_mode": {
    "name": "ipython",
    "version": 3
   },
   "file_extension": ".py",
   "mimetype": "text/x-python",
   "name": "python",
   "nbconvert_exporter": "python",
   "pygments_lexer": "ipython3",
   "version": "3.11.8"
  }
 },
 "nbformat": 4,
 "nbformat_minor": 2
}
